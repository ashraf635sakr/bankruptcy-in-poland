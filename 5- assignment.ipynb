{
 "cells": [
  {
   "cell_type": "markdown",
   "id": "2b8bd827",
   "metadata": {},
   "source": [
    "<font size=\"+3\"><strong> Bankruptcy in Taiwan 🇹🇼</strong></font>"
   ]
  },
  {
   "cell_type": "code",
   "execution_count": 2,
   "id": "966b1b59",
   "metadata": {},
   "outputs": [],
   "source": [
    "# Import libraries here\n",
    "import gzip\n",
    "import json\n",
    "import pickle\n",
    "import matplotlib.pyplot as plt\n",
    "import ipywidgets as widgets\n",
    "import pandas as pd\n",
    "import wqet_grader\n",
    "from imblearn.over_sampling import RandomOverSampler\n",
    "from ipywidgets import interact\n",
    "from sklearn.ensemble import GradientBoostingClassifier\n",
    "from sklearn.impute import SimpleImputer\n",
    "from sklearn.metrics import (\n",
    "    ConfusionMatrixDisplay,\n",
    "    classification_report,\n",
    "    confusion_matrix,\n",
    ")\n",
    "from sklearn.model_selection import GridSearchCV, cross_val_score, train_test_split\n",
    "from sklearn.pipeline import make_pipeline\n",
    "from teaching_tools.widgets import ConfusionMatrixWidget"
   ]
  },
  {
   "cell_type": "markdown",
   "id": "ca2ed43d",
   "metadata": {},
   "source": [
    "# Prepare Data"
   ]
  },
  {
   "cell_type": "markdown",
   "id": "8ffa700c",
   "metadata": {},
   "source": [
    "## Import"
   ]
  },
  {
   "cell_type": "markdown",
   "id": "542cb1de",
   "metadata": {},
   "source": [
    "**Task 5.5.1:** Load the contents of the `\"data/taiwan-bankruptcy-data.json.gz\"` and assign it to the variable <code>taiwan_data</code>. \n",
    "​\n"
   ]
  },
  {
   "cell_type": "code",
   "execution_count": 3,
   "id": "8f5631bf",
   "metadata": {},
   "outputs": [
    {
     "name": "stdout",
     "output_type": "stream",
     "text": [
      "<class 'dict'>\n"
     ]
    }
   ],
   "source": [
    "# Load data file\n",
    "with gzip.open(\"data/taiwan-bankruptcy-data.json.gz\",\"r\") as f:\n",
    "        taiwan_data = json.load(f)\n",
    "print(type(taiwan_data))"
   ]
  },
  {
   "cell_type": "markdown",
   "id": "d4b4f672",
   "metadata": {},
   "source": [
    "**Task 5.5.2:** Extract the key names from <code>taiwan_data</code> and assign them to the variable <code>taiwan_data_keys</code>."
   ]
  },
  {
   "cell_type": "code",
   "execution_count": 4,
   "id": "70a04f35",
   "metadata": {},
   "outputs": [
    {
     "name": "stdout",
     "output_type": "stream",
     "text": [
      "dict_keys(['schema', 'observations', 'metadata'])\n"
     ]
    }
   ],
   "source": [
    "taiwan_data_keys = taiwan_data.keys()\n",
    "print(taiwan_data_keys)"
   ]
  },
  {
   "cell_type": "markdown",
   "id": "181c6d4e",
   "metadata": {},
   "source": [
    "**Task 5.5.3:** Calculate how many companies are in `taiwan_data` and assign the result to `n_companies`. "
   ]
  },
  {
   "cell_type": "code",
   "execution_count": 5,
   "id": "eeaf809a",
   "metadata": {},
   "outputs": [
    {
     "name": "stdout",
     "output_type": "stream",
     "text": [
      "97\n"
     ]
    }
   ],
   "source": [
    "n_features = len(taiwan_data[\"observations\"][0])\n",
    "print(n_features)"
   ]
  },
  {
   "cell_type": "markdown",
   "id": "812b0650",
   "metadata": {},
   "source": [
    "**Task 5.5.5:** Create a `wrangle` function that takes as input the path of a compressed JSON file and returns the file's contents as a DataFrame. Be sure that the index of the DataFrame contains the ID of the companies. When your function is complete, use it to load the data into the DataFrame `df`."
   ]
  },
  {
   "cell_type": "code",
   "execution_count": 15,
   "id": "14ca6402",
   "metadata": {},
   "outputs": [],
   "source": [
    "# Create wrangle function\n",
    "def wrangle(filename):\n",
    "    \n",
    "    # Open compressed file, load into dictionary\n",
    "    with gzip.open(filename,\"r\") as f:\n",
    "        data = json.load(f)\n",
    "    # Load dictionary into DataFrame, set index\n",
    "    df=pd.DataFrame.from_dict(data[\"observations\"]).set_index(\"id\")\n",
    "    return df"
   ]
  },
  {
   "cell_type": "code",
   "execution_count": 24,
   "id": "2d1432f9",
   "metadata": {},
   "outputs": [
    {
     "name": "stdout",
     "output_type": "stream",
     "text": [
      "df shape: (6137, 96)\n"
     ]
    },
    {
     "data": {
      "text/html": [
       "<div>\n",
       "<style scoped>\n",
       "    .dataframe tbody tr th:only-of-type {\n",
       "        vertical-align: middle;\n",
       "    }\n",
       "\n",
       "    .dataframe tbody tr th {\n",
       "        vertical-align: top;\n",
       "    }\n",
       "\n",
       "    .dataframe thead th {\n",
       "        text-align: right;\n",
       "    }\n",
       "</style>\n",
       "<table border=\"1\" class=\"dataframe\">\n",
       "  <thead>\n",
       "    <tr style=\"text-align: right;\">\n",
       "      <th></th>\n",
       "      <th>bankrupt</th>\n",
       "      <th>Attr_1</th>\n",
       "      <th>Attr_2</th>\n",
       "      <th>Attr_3</th>\n",
       "      <th>Attr_4</th>\n",
       "      <th>Attr_5</th>\n",
       "      <th>Attr_6</th>\n",
       "      <th>Attr_7</th>\n",
       "      <th>Attr_8</th>\n",
       "      <th>Attr_9</th>\n",
       "      <th>...</th>\n",
       "      <th>Attr_86</th>\n",
       "      <th>Attr_87</th>\n",
       "      <th>Attr_88</th>\n",
       "      <th>Attr_89</th>\n",
       "      <th>Attr_90</th>\n",
       "      <th>Attr_91</th>\n",
       "      <th>Attr_92</th>\n",
       "      <th>Attr_93</th>\n",
       "      <th>Attr_94</th>\n",
       "      <th>Attr_95</th>\n",
       "    </tr>\n",
       "    <tr>\n",
       "      <th>id</th>\n",
       "      <th></th>\n",
       "      <th></th>\n",
       "      <th></th>\n",
       "      <th></th>\n",
       "      <th></th>\n",
       "      <th></th>\n",
       "      <th></th>\n",
       "      <th></th>\n",
       "      <th></th>\n",
       "      <th></th>\n",
       "      <th></th>\n",
       "      <th></th>\n",
       "      <th></th>\n",
       "      <th></th>\n",
       "      <th></th>\n",
       "      <th></th>\n",
       "      <th></th>\n",
       "      <th></th>\n",
       "      <th></th>\n",
       "      <th></th>\n",
       "      <th></th>\n",
       "    </tr>\n",
       "  </thead>\n",
       "  <tbody>\n",
       "    <tr>\n",
       "      <th>1</th>\n",
       "      <td>True</td>\n",
       "      <td>0.370594</td>\n",
       "      <td>0.424389</td>\n",
       "      <td>0.405750</td>\n",
       "      <td>0.601457</td>\n",
       "      <td>0.601457</td>\n",
       "      <td>0.998969</td>\n",
       "      <td>0.796887</td>\n",
       "      <td>0.808809</td>\n",
       "      <td>0.302646</td>\n",
       "      <td>...</td>\n",
       "      <td>0.716845</td>\n",
       "      <td>0.009219</td>\n",
       "      <td>0.622879</td>\n",
       "      <td>0.601453</td>\n",
       "      <td>0.827890</td>\n",
       "      <td>0.290202</td>\n",
       "      <td>0.026601</td>\n",
       "      <td>0.564050</td>\n",
       "      <td>1</td>\n",
       "      <td>0.016469</td>\n",
       "    </tr>\n",
       "    <tr>\n",
       "      <th>2</th>\n",
       "      <td>True</td>\n",
       "      <td>0.464291</td>\n",
       "      <td>0.538214</td>\n",
       "      <td>0.516730</td>\n",
       "      <td>0.610235</td>\n",
       "      <td>0.610235</td>\n",
       "      <td>0.998946</td>\n",
       "      <td>0.797380</td>\n",
       "      <td>0.809301</td>\n",
       "      <td>0.303556</td>\n",
       "      <td>...</td>\n",
       "      <td>0.795297</td>\n",
       "      <td>0.008323</td>\n",
       "      <td>0.623652</td>\n",
       "      <td>0.610237</td>\n",
       "      <td>0.839969</td>\n",
       "      <td>0.283846</td>\n",
       "      <td>0.264577</td>\n",
       "      <td>0.570175</td>\n",
       "      <td>1</td>\n",
       "      <td>0.020794</td>\n",
       "    </tr>\n",
       "    <tr>\n",
       "      <th>3</th>\n",
       "      <td>True</td>\n",
       "      <td>0.426071</td>\n",
       "      <td>0.499019</td>\n",
       "      <td>0.472295</td>\n",
       "      <td>0.601450</td>\n",
       "      <td>0.601364</td>\n",
       "      <td>0.998857</td>\n",
       "      <td>0.796403</td>\n",
       "      <td>0.808388</td>\n",
       "      <td>0.302035</td>\n",
       "      <td>...</td>\n",
       "      <td>0.774670</td>\n",
       "      <td>0.040003</td>\n",
       "      <td>0.623841</td>\n",
       "      <td>0.601449</td>\n",
       "      <td>0.836774</td>\n",
       "      <td>0.290189</td>\n",
       "      <td>0.026555</td>\n",
       "      <td>0.563706</td>\n",
       "      <td>1</td>\n",
       "      <td>0.016474</td>\n",
       "    </tr>\n",
       "    <tr>\n",
       "      <th>4</th>\n",
       "      <td>True</td>\n",
       "      <td>0.399844</td>\n",
       "      <td>0.451265</td>\n",
       "      <td>0.457733</td>\n",
       "      <td>0.583541</td>\n",
       "      <td>0.583541</td>\n",
       "      <td>0.998700</td>\n",
       "      <td>0.796967</td>\n",
       "      <td>0.808966</td>\n",
       "      <td>0.303350</td>\n",
       "      <td>...</td>\n",
       "      <td>0.739555</td>\n",
       "      <td>0.003252</td>\n",
       "      <td>0.622929</td>\n",
       "      <td>0.583538</td>\n",
       "      <td>0.834697</td>\n",
       "      <td>0.281721</td>\n",
       "      <td>0.026697</td>\n",
       "      <td>0.564663</td>\n",
       "      <td>1</td>\n",
       "      <td>0.023982</td>\n",
       "    </tr>\n",
       "    <tr>\n",
       "      <th>5</th>\n",
       "      <td>True</td>\n",
       "      <td>0.465022</td>\n",
       "      <td>0.538432</td>\n",
       "      <td>0.522298</td>\n",
       "      <td>0.598783</td>\n",
       "      <td>0.598783</td>\n",
       "      <td>0.998973</td>\n",
       "      <td>0.797366</td>\n",
       "      <td>0.809304</td>\n",
       "      <td>0.303475</td>\n",
       "      <td>...</td>\n",
       "      <td>0.795016</td>\n",
       "      <td>0.003878</td>\n",
       "      <td>0.623521</td>\n",
       "      <td>0.598782</td>\n",
       "      <td>0.839973</td>\n",
       "      <td>0.278514</td>\n",
       "      <td>0.024752</td>\n",
       "      <td>0.575617</td>\n",
       "      <td>1</td>\n",
       "      <td>0.035490</td>\n",
       "    </tr>\n",
       "  </tbody>\n",
       "</table>\n",
       "<p>5 rows × 96 columns</p>\n",
       "</div>"
      ],
      "text/plain": [
       "    bankrupt    Attr_1    Attr_2    Attr_3    Attr_4    Attr_5    Attr_6  \\\n",
       "id                                                                         \n",
       "1       True  0.370594  0.424389  0.405750  0.601457  0.601457  0.998969   \n",
       "2       True  0.464291  0.538214  0.516730  0.610235  0.610235  0.998946   \n",
       "3       True  0.426071  0.499019  0.472295  0.601450  0.601364  0.998857   \n",
       "4       True  0.399844  0.451265  0.457733  0.583541  0.583541  0.998700   \n",
       "5       True  0.465022  0.538432  0.522298  0.598783  0.598783  0.998973   \n",
       "\n",
       "      Attr_7    Attr_8    Attr_9  ...   Attr_86   Attr_87   Attr_88   Attr_89  \\\n",
       "id                                ...                                           \n",
       "1   0.796887  0.808809  0.302646  ...  0.716845  0.009219  0.622879  0.601453   \n",
       "2   0.797380  0.809301  0.303556  ...  0.795297  0.008323  0.623652  0.610237   \n",
       "3   0.796403  0.808388  0.302035  ...  0.774670  0.040003  0.623841  0.601449   \n",
       "4   0.796967  0.808966  0.303350  ...  0.739555  0.003252  0.622929  0.583538   \n",
       "5   0.797366  0.809304  0.303475  ...  0.795016  0.003878  0.623521  0.598782   \n",
       "\n",
       "     Attr_90   Attr_91   Attr_92   Attr_93  Attr_94   Attr_95  \n",
       "id                                                             \n",
       "1   0.827890  0.290202  0.026601  0.564050        1  0.016469  \n",
       "2   0.839969  0.283846  0.264577  0.570175        1  0.020794  \n",
       "3   0.836774  0.290189  0.026555  0.563706        1  0.016474  \n",
       "4   0.834697  0.281721  0.026697  0.564663        1  0.023982  \n",
       "5   0.839973  0.278514  0.024752  0.575617        1  0.035490  \n",
       "\n",
       "[5 rows x 96 columns]"
      ]
     },
     "execution_count": 24,
     "metadata": {},
     "output_type": "execute_result"
    }
   ],
   "source": [
    "df = wrangle(\"data/taiwan-bankruptcy-data.json.gz\")\n",
    "print(\"df shape:\", df.shape)\n",
    "df.head()"
   ]
  },
  {
   "cell_type": "code",
   "execution_count": 25,
   "id": "a5aabd96",
   "metadata": {},
   "outputs": [
    {
     "data": {
      "text/plain": [
       "False    5943\n",
       "True      194\n",
       "Name: bankrupt, dtype: int64"
      ]
     },
     "execution_count": 25,
     "metadata": {},
     "output_type": "execute_result"
    }
   ],
   "source": [
    "df[\"bankrupt\"].value_counts()"
   ]
  },
  {
   "cell_type": "markdown",
   "id": "10cb717c",
   "metadata": {},
   "source": [
    "## Explore"
   ]
  },
  {
   "cell_type": "markdown",
   "id": "4b16e059",
   "metadata": {},
   "source": [
    "**Task 5.5.6:** Is there any missing data in the dataset? Create a Series where the index contains the name of the columns in `df` and the values are the number of <code>NaN</code>s in each column. Assign the result to <code>nans_by_col</code>. Neither the Series itself nor its index require a name. "
   ]
  },
  {
   "cell_type": "code",
   "execution_count": 8,
   "id": "c3ff48da",
   "metadata": {},
   "outputs": [
    {
     "data": {
      "text/plain": [
       "bankrupt    0\n",
       "Attr_1      0\n",
       "Attr_2      0\n",
       "Attr_3      0\n",
       "Attr_4      0\n",
       "           ..\n",
       "Attr_91     0\n",
       "Attr_92     0\n",
       "Attr_93     0\n",
       "Attr_94     0\n",
       "Attr_95     0\n",
       "Length: 96, dtype: int64"
      ]
     },
     "execution_count": 8,
     "metadata": {},
     "output_type": "execute_result"
    }
   ],
   "source": [
    "df.isnull().sum()"
   ]
  },
  {
   "cell_type": "code",
   "execution_count": 9,
   "id": "bdd4f693",
   "metadata": {},
   "outputs": [
    {
     "name": "stdout",
     "output_type": "stream",
     "text": [
      "nans_by_col shape: (96,)\n"
     ]
    },
    {
     "data": {
      "text/plain": [
       "bankrupt    0\n",
       "Attr_1      0\n",
       "Attr_2      0\n",
       "Attr_3      0\n",
       "Attr_4      0\n",
       "dtype: int64"
      ]
     },
     "execution_count": 9,
     "metadata": {},
     "output_type": "execute_result"
    }
   ],
   "source": [
    "nans_by_col = pd.Series(df.isnull().sum())\n",
    "print(\"nans_by_col shape:\", nans_by_col.shape)\n",
    "nans_by_col.head()"
   ]
  },
  {
   "cell_type": "markdown",
   "id": "b1a71bd8",
   "metadata": {},
   "source": [
    "**Task 5.5.7:** Is the data imbalanced? Create a bar chart that shows the normalized value counts for the column `df[\"bankrupt\"]`. Be sure to label your x-axis `\"Bankrupt\"`, your y-axis `\"Frequency\"`, and use the title `\"Class Balance\"`."
   ]
  },
  {
   "cell_type": "code",
   "execution_count": 26,
   "id": "c468463d",
   "metadata": {},
   "outputs": [
    {
     "data": {
      "text/plain": [
       "<AxesSubplot:title={'center':'class balance'}, xlabel='bankrupt', ylabel='frequency'>"
      ]
     },
     "execution_count": 26,
     "metadata": {},
     "output_type": "execute_result"
    },
    {
     "data": {
      "image/png": "[encoded data removed]",
      "text/plain": [
       "<Figure size 432x288 with 1 Axes>"
      ]
     },
     "metadata": {
      "needs_background": "light"
     },
     "output_type": "display_data"
    }
   ],
   "source": [
    "# Plot class balance\n",
    "df[\"bankrupt\"].value_counts(normalize=True).plot(\n",
    "    kind =\"bar\",\n",
    "    xlabel=\"bankrupt\",\n",
    "    ylabel=\"frequency\",\n",
    "    title=\"class balance\"\n",
    ")"
   ]
  },
  {
   "cell_type": "markdown",
   "id": "e65cdabb",
   "metadata": {},
   "source": [
    "## Split"
   ]
  },
  {
   "cell_type": "markdown",
   "id": "2affc35e",
   "metadata": {},
   "source": [
    "**Task 5.5.8:** Create your feature matrix `X` and target vector `y`. Your target is `\"bankrupt\"`. "
   ]
  },
  {
   "cell_type": "code",
   "execution_count": 27,
   "id": "701f27d9",
   "metadata": {},
   "outputs": [
    {
     "name": "stdout",
     "output_type": "stream",
     "text": [
      "X shape: (6137, 95)\n",
      "y shape: (6137,)\n"
     ]
    }
   ],
   "source": [
    "target = \"bankrupt\"\n",
    "X = df.drop(columns=\"bankrupt\")\n",
    "y = df[target]\n",
    "\n",
    "print(\"X shape:\", X.shape)\n",
    "print(\"y shape:\", y.shape)"
   ]
  },
  {
   "cell_type": "markdown",
   "id": "758d22ab",
   "metadata": {},
   "source": [
    "**Task 5.5.9:** Divide your dataset into training and test sets using a randomized split. Your test set should be 20% of your data. Be sure to set `random_state` to `42`."
   ]
  },
  {
   "cell_type": "code",
   "execution_count": 28,
   "id": "78e0d770",
   "metadata": {},
   "outputs": [
    {
     "name": "stdout",
     "output_type": "stream",
     "text": [
      "X_train shape: (4909, 95)\n",
      "y_train shape: (4909,)\n",
      "X_test shape: (1228, 95)\n",
      "y_test shape: (1228,)\n"
     ]
    }
   ],
   "source": [
    "X_train, X_test, y_train, y_test = train_test_split(\n",
    "    X,y,test_size=0.2 , random_state=42\n",
    ")\n",
    "print(\"X_train shape:\", X_train.shape)\n",
    "print(\"y_train shape:\", y_train.shape)\n",
    "print(\"X_test shape:\", X_test.shape)\n",
    "print(\"y_test shape:\", y_test.shape)"
   ]
  },
  {
   "cell_type": "markdown",
   "id": "42586518",
   "metadata": {},
   "source": [
    "## Resample"
   ]
  },
  {
   "cell_type": "markdown",
   "id": "c9be9e59",
   "metadata": {},
   "source": [
    "**Task 5.5.10:** Create a new feature matrix `X_train_over` and target vector `y_train_over` by performing random over-sampling on the training data. Be sure to set the `random_state` to `42`."
   ]
  },
  {
   "cell_type": "code",
   "execution_count": 29,
   "id": "d7277f24",
   "metadata": {},
   "outputs": [
    {
     "name": "stdout",
     "output_type": "stream",
     "text": [
      "X_train_over shape: (9506, 95)\n"
     ]
    },
    {
     "data": {
      "text/html": [
       "<div>\n",
       "<style scoped>\n",
       "    .dataframe tbody tr th:only-of-type {\n",
       "        vertical-align: middle;\n",
       "    }\n",
       "\n",
       "    .dataframe tbody tr th {\n",
       "        vertical-align: top;\n",
       "    }\n",
       "\n",
       "    .dataframe thead th {\n",
       "        text-align: right;\n",
       "    }\n",
       "</style>\n",
       "<table border=\"1\" class=\"dataframe\">\n",
       "  <thead>\n",
       "    <tr style=\"text-align: right;\">\n",
       "      <th></th>\n",
       "      <th>Attr_1</th>\n",
       "      <th>Attr_2</th>\n",
       "      <th>Attr_3</th>\n",
       "      <th>Attr_4</th>\n",
       "      <th>Attr_5</th>\n",
       "      <th>Attr_6</th>\n",
       "      <th>Attr_7</th>\n",
       "      <th>Attr_8</th>\n",
       "      <th>Attr_9</th>\n",
       "      <th>Attr_10</th>\n",
       "      <th>...</th>\n",
       "      <th>Attr_86</th>\n",
       "      <th>Attr_87</th>\n",
       "      <th>Attr_88</th>\n",
       "      <th>Attr_89</th>\n",
       "      <th>Attr_90</th>\n",
       "      <th>Attr_91</th>\n",
       "      <th>Attr_92</th>\n",
       "      <th>Attr_93</th>\n",
       "      <th>Attr_94</th>\n",
       "      <th>Attr_95</th>\n",
       "    </tr>\n",
       "  </thead>\n",
       "  <tbody>\n",
       "    <tr>\n",
       "      <th>0</th>\n",
       "      <td>0.506167</td>\n",
       "      <td>0.568360</td>\n",
       "      <td>0.553563</td>\n",
       "      <td>0.595158</td>\n",
       "      <td>0.595187</td>\n",
       "      <td>0.998984</td>\n",
       "      <td>0.797402</td>\n",
       "      <td>0.809323</td>\n",
       "      <td>0.303514</td>\n",
       "      <td>0.781581</td>\n",
       "      <td>...</td>\n",
       "      <td>0.811337</td>\n",
       "      <td>0.001729</td>\n",
       "      <td>0.623492</td>\n",
       "      <td>0.595156</td>\n",
       "      <td>0.841980</td>\n",
       "      <td>0.286225</td>\n",
       "      <td>0.026981</td>\n",
       "      <td>0.565927</td>\n",
       "      <td>1</td>\n",
       "      <td>0.018617</td>\n",
       "    </tr>\n",
       "    <tr>\n",
       "      <th>1</th>\n",
       "      <td>0.468678</td>\n",
       "      <td>0.497928</td>\n",
       "      <td>0.521548</td>\n",
       "      <td>0.587714</td>\n",
       "      <td>0.587714</td>\n",
       "      <td>0.998757</td>\n",
       "      <td>0.797179</td>\n",
       "      <td>0.809117</td>\n",
       "      <td>0.303599</td>\n",
       "      <td>0.781363</td>\n",
       "      <td>...</td>\n",
       "      <td>0.774070</td>\n",
       "      <td>0.006710</td>\n",
       "      <td>0.624140</td>\n",
       "      <td>0.587714</td>\n",
       "      <td>0.838442</td>\n",
       "      <td>0.278596</td>\n",
       "      <td>0.026640</td>\n",
       "      <td>0.564319</td>\n",
       "      <td>1</td>\n",
       "      <td>0.034963</td>\n",
       "    </tr>\n",
       "    <tr>\n",
       "      <th>2</th>\n",
       "      <td>0.543265</td>\n",
       "      <td>0.589730</td>\n",
       "      <td>0.602923</td>\n",
       "      <td>0.611049</td>\n",
       "      <td>0.611049</td>\n",
       "      <td>0.999169</td>\n",
       "      <td>0.797580</td>\n",
       "      <td>0.809493</td>\n",
       "      <td>0.303438</td>\n",
       "      <td>0.781776</td>\n",
       "      <td>...</td>\n",
       "      <td>0.818833</td>\n",
       "      <td>0.004115</td>\n",
       "      <td>0.624494</td>\n",
       "      <td>0.611049</td>\n",
       "      <td>0.842961</td>\n",
       "      <td>0.286459</td>\n",
       "      <td>0.026950</td>\n",
       "      <td>0.565816</td>\n",
       "      <td>1</td>\n",
       "      <td>0.018451</td>\n",
       "    </tr>\n",
       "    <tr>\n",
       "      <th>3</th>\n",
       "      <td>0.494759</td>\n",
       "      <td>0.557948</td>\n",
       "      <td>0.541571</td>\n",
       "      <td>0.597666</td>\n",
       "      <td>0.597666</td>\n",
       "      <td>0.998992</td>\n",
       "      <td>0.797439</td>\n",
       "      <td>0.809350</td>\n",
       "      <td>0.303564</td>\n",
       "      <td>0.781611</td>\n",
       "      <td>...</td>\n",
       "      <td>0.811436</td>\n",
       "      <td>0.002108</td>\n",
       "      <td>0.623788</td>\n",
       "      <td>0.597663</td>\n",
       "      <td>0.841389</td>\n",
       "      <td>0.280616</td>\n",
       "      <td>0.026833</td>\n",
       "      <td>0.565351</td>\n",
       "      <td>1</td>\n",
       "      <td>0.026543</td>\n",
       "    </tr>\n",
       "    <tr>\n",
       "      <th>4</th>\n",
       "      <td>0.529177</td>\n",
       "      <td>0.600360</td>\n",
       "      <td>0.584346</td>\n",
       "      <td>0.603843</td>\n",
       "      <td>0.603713</td>\n",
       "      <td>0.999014</td>\n",
       "      <td>0.797568</td>\n",
       "      <td>0.809475</td>\n",
       "      <td>0.303743</td>\n",
       "      <td>0.781746</td>\n",
       "      <td>...</td>\n",
       "      <td>0.834857</td>\n",
       "      <td>0.009962</td>\n",
       "      <td>0.623576</td>\n",
       "      <td>0.603844</td>\n",
       "      <td>0.842959</td>\n",
       "      <td>0.278878</td>\n",
       "      <td>0.026799</td>\n",
       "      <td>0.565197</td>\n",
       "      <td>1</td>\n",
       "      <td>0.033299</td>\n",
       "    </tr>\n",
       "  </tbody>\n",
       "</table>\n",
       "<p>5 rows × 95 columns</p>\n",
       "</div>"
      ],
      "text/plain": [
       "     Attr_1    Attr_2    Attr_3    Attr_4    Attr_5    Attr_6    Attr_7  \\\n",
       "0  0.506167  0.568360  0.553563  0.595158  0.595187  0.998984  0.797402   \n",
       "1  0.468678  0.497928  0.521548  0.587714  0.587714  0.998757  0.797179   \n",
       "2  0.543265  0.589730  0.602923  0.611049  0.611049  0.999169  0.797580   \n",
       "3  0.494759  0.557948  0.541571  0.597666  0.597666  0.998992  0.797439   \n",
       "4  0.529177  0.600360  0.584346  0.603843  0.603713  0.999014  0.797568   \n",
       "\n",
       "     Attr_8    Attr_9   Attr_10  ...   Attr_86   Attr_87   Attr_88   Attr_89  \\\n",
       "0  0.809323  0.303514  0.781581  ...  0.811337  0.001729  0.623492  0.595156   \n",
       "1  0.809117  0.303599  0.781363  ...  0.774070  0.006710  0.624140  0.587714   \n",
       "2  0.809493  0.303438  0.781776  ...  0.818833  0.004115  0.624494  0.611049   \n",
       "3  0.809350  0.303564  0.781611  ...  0.811436  0.002108  0.623788  0.597663   \n",
       "4  0.809475  0.303743  0.781746  ...  0.834857  0.009962  0.623576  0.603844   \n",
       "\n",
       "    Attr_90   Attr_91   Attr_92   Attr_93  Attr_94   Attr_95  \n",
       "0  0.841980  0.286225  0.026981  0.565927        1  0.018617  \n",
       "1  0.838442  0.278596  0.026640  0.564319        1  0.034963  \n",
       "2  0.842961  0.286459  0.026950  0.565816        1  0.018451  \n",
       "3  0.841389  0.280616  0.026833  0.565351        1  0.026543  \n",
       "4  0.842959  0.278878  0.026799  0.565197        1  0.033299  \n",
       "\n",
       "[5 rows x 95 columns]"
      ]
     },
     "execution_count": 29,
     "metadata": {},
     "output_type": "execute_result"
    }
   ],
   "source": [
    "over_sampler = RandomOverSampler(random_state=42)\n",
    "X_train_over, y_train_over = over_sampler.fit_resample(X_train,y_train)\n",
    "print(\"X_train_over shape:\", X_train_over.shape)\n",
    "X_train_over.head()"
   ]
  },
  {
   "cell_type": "markdown",
   "id": "4969a393",
   "metadata": {},
   "source": [
    "# Build Model"
   ]
  },
  {
   "cell_type": "markdown",
   "id": "a54c1ec8",
   "metadata": {},
   "source": [
    "## Iterate"
   ]
  },
  {
   "cell_type": "markdown",
   "id": "2508ada2",
   "metadata": {},
   "source": [
    "**Task 5.5.11:** Create a classifier <code>clf</code> that can be trained on `(X_train_over, y_train_over)`. You can use any of the predictors you've learned about in the Data Science Lab. "
   ]
  },
  {
   "cell_type": "code",
   "execution_count": 30,
   "id": "ebf547b0",
   "metadata": {},
   "outputs": [],
   "source": [
    "clf = GradientBoostingClassifier()"
   ]
  },
  {
   "cell_type": "markdown",
   "id": "03c1505e",
   "metadata": {},
   "source": [
    "**Task 5.5.12:** Perform cross-validation with your classifier using the over-sampled training data, and assign your results to <code>cv_scores</code>. Be sure to set the <code>cv</code> argument to 5. "
   ]
  },
  {
   "cell_type": "code",
   "execution_count": 31,
   "id": "b1e031a8",
   "metadata": {},
   "outputs": [
    {
     "name": "stdout",
     "output_type": "stream",
     "text": [
      "[0.97250509 0.97046843 0.97046843 0.96639511 0.9714577 ]\n"
     ]
    }
   ],
   "source": [
    "cv_scores = cross_val_score(clf, X_train, y_train, cv=5, n_jobs=-1)\n",
    "print(cv_scores)"
   ]
  },
  {
   "cell_type": "markdown",
   "id": "884c92c0",
   "metadata": {},
   "source": [
    "Create a dictionary params with the range of hyperparameters that you want to evaluate for your classifier. If you're not sure which hyperparameters to tune, check the scikit-learn documentation for your predictor for ideas."
   ]
  },
  {
   "cell_type": "code",
   "execution_count": 32,
   "id": "0e0ae11a",
   "metadata": {},
   "outputs": [],
   "source": [
    "params = {\n",
    "    \"n_estimators\":range(25,100,25),\n",
    "    \"max_depth\":range(10,50,10)\n",
    "}"
   ]
  },
  {
   "cell_type": "markdown",
   "id": "dd938919",
   "metadata": {},
   "source": [
    "**Task 5.5.13:** Create a <code>GridSearchCV</code> named `model` that includes your classifier and hyperparameter grid. Be sure to set `cv` to 5, `n_jobs` to -1, and `verbose` to 1. "
   ]
  },
  {
   "cell_type": "code",
   "execution_count": 33,
   "id": "e2cbef0a",
   "metadata": {},
   "outputs": [
    {
     "data": {
      "text/plain": [
       "GridSearchCV(cv=5, estimator=GradientBoostingClassifier(), n_jobs=-1,\n",
       "             param_grid={'max_depth': range(10, 50, 10),\n",
       "                         'n_estimators': range(25, 100, 25)},\n",
       "             verbose=1)"
      ]
     },
     "execution_count": 33,
     "metadata": {},
     "output_type": "execute_result"
    }
   ],
   "source": [
    "model = GridSearchCV(\n",
    "    clf,\n",
    "    param_grid=params,\n",
    "    cv=5,\n",
    "    n_jobs=-1,\n",
    "    verbose=1\n",
    ")\n",
    "model"
   ]
  },
  {
   "cell_type": "markdown",
   "id": "2c9ed3e3",
   "metadata": {},
   "source": [
    "Fit your model to the over-sampled training data. "
   ]
  },
  {
   "cell_type": "code",
   "execution_count": 34,
   "id": "bfdf72cd",
   "metadata": {},
   "outputs": [
    {
     "name": "stdout",
     "output_type": "stream",
     "text": [
      "Fitting 5 folds for each of 12 candidates, totalling 60 fits\n"
     ]
    },
    {
     "data": {
      "text/plain": [
       "GridSearchCV(cv=5, estimator=GradientBoostingClassifier(), n_jobs=-1,\n",
       "             param_grid={'max_depth': range(10, 50, 10),\n",
       "                         'n_estimators': range(25, 100, 25)},\n",
       "             verbose=1)"
      ]
     },
     "execution_count": 34,
     "metadata": {},
     "output_type": "execute_result"
    }
   ],
   "source": [
    "model.fit(X_train_over, y_train_over)"
   ]
  },
  {
   "cell_type": "markdown",
   "id": "57ba8939",
   "metadata": {},
   "source": [
    "**Task 5.5.14:** Extract the cross-validation results from your model, and load them into a DataFrame named <code>cv_results</code>. Looking at the results, which set of hyperparameters led to the best performance?"
   ]
  },
  {
   "cell_type": "code",
   "execution_count": 35,
   "id": "51fb5494",
   "metadata": {},
   "outputs": [
    {
     "data": {
      "text/html": [
       "<div>\n",
       "<style scoped>\n",
       "    .dataframe tbody tr th:only-of-type {\n",
       "        vertical-align: middle;\n",
       "    }\n",
       "\n",
       "    .dataframe tbody tr th {\n",
       "        vertical-align: top;\n",
       "    }\n",
       "\n",
       "    .dataframe thead th {\n",
       "        text-align: right;\n",
       "    }\n",
       "</style>\n",
       "<table border=\"1\" class=\"dataframe\">\n",
       "  <thead>\n",
       "    <tr style=\"text-align: right;\">\n",
       "      <th></th>\n",
       "      <th>mean_fit_time</th>\n",
       "      <th>std_fit_time</th>\n",
       "      <th>mean_score_time</th>\n",
       "      <th>std_score_time</th>\n",
       "      <th>param_max_depth</th>\n",
       "      <th>param_n_estimators</th>\n",
       "      <th>params</th>\n",
       "      <th>split0_test_score</th>\n",
       "      <th>split1_test_score</th>\n",
       "      <th>split2_test_score</th>\n",
       "      <th>split3_test_score</th>\n",
       "      <th>split4_test_score</th>\n",
       "      <th>mean_test_score</th>\n",
       "      <th>std_test_score</th>\n",
       "      <th>rank_test_score</th>\n",
       "    </tr>\n",
       "  </thead>\n",
       "  <tbody>\n",
       "    <tr>\n",
       "      <th>0</th>\n",
       "      <td>18.136694</td>\n",
       "      <td>0.681305</td>\n",
       "      <td>0.011370</td>\n",
       "      <td>0.000489</td>\n",
       "      <td>10</td>\n",
       "      <td>25</td>\n",
       "      <td>{'max_depth': 10, 'n_estimators': 25}</td>\n",
       "      <td>0.985279</td>\n",
       "      <td>0.982641</td>\n",
       "      <td>0.984219</td>\n",
       "      <td>0.984745</td>\n",
       "      <td>0.984745</td>\n",
       "      <td>0.984326</td>\n",
       "      <td>0.000907</td>\n",
       "      <td>12</td>\n",
       "    </tr>\n",
       "    <tr>\n",
       "      <th>1</th>\n",
       "      <td>40.039924</td>\n",
       "      <td>0.656302</td>\n",
       "      <td>0.016356</td>\n",
       "      <td>0.001955</td>\n",
       "      <td>10</td>\n",
       "      <td>50</td>\n",
       "      <td>{'max_depth': 10, 'n_estimators': 50}</td>\n",
       "      <td>0.986856</td>\n",
       "      <td>0.986849</td>\n",
       "      <td>0.989479</td>\n",
       "      <td>0.987901</td>\n",
       "      <td>0.990531</td>\n",
       "      <td>0.988323</td>\n",
       "      <td>0.001464</td>\n",
       "      <td>10</td>\n",
       "    </tr>\n",
       "    <tr>\n",
       "      <th>2</th>\n",
       "      <td>61.182783</td>\n",
       "      <td>0.843018</td>\n",
       "      <td>0.021343</td>\n",
       "      <td>0.004397</td>\n",
       "      <td>10</td>\n",
       "      <td>75</td>\n",
       "      <td>{'max_depth': 10, 'n_estimators': 75}</td>\n",
       "      <td>0.988959</td>\n",
       "      <td>0.987901</td>\n",
       "      <td>0.991057</td>\n",
       "      <td>0.990531</td>\n",
       "      <td>0.993161</td>\n",
       "      <td>0.990322</td>\n",
       "      <td>0.001809</td>\n",
       "      <td>3</td>\n",
       "    </tr>\n",
       "    <tr>\n",
       "      <th>3</th>\n",
       "      <td>20.075912</td>\n",
       "      <td>0.666936</td>\n",
       "      <td>0.013165</td>\n",
       "      <td>0.000747</td>\n",
       "      <td>20</td>\n",
       "      <td>25</td>\n",
       "      <td>{'max_depth': 20, 'n_estimators': 25}</td>\n",
       "      <td>0.987382</td>\n",
       "      <td>0.985271</td>\n",
       "      <td>0.988427</td>\n",
       "      <td>0.987375</td>\n",
       "      <td>0.987375</td>\n",
       "      <td>0.987166</td>\n",
       "      <td>0.001031</td>\n",
       "      <td>11</td>\n",
       "    </tr>\n",
       "    <tr>\n",
       "      <th>4</th>\n",
       "      <td>43.138837</td>\n",
       "      <td>3.992258</td>\n",
       "      <td>0.019947</td>\n",
       "      <td>0.001410</td>\n",
       "      <td>20</td>\n",
       "      <td>50</td>\n",
       "      <td>{'max_depth': 20, 'n_estimators': 50}</td>\n",
       "      <td>0.988433</td>\n",
       "      <td>0.990005</td>\n",
       "      <td>0.993161</td>\n",
       "      <td>0.989479</td>\n",
       "      <td>0.990531</td>\n",
       "      <td>0.990322</td>\n",
       "      <td>0.001580</td>\n",
       "      <td>2</td>\n",
       "    </tr>\n",
       "  </tbody>\n",
       "</table>\n",
       "</div>"
      ],
      "text/plain": [
       "   mean_fit_time  std_fit_time  mean_score_time  std_score_time  \\\n",
       "0      18.136694      0.681305         0.011370        0.000489   \n",
       "1      40.039924      0.656302         0.016356        0.001955   \n",
       "2      61.182783      0.843018         0.021343        0.004397   \n",
       "3      20.075912      0.666936         0.013165        0.000747   \n",
       "4      43.138837      3.992258         0.019947        0.001410   \n",
       "\n",
       "  param_max_depth param_n_estimators                                 params  \\\n",
       "0              10                 25  {'max_depth': 10, 'n_estimators': 25}   \n",
       "1              10                 50  {'max_depth': 10, 'n_estimators': 50}   \n",
       "2              10                 75  {'max_depth': 10, 'n_estimators': 75}   \n",
       "3              20                 25  {'max_depth': 20, 'n_estimators': 25}   \n",
       "4              20                 50  {'max_depth': 20, 'n_estimators': 50}   \n",
       "\n",
       "   split0_test_score  split1_test_score  split2_test_score  split3_test_score  \\\n",
       "0           0.985279           0.982641           0.984219           0.984745   \n",
       "1           0.986856           0.986849           0.989479           0.987901   \n",
       "2           0.988959           0.987901           0.991057           0.990531   \n",
       "3           0.987382           0.985271           0.988427           0.987375   \n",
       "4           0.988433           0.990005           0.993161           0.989479   \n",
       "\n",
       "   split4_test_score  mean_test_score  std_test_score  rank_test_score  \n",
       "0           0.984745         0.984326        0.000907               12  \n",
       "1           0.990531         0.988323        0.001464               10  \n",
       "2           0.993161         0.990322        0.001809                3  \n",
       "3           0.987375         0.987166        0.001031               11  \n",
       "4           0.990531         0.990322        0.001580                2  "
      ]
     },
     "execution_count": 35,
     "metadata": {},
     "output_type": "execute_result"
    }
   ],
   "source": [
    "cv_results = pd.DataFrame(model.cv_results_)\n",
    "cv_results.head(5)"
   ]
  },
  {
   "cell_type": "markdown",
   "id": "bbfdd72e",
   "metadata": {},
   "source": [
    "**Task 5.5.15:** Extract the best hyperparameters from your model and assign them to <code>best_params</code>. "
   ]
  },
  {
   "cell_type": "code",
   "execution_count": 36,
   "id": "afa979fa",
   "metadata": {},
   "outputs": [
    {
     "name": "stdout",
     "output_type": "stream",
     "text": [
      "{'max_depth': 20, 'n_estimators': 75}\n"
     ]
    }
   ],
   "source": [
    "best_params = model.best_params_\n",
    "print(best_params)"
   ]
  },
  {
   "cell_type": "markdown",
   "id": "1c00a9f0",
   "metadata": {},
   "source": [
    "## Evaluate"
   ]
  },
  {
   "cell_type": "markdown",
   "id": "f3a600b1",
   "metadata": {},
   "source": [
    "Test the quality of your model by calculating accuracy scores for the training and test data."
   ]
  },
  {
   "cell_type": "code",
   "execution_count": 37,
   "id": "1785819f",
   "metadata": {},
   "outputs": [
    {
     "name": "stdout",
     "output_type": "stream",
     "text": [
      "Model Training Accuracy: 1.0\n",
      "Model Test Accuracy: 0.9625\n"
     ]
    }
   ],
   "source": [
    "acc_train = model.score(X_train,y_train)\n",
    "acc_test = model.score(X_test,y_test)\n",
    "print(\"Model Training Accuracy:\", round(acc_train, 4))\n",
    "print(\"Model Test Accuracy:\", round(acc_test, 4))"
   ]
  },
  {
   "cell_type": "markdown",
   "id": "8956fc97",
   "metadata": {},
   "source": [
    "**Task 5.5.16:** Plot a confusion matrix that shows how your model performed on your test set."
   ]
  },
  {
   "cell_type": "code",
   "execution_count": 38,
   "id": "32d77aa2",
   "metadata": {},
   "outputs": [
    {
     "data": {
      "text/plain": [
       "<sklearn.metrics._plot.confusion_matrix.ConfusionMatrixDisplay at 0x16eb4f6b190>"
      ]
     },
     "execution_count": 38,
     "metadata": {},
     "output_type": "execute_result"
    },
    {
     "data": {
      "image/png": "[encoded data removed]",
      "text/plain": [
       "<Figure size 432x288 with 2 Axes>"
      ]
     },
     "metadata": {
      "needs_background": "light"
     },
     "output_type": "display_data"
    }
   ],
   "source": [
    "ConfusionMatrixDisplay.from_estimator(model,X_test,y_test)"
   ]
  },
  {
   "cell_type": "markdown",
   "id": "90af686c",
   "metadata": {},
   "source": [
    "**Task 5.5.17:** Generate a classification report for your model's performance on the test data and assign it to `class_report`."
   ]
  },
  {
   "cell_type": "code",
   "execution_count": 39,
   "id": "aac5d42b",
   "metadata": {},
   "outputs": [
    {
     "name": "stdout",
     "output_type": "stream",
     "text": [
      "              precision    recall  f1-score   support\n",
      "\n",
      "       False       0.98      0.98      0.98      1190\n",
      "        True       0.37      0.29      0.32        38\n",
      "\n",
      "    accuracy                           0.96      1228\n",
      "   macro avg       0.67      0.64      0.65      1228\n",
      "weighted avg       0.96      0.96      0.96      1228\n",
      "\n"
     ]
    }
   ],
   "source": [
    "class_report = classification_report(y_test, model.predict(X_test))\n",
    "print(class_report)"
   ]
  },
  {
   "cell_type": "markdown",
   "id": "650db00d",
   "metadata": {},
   "source": [
    "# Communicate"
   ]
  },
  {
   "cell_type": "markdown",
   "id": "4fa02b27",
   "metadata": {},
   "source": [
    "**Task 5.5.18:** Create a horizontal bar chart with the 10 most important features for your model. Be sure to label the x-axis `\"Gini Importance\"`, the y-axis `\"Feature\"`, and use the title `\"Feature Importance\"`."
   ]
  },
  {
   "cell_type": "code",
   "execution_count": 40,
   "id": "5c94bdfc",
   "metadata": {},
   "outputs": [
    {
     "data": {
      "image/png": "[encoded data removed]",
      "text/plain": [
       "<Figure size 432x288 with 1 Axes>"
      ]
     },
     "metadata": {
      "needs_background": "light"
     },
     "output_type": "display_data"
    }
   ],
   "source": [
    "# Get feature names from training data\n",
    "features = X_train_over.columns\n",
    "# Extract importances from model\n",
    "importances = model.best_estimator_.feature_importances_\n",
    "# Create a series with feature names and importances\n",
    "feat_imp = pd.Series(importances,index=features).sort_values()\n",
    "# Plot 10 most important features\n",
    "feat_imp.tail(10).plot(kind=\"barh\")\n",
    "plt.xlabel(\"Gini Importance\")\n",
    "plt.ylabel(\"Feature\")\n",
    "plt.title(\"Feature Importance\");"
   ]
  },
  {
   "cell_type": "markdown",
   "id": "3be1571a",
   "metadata": {},
   "source": [
    "**Task 5.5.19:** Save your best-performing model to a a file named <code>\"model-5-5.pkl\"</code>."
   ]
  },
  {
   "cell_type": "code",
   "execution_count": 41,
   "id": "471289e8",
   "metadata": {},
   "outputs": [],
   "source": [
    "# Save model\n",
    "with open(\"model-5-5.pkl\",\"wb\") as f :\n",
    "    pickle.dump(model.best_estimator_,f)"
   ]
  },
  {
   "cell_type": "markdown",
   "id": "6d8256f0",
   "metadata": {},
   "source": [
    "**Task 5.5.20:** Open the file <code>my_predictor_assignment.py</code>. Add your `wrangle` function, and then create a `make_predictions` function that takes two arguments: `data_filepath` and <code>model_filepath</code>. Use the cell below to test your module. "
   ]
  },
  {
   "cell_type": "code",
   "execution_count": 44,
   "id": "69542cc2",
   "metadata": {},
   "outputs": [
    {
     "name": "stdout",
     "output_type": "stream",
     "text": [
      "# Create your masterpiece :)\n",
      "\n",
      "# Import libraries\n",
      "import gzip\n",
      "import json\n",
      "import pickle\n",
      "\n",
      "import pandas as pd\n",
      "\n",
      "\n",
      "def wrangle(filename):\n",
      "    \n",
      "    # Open compressed file, load into dictionary\n",
      "    with gzip.open(filename,\"r\") as f:\n",
      "        data = json.load(f)\n",
      "    # Load dictionary into DataFrame, set index\n",
      "    df=pd.DataFrame.from_dict(data[\"observations\"]).set_index(\"id\")\n",
      "    return df\n",
      "\n",
      "\n",
      "def make_predictions(data_filepath, model_filepath):\n",
      "    # Wrangle JSON file\n",
      "    X_test = wrangle(data_filepath)\n",
      "    # Load model\n",
      "    with open (model_filepath, \"rb\") as f:\n",
      "        model = pickle.load(f)\n",
      "    # Generate predictions\n",
      "    y_test_pred = model.predict(X_test)\n",
      "    # Put predictions into Series with name \"bankrupt\", and same index as X_test\n",
      "    y_test_pred = pd.Series(y_test_pred, index=X_test.index, name=\"bankrupt\")\n",
      "    return y_test_pred\n"
     ]
    }
   ],
   "source": [
    "with open('my_predictor_assignment.py', 'r') as file:\n",
    "    contents = file.read()\n",
    "    print(contents)"
   ]
  },
  {
   "cell_type": "code",
   "execution_count": 46,
   "id": "da5a308c",
   "metadata": {},
   "outputs": [
    {
     "name": "stdout",
     "output_type": "stream",
     "text": [
      "predictions shape: (682,)\n"
     ]
    },
    {
     "data": {
      "text/plain": [
       "id\n",
       "10    False\n",
       "13     True\n",
       "40    False\n",
       "41    False\n",
       "71    False\n",
       "Name: bankrupt, dtype: bool"
      ]
     },
     "execution_count": 46,
     "metadata": {},
     "output_type": "execute_result"
    }
   ],
   "source": [
    "# Import your module\n",
    "from my_predictor_assignment import make_predictions\n",
    "\n",
    "# Generate predictions\n",
    "y_test_pred = make_predictions(\n",
    "    data_filepath=\"data/taiwan-bankruptcy-data-test-features.json.gz\",\n",
    "    model_filepath=\"model-5-5.pkl\",\n",
    ")\n",
    "\n",
    "print(\"predictions shape:\", y_test_pred.shape)\n",
    "y_test_pred.head()"
   ]
  },
  {
   "cell_type": "code",
   "execution_count": null,
   "id": "e6c20b67",
   "metadata": {},
   "outputs": [],
   "source": []
  }
 ],
 "metadata": {
  "kernelspec": {
   "display_name": "Python 3 (ipykernel)",
   "language": "python",
   "name": "python3"
  },
  "language_info": {
   "codemirror_mode": {
    "name": "ipython",
    "version": 3
   },
   "file_extension": ".py",
   "mimetype": "text/x-python",
   "name": "python",
   "nbconvert_exporter": "python",
   "pygments_lexer": "ipython3",
   "version": "3.9.12"
  }
 },
 "nbformat": 4,
 "nbformat_minor": 5
}
