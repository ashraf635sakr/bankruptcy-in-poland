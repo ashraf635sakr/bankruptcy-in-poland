{
 "cells": [
  {
   "cell_type": "markdown",
   "id": "d70c6c55",
   "metadata": {},
   "source": [
    "<font size=\"+3\"><strong> Working with JSON files</strong></font>"
   ]
  },
  {
   "cell_type": "markdown",
   "id": "e839064f",
   "metadata": {},
   "source": [
    "In this project, we'll be looking at tracking corporate bankruptcies in Poland. To do that, we'll need to get data that's been stored in a `JSON` file, explore it, and turn it into a DataFrame that we'll use to train our model."
   ]
  },
  {
   "cell_type": "code",
   "execution_count": 3,
   "id": "31566803",
   "metadata": {},
   "outputs": [],
   "source": [
    "import gzip\n",
    "import json\n",
    "\n",
    "import pandas as pd"
   ]
  },
  {
   "cell_type": "markdown",
   "id": "1a47addc",
   "metadata": {},
   "source": [
    "# Prepare Data"
   ]
  },
  {
   "cell_type": "markdown",
   "id": "d6155896",
   "metadata": {},
   "source": [
    "## Explore"
   ]
  },
  {
   "cell_type": "markdown",
   "id": "a730fbb0",
   "metadata": {},
   "source": [
    "**Task 1:** Using a context manager, open the file `poland-bankruptcy-data-2009.json` and load it as a dictionary with the variable name `poland_data`.\n"
   ]
  },
  {
   "cell_type": "markdown",
   "id": "0446ef4c",
   "metadata": {},
   "source": [
    "A **context manager** allows you to allocate and release resources precisely when you want to. The most widely used example of context managers is the `with` statement. Suppose you have two related operations which you would like to execute as a pair, with a block of code in between. Context managers allow you to do specifically that."
   ]
  },
  {
   "cell_type": "code",
   "execution_count": 4,
   "id": "05615690",
   "metadata": {},
   "outputs": [
    {
     "name": "stdout",
     "output_type": "stream",
     "text": [
      "<class 'dict'>\n"
     ]
    }
   ],
   "source": [
    "# Open file and load JSON\n",
    "with open(\"data/poland-bankruptcy-data-2009.json\",\"r\") as read_file:\n",
    "    poland_data = json.load(read_file)\n",
    "\n",
    "print(type(poland_data))"
   ]
  },
  {
   "cell_type": "code",
   "execution_count": 5,
   "id": "10c1f306",
   "metadata": {},
   "outputs": [
    {
     "data": {
      "text/plain": [
       "dict_keys(['schema', 'data', 'metadata'])"
      ]
     },
     "execution_count": 5,
     "metadata": {},
     "output_type": "execute_result"
    }
   ],
   "source": [
    "# Print `poland_data` keys\n",
    "poland_data.keys()"
   ]
  },
  {
   "cell_type": "code",
   "execution_count": 6,
   "id": "9c7f5a7d",
   "metadata": {},
   "outputs": [
    {
     "data": {
      "text/plain": [
       "[{'name': 'company_id', 'type': 'integer'},\n",
       " {'name': 'Attr_1', 'type': 'number'},\n",
       " {'name': 'Attr_2', 'type': 'number'},\n",
       " {'name': 'Attr_3', 'type': 'number'},\n",
       " {'name': 'Attr_4', 'type': 'number'},\n",
       " {'name': 'Attr_5', 'type': 'number'},\n",
       " {'name': 'Attr_6', 'type': 'number'},\n",
       " {'name': 'Attr_7', 'type': 'number'},\n",
       " {'name': 'Attr_8', 'type': 'number'},\n",
       " {'name': 'Attr_9', 'type': 'number'},\n",
       " {'name': 'Attr_10', 'type': 'number'},\n",
       " {'name': 'Attr_11', 'type': 'number'},\n",
       " {'name': 'Attr_12', 'type': 'number'},\n",
       " {'name': 'Attr_13', 'type': 'number'},\n",
       " {'name': 'Attr_14', 'type': 'number'},\n",
       " {'name': 'Attr_15', 'type': 'number'},\n",
       " {'name': 'Attr_16', 'type': 'number'},\n",
       " {'name': 'Attr_17', 'type': 'number'},\n",
       " {'name': 'Attr_18', 'type': 'number'},\n",
       " {'name': 'Attr_19', 'type': 'number'},\n",
       " {'name': 'Attr_20', 'type': 'number'},\n",
       " {'name': 'Attr_21', 'type': 'number'},\n",
       " {'name': 'Attr_22', 'type': 'number'},\n",
       " {'name': 'Attr_23', 'type': 'number'},\n",
       " {'name': 'Attr_24', 'type': 'number'},\n",
       " {'name': 'Attr_25', 'type': 'number'},\n",
       " {'name': 'Attr_26', 'type': 'number'},\n",
       " {'name': 'Attr_27', 'type': 'number'},\n",
       " {'name': 'Attr_28', 'type': 'number'},\n",
       " {'name': 'Attr_29', 'type': 'number'},\n",
       " {'name': 'Attr_30', 'type': 'number'},\n",
       " {'name': 'Attr_31', 'type': 'number'},\n",
       " {'name': 'Attr_32', 'type': 'number'},\n",
       " {'name': 'Attr_33', 'type': 'number'},\n",
       " {'name': 'Attr_34', 'type': 'number'},\n",
       " {'name': 'Attr_35', 'type': 'number'},\n",
       " {'name': 'Attr_36', 'type': 'number'},\n",
       " {'name': 'Attr_37', 'type': 'number'},\n",
       " {'name': 'Attr_38', 'type': 'number'},\n",
       " {'name': 'Attr_39', 'type': 'number'},\n",
       " {'name': 'Attr_40', 'type': 'number'},\n",
       " {'name': 'Attr_41', 'type': 'number'},\n",
       " {'name': 'Attr_42', 'type': 'number'},\n",
       " {'name': 'Attr_43', 'type': 'number'},\n",
       " {'name': 'Attr_44', 'type': 'number'},\n",
       " {'name': 'Attr_45', 'type': 'number'},\n",
       " {'name': 'Attr_46', 'type': 'number'},\n",
       " {'name': 'Attr_47', 'type': 'number'},\n",
       " {'name': 'Attr_48', 'type': 'number'},\n",
       " {'name': 'Attr_49', 'type': 'number'},\n",
       " {'name': 'Attr_50', 'type': 'number'},\n",
       " {'name': 'Attr_51', 'type': 'number'},\n",
       " {'name': 'Attr_52', 'type': 'number'},\n",
       " {'name': 'Attr_53', 'type': 'number'},\n",
       " {'name': 'Attr_54', 'type': 'number'},\n",
       " {'name': 'Attr_55', 'type': 'number'},\n",
       " {'name': 'Attr_56', 'type': 'number'},\n",
       " {'name': 'Attr_57', 'type': 'number'},\n",
       " {'name': 'Attr_58', 'type': 'number'},\n",
       " {'name': 'Attr_59', 'type': 'number'},\n",
       " {'name': 'Attr_60', 'type': 'number'},\n",
       " {'name': 'Attr_61', 'type': 'number'},\n",
       " {'name': 'Attr_62', 'type': 'number'},\n",
       " {'name': 'Attr_63', 'type': 'number'},\n",
       " {'name': 'Attr_64', 'type': 'number'},\n",
       " {'name': 'bankrupt', 'type': 'boolean'}]"
      ]
     },
     "execution_count": 6,
     "metadata": {},
     "output_type": "execute_result"
    }
   ],
   "source": [
    "poland_data[\"schema\"][\"fields\"]"
   ]
  },
  {
   "cell_type": "code",
   "execution_count": 11,
   "id": "0bedf686",
   "metadata": {},
   "outputs": [
    {
     "data": {
      "text/plain": [
       "{'title': 'Ensemble Boosted Trees with Synthetic Features Generation in Application to Bankruptcy Prediction',\n",
       " 'authors': 'Zieba, M., Tomczak, S. K., & Tomczak, J. M.',\n",
       " 'journal': 'Expert Systems with Applications',\n",
       " 'publicationYear': 2016,\n",
       " 'dataYear': 2009,\n",
       " 'articleLink': 'doi:10.1016/j.eswa.2016.04.001',\n",
       " 'datasetLink': 'https://archive.ics.uci.edu/ml/datasets/Polish+companies+bankruptcy+data'}"
      ]
     },
     "execution_count": 11,
     "metadata": {},
     "output_type": "execute_result"
    }
   ],
   "source": [
    "poland_data[\"metadata\"]#['articleLink']"
   ]
  },
  {
   "cell_type": "code",
   "execution_count": 8,
   "id": "0a6b1676",
   "metadata": {},
   "outputs": [
    {
     "data": {
      "text/plain": [
       "dict_keys(['fields', 'primary_key', 'pandas_version'])"
      ]
     },
     "execution_count": 8,
     "metadata": {},
     "output_type": "execute_result"
    }
   ],
   "source": [
    "poland_data[\"schema\"].keys()"
   ]
  },
  {
   "cell_type": "code",
   "execution_count": 9,
   "id": "9e1ba759",
   "metadata": {},
   "outputs": [
    {
     "data": {
      "text/plain": [
       "{'company_id': 1,\n",
       " 'Attr_1': 0.17419,\n",
       " 'Attr_2': 0.41299,\n",
       " 'Attr_3': 0.14371,\n",
       " 'Attr_4': 1.348,\n",
       " 'Attr_5': -28.982,\n",
       " 'Attr_6': 0.60383,\n",
       " 'Attr_7': 0.21946,\n",
       " 'Attr_8': 1.1225,\n",
       " 'Attr_9': 1.1961,\n",
       " 'Attr_10': 0.46359,\n",
       " 'Attr_11': 0.21946,\n",
       " 'Attr_12': 0.53139,\n",
       " 'Attr_13': 0.14233,\n",
       " 'Attr_14': 0.21946,\n",
       " 'Attr_15': 592.24,\n",
       " 'Attr_16': 0.6163,\n",
       " 'Attr_17': 2.4213,\n",
       " 'Attr_18': 0.21946,\n",
       " 'Attr_19': 0.12272,\n",
       " 'Attr_20': 37.573,\n",
       " 'Attr_21': 0.9969,\n",
       " 'Attr_22': 0.2951,\n",
       " 'Attr_23': 0.097402,\n",
       " 'Attr_24': 0.75641,\n",
       " 'Attr_25': 0.46359,\n",
       " 'Attr_26': 0.50669,\n",
       " 'Attr_27': 1.9737,\n",
       " 'Attr_28': 0.32417,\n",
       " 'Attr_29': 5.9473,\n",
       " 'Attr_30': 0.22493,\n",
       " 'Attr_31': 0.12272,\n",
       " 'Attr_32': 100.82,\n",
       " 'Attr_33': 3.6203,\n",
       " 'Attr_34': 0.71453,\n",
       " 'Attr_35': 0.2951,\n",
       " 'Attr_36': 1.8079,\n",
       " 'Attr_37': 123140.0,\n",
       " 'Attr_38': 0.46359,\n",
       " 'Attr_39': 0.16501,\n",
       " 'Attr_40': 0.21282,\n",
       " 'Attr_41': 0.041124,\n",
       " 'Attr_42': 0.16501,\n",
       " 'Attr_43': 95.682,\n",
       " 'Attr_44': 58.109,\n",
       " 'Attr_45': 0.94621,\n",
       " 'Attr_46': 0.90221,\n",
       " 'Attr_47': 44.941,\n",
       " 'Attr_48': 0.26003,\n",
       " 'Attr_49': 0.1454,\n",
       " 'Attr_50': 1.348,\n",
       " 'Attr_51': 0.41299,\n",
       " 'Attr_52': 0.27622,\n",
       " 'Attr_53': 1.0457,\n",
       " 'Attr_54': 1.0458,\n",
       " 'Attr_55': 127280.0,\n",
       " 'Attr_56': 0.16396,\n",
       " 'Attr_57': 0.37574,\n",
       " 'Attr_58': 0.83604,\n",
       " 'Attr_59': 7e-06,\n",
       " 'Attr_60': 9.7145,\n",
       " 'Attr_61': 6.2813,\n",
       " 'Attr_62': 84.291,\n",
       " 'Attr_63': 4.3303,\n",
       " 'Attr_64': 4.0341,\n",
       " 'bankrupt': False}"
      ]
     },
     "execution_count": 9,
     "metadata": {},
     "output_type": "execute_result"
    }
   ],
   "source": [
    "# Continue Exploring `poland_data`\n",
    "poland_data[\"data\"][0]"
   ]
  },
  {
   "cell_type": "markdown",
   "id": "771cc6ce",
   "metadata": {},
   "source": [
    "This dataset includes all the information we need to figure whether or not a Polish company went bankrupt in 2009. There's a bunch of features included in the dataset, each of which corresponds to some element of a company's balance sheet. You can explore the features by looking at the `data dictionary`. Most importantly, we also know whether or not the company went bankrupt. That's the last key-value pair."
   ]
  },
  {
   "cell_type": "markdown",
   "id": "729242b9",
   "metadata": {},
   "source": [
    "**Task 2:** Calculate the number of companies included in the dataset.\n"
   ]
  },
  {
   "cell_type": "code",
   "execution_count": 15,
   "id": "9922af00",
   "metadata": {},
   "outputs": [
    {
     "data": {
      "text/plain": [
       "9977"
      ]
     },
     "execution_count": 15,
     "metadata": {},
     "output_type": "execute_result"
    }
   ],
   "source": [
    "# Calculate number of companies\n",
    "len(poland_data[\"data\"])"
   ]
  },
  {
   "cell_type": "markdown",
   "id": "0cb2d584",
   "metadata": {},
   "source": [
    "**Task 3:** Calculate the number of features associated with `\"company_1\"`."
   ]
  },
  {
   "cell_type": "code",
   "execution_count": 20,
   "id": "a6e93a24",
   "metadata": {},
   "outputs": [
    {
     "data": {
      "text/plain": [
       "66"
      ]
     },
     "execution_count": 20,
     "metadata": {},
     "output_type": "execute_result"
    }
   ],
   "source": [
    "# Calculate number of features\n",
    "len(poland_data[\"data\"][0])"
   ]
  },
  {
   "cell_type": "markdown",
   "id": "ebcba392",
   "metadata": {},
   "source": [
    "Since we're dealing with data stored in a JSON file, which is common for semi-structured data, we can't assume that all companies have the same features. So let's check!"
   ]
  },
  {
   "cell_type": "markdown",
   "id": "5e05bc8d",
   "metadata": {},
   "source": [
    "**Task 4:** Iterate through the companies in `poland_data[\"data\"]` and check that they all have the same number of features.\n"
   ]
  },
  {
   "cell_type": "code",
   "execution_count": 23,
   "id": "183cd25c",
   "metadata": {},
   "outputs": [],
   "source": [
    "# Iterate through companies\n",
    "for item in poland_data[\"data\"]:\n",
    "    if len(item) != 66:\n",
    "        print(\"alert\")"
   ]
  },
  {
   "cell_type": "markdown",
   "id": "4d0491c1",
   "metadata": {},
   "source": [
    "**Task 5:** Using a context manager, open the file `poland-bankruptcy-data-2009.json.gz` and load it as a dictionary with the variable name `poland_data_gz`. \n"
   ]
  },
  {
   "cell_type": "code",
   "execution_count": 25,
   "id": "28fffe23",
   "metadata": {},
   "outputs": [
    {
     "name": "stdout",
     "output_type": "stream",
     "text": [
      "<class 'dict'>\n"
     ]
    }
   ],
   "source": [
    "# Open compressed file and load contents\n",
    "with gzip.open(\"data/poland-bankruptcy-data-2009.json.gz\",\"r\") as read_file:\n",
    "    poland_data_gz = json.load(read_file)\n",
    "\n",
    "print(type(poland_data_gz))"
   ]
  },
  {
   "cell_type": "markdown",
   "id": "73a1d20c",
   "metadata": {},
   "source": [
    "**Task 6:** Explore `poland_data_gz` to confirm that is contains the same data as `data`, in the same format. "
   ]
  },
  {
   "cell_type": "code",
   "execution_count": 26,
   "id": "c43c05ba",
   "metadata": {},
   "outputs": [
    {
     "name": "stdout",
     "output_type": "stream",
     "text": [
      "dict_keys(['schema', 'data', 'metadata'])\n",
      "9977\n",
      "66\n"
     ]
    }
   ],
   "source": [
    "# Explore `poland_data_gz`\n",
    "print(poland_data_gz.keys())\n",
    "print(len(poland_data_gz[\"data\"]))\n",
    "print(len(poland_data_gz[\"data\"][0]))"
   ]
  },
  {
   "cell_type": "markdown",
   "id": "c77bc10e",
   "metadata": {},
   "source": [
    "**Task 7:** Create a DataFrame `df` that contains the all companies in the dataset, indexed by `\"company_id\"`. Remember the principles of *tidy data* that you learned in Project 1, and make sure your DataFrame has shape `(9977, 65)`. "
   ]
  },
  {
   "cell_type": "code",
   "execution_count": 27,
   "id": "d762e4d6",
   "metadata": {},
   "outputs": [
    {
     "name": "stdout",
     "output_type": "stream",
     "text": [
      "(9977, 65)\n"
     ]
    },
    {
     "data": {
      "text/html": [
       "<div>\n",
       "<style scoped>\n",
       "    .dataframe tbody tr th:only-of-type {\n",
       "        vertical-align: middle;\n",
       "    }\n",
       "\n",
       "    .dataframe tbody tr th {\n",
       "        vertical-align: top;\n",
       "    }\n",
       "\n",
       "    .dataframe thead th {\n",
       "        text-align: right;\n",
       "    }\n",
       "</style>\n",
       "<table border=\"1\" class=\"dataframe\">\n",
       "  <thead>\n",
       "    <tr style=\"text-align: right;\">\n",
       "      <th></th>\n",
       "      <th>Attr_1</th>\n",
       "      <th>Attr_2</th>\n",
       "      <th>Attr_3</th>\n",
       "      <th>Attr_4</th>\n",
       "      <th>Attr_5</th>\n",
       "      <th>Attr_6</th>\n",
       "      <th>Attr_7</th>\n",
       "      <th>Attr_8</th>\n",
       "      <th>Attr_9</th>\n",
       "      <th>Attr_10</th>\n",
       "      <th>...</th>\n",
       "      <th>Attr_56</th>\n",
       "      <th>Attr_57</th>\n",
       "      <th>Attr_58</th>\n",
       "      <th>Attr_59</th>\n",
       "      <th>Attr_60</th>\n",
       "      <th>Attr_61</th>\n",
       "      <th>Attr_62</th>\n",
       "      <th>Attr_63</th>\n",
       "      <th>Attr_64</th>\n",
       "      <th>bankrupt</th>\n",
       "    </tr>\n",
       "    <tr>\n",
       "      <th>company_id</th>\n",
       "      <th></th>\n",
       "      <th></th>\n",
       "      <th></th>\n",
       "      <th></th>\n",
       "      <th></th>\n",
       "      <th></th>\n",
       "      <th></th>\n",
       "      <th></th>\n",
       "      <th></th>\n",
       "      <th></th>\n",
       "      <th></th>\n",
       "      <th></th>\n",
       "      <th></th>\n",
       "      <th></th>\n",
       "      <th></th>\n",
       "      <th></th>\n",
       "      <th></th>\n",
       "      <th></th>\n",
       "      <th></th>\n",
       "      <th></th>\n",
       "      <th></th>\n",
       "    </tr>\n",
       "  </thead>\n",
       "  <tbody>\n",
       "    <tr>\n",
       "      <th>1</th>\n",
       "      <td>0.174190</td>\n",
       "      <td>0.41299</td>\n",
       "      <td>0.14371</td>\n",
       "      <td>1.3480</td>\n",
       "      <td>-28.9820</td>\n",
       "      <td>0.60383</td>\n",
       "      <td>0.219460</td>\n",
       "      <td>1.1225</td>\n",
       "      <td>1.1961</td>\n",
       "      <td>0.46359</td>\n",
       "      <td>...</td>\n",
       "      <td>0.163960</td>\n",
       "      <td>0.375740</td>\n",
       "      <td>0.83604</td>\n",
       "      <td>0.000007</td>\n",
       "      <td>9.7145</td>\n",
       "      <td>6.2813</td>\n",
       "      <td>84.291</td>\n",
       "      <td>4.3303</td>\n",
       "      <td>4.0341</td>\n",
       "      <td>False</td>\n",
       "    </tr>\n",
       "    <tr>\n",
       "      <th>2</th>\n",
       "      <td>0.146240</td>\n",
       "      <td>0.46038</td>\n",
       "      <td>0.28230</td>\n",
       "      <td>1.6294</td>\n",
       "      <td>2.5952</td>\n",
       "      <td>0.00000</td>\n",
       "      <td>0.171850</td>\n",
       "      <td>1.1721</td>\n",
       "      <td>1.6018</td>\n",
       "      <td>0.53962</td>\n",
       "      <td>...</td>\n",
       "      <td>0.027516</td>\n",
       "      <td>0.271000</td>\n",
       "      <td>0.90108</td>\n",
       "      <td>0.000000</td>\n",
       "      <td>5.9882</td>\n",
       "      <td>4.1103</td>\n",
       "      <td>102.190</td>\n",
       "      <td>3.5716</td>\n",
       "      <td>5.9500</td>\n",
       "      <td>False</td>\n",
       "    </tr>\n",
       "    <tr>\n",
       "      <th>3</th>\n",
       "      <td>0.000595</td>\n",
       "      <td>0.22612</td>\n",
       "      <td>0.48839</td>\n",
       "      <td>3.1599</td>\n",
       "      <td>84.8740</td>\n",
       "      <td>0.19114</td>\n",
       "      <td>0.004572</td>\n",
       "      <td>2.9881</td>\n",
       "      <td>1.0077</td>\n",
       "      <td>0.67566</td>\n",
       "      <td>...</td>\n",
       "      <td>0.007639</td>\n",
       "      <td>0.000881</td>\n",
       "      <td>0.99236</td>\n",
       "      <td>0.000000</td>\n",
       "      <td>6.7742</td>\n",
       "      <td>3.7922</td>\n",
       "      <td>64.846</td>\n",
       "      <td>5.6287</td>\n",
       "      <td>4.4581</td>\n",
       "      <td>False</td>\n",
       "    </tr>\n",
       "    <tr>\n",
       "      <th>4</th>\n",
       "      <td>0.024526</td>\n",
       "      <td>0.43236</td>\n",
       "      <td>0.27546</td>\n",
       "      <td>1.7833</td>\n",
       "      <td>-10.1050</td>\n",
       "      <td>0.56944</td>\n",
       "      <td>0.024526</td>\n",
       "      <td>1.3057</td>\n",
       "      <td>1.0509</td>\n",
       "      <td>0.56453</td>\n",
       "      <td>...</td>\n",
       "      <td>0.048398</td>\n",
       "      <td>0.043445</td>\n",
       "      <td>0.95160</td>\n",
       "      <td>0.142980</td>\n",
       "      <td>4.2286</td>\n",
       "      <td>5.0528</td>\n",
       "      <td>98.783</td>\n",
       "      <td>3.6950</td>\n",
       "      <td>3.4844</td>\n",
       "      <td>False</td>\n",
       "    </tr>\n",
       "    <tr>\n",
       "      <th>5</th>\n",
       "      <td>0.188290</td>\n",
       "      <td>0.41504</td>\n",
       "      <td>0.34231</td>\n",
       "      <td>1.9279</td>\n",
       "      <td>-58.2740</td>\n",
       "      <td>0.00000</td>\n",
       "      <td>0.233580</td>\n",
       "      <td>1.4094</td>\n",
       "      <td>1.3393</td>\n",
       "      <td>0.58496</td>\n",
       "      <td>...</td>\n",
       "      <td>0.176480</td>\n",
       "      <td>0.321880</td>\n",
       "      <td>0.82635</td>\n",
       "      <td>0.073039</td>\n",
       "      <td>2.5912</td>\n",
       "      <td>7.0756</td>\n",
       "      <td>100.540</td>\n",
       "      <td>3.6303</td>\n",
       "      <td>4.6375</td>\n",
       "      <td>False</td>\n",
       "    </tr>\n",
       "  </tbody>\n",
       "</table>\n",
       "<p>5 rows × 65 columns</p>\n",
       "</div>"
      ],
      "text/plain": [
       "              Attr_1   Attr_2   Attr_3  Attr_4   Attr_5   Attr_6    Attr_7  \\\n",
       "company_id                                                                   \n",
       "1           0.174190  0.41299  0.14371  1.3480 -28.9820  0.60383  0.219460   \n",
       "2           0.146240  0.46038  0.28230  1.6294   2.5952  0.00000  0.171850   \n",
       "3           0.000595  0.22612  0.48839  3.1599  84.8740  0.19114  0.004572   \n",
       "4           0.024526  0.43236  0.27546  1.7833 -10.1050  0.56944  0.024526   \n",
       "5           0.188290  0.41504  0.34231  1.9279 -58.2740  0.00000  0.233580   \n",
       "\n",
       "            Attr_8  Attr_9  Attr_10  ...   Attr_56   Attr_57  Attr_58  \\\n",
       "company_id                           ...                                \n",
       "1           1.1225  1.1961  0.46359  ...  0.163960  0.375740  0.83604   \n",
       "2           1.1721  1.6018  0.53962  ...  0.027516  0.271000  0.90108   \n",
       "3           2.9881  1.0077  0.67566  ...  0.007639  0.000881  0.99236   \n",
       "4           1.3057  1.0509  0.56453  ...  0.048398  0.043445  0.95160   \n",
       "5           1.4094  1.3393  0.58496  ...  0.176480  0.321880  0.82635   \n",
       "\n",
       "             Attr_59  Attr_60  Attr_61  Attr_62  Attr_63  Attr_64  bankrupt  \n",
       "company_id                                                                   \n",
       "1           0.000007   9.7145   6.2813   84.291   4.3303   4.0341     False  \n",
       "2           0.000000   5.9882   4.1103  102.190   3.5716   5.9500     False  \n",
       "3           0.000000   6.7742   3.7922   64.846   5.6287   4.4581     False  \n",
       "4           0.142980   4.2286   5.0528   98.783   3.6950   3.4844     False  \n",
       "5           0.073039   2.5912   7.0756  100.540   3.6303   4.6375     False  \n",
       "\n",
       "[5 rows x 65 columns]"
      ]
     },
     "execution_count": 27,
     "metadata": {},
     "output_type": "execute_result"
    }
   ],
   "source": [
    "df = pd.DataFrame.from_dict(poland_data_gz[\"data\"]).set_index(\"company_id\")\n",
    "print(df.shape)\n",
    "df.head()"
   ]
  },
  {
   "cell_type": "markdown",
   "id": "73e9e6c2",
   "metadata": {},
   "source": [
    "## Import"
   ]
  },
  {
   "cell_type": "markdown",
   "id": "07676984",
   "metadata": {},
   "source": [
    "**Task 8:** Create a `wrangle` function that takes the name of a compressed file as input and returns a tidy DataFrame. After you confirm that your function is working as intended, submit it to the grader. "
   ]
  },
  {
   "cell_type": "code",
   "execution_count": 28,
   "id": "eebff74f",
   "metadata": {},
   "outputs": [],
   "source": [
    "def wrangle(filename):\n",
    "    # Open compressed file , load into dict\n",
    "    with gzip.open(filename,\"r\") as read_file:\n",
    "        poland_data_gz = json.load(read_file)\n",
    "    df=pd.DataFrame.from_dict(poland_data_gz[\"data\"]).set_index(\"company_id\")    \n",
    "    \n",
    "    return df"
   ]
  },
  {
   "cell_type": "code",
   "execution_count": 29,
   "id": "99a2c336",
   "metadata": {},
   "outputs": [
    {
     "name": "stdout",
     "output_type": "stream",
     "text": [
      "(9977, 65)\n"
     ]
    },
    {
     "data": {
      "text/html": [
       "<div>\n",
       "<style scoped>\n",
       "    .dataframe tbody tr th:only-of-type {\n",
       "        vertical-align: middle;\n",
       "    }\n",
       "\n",
       "    .dataframe tbody tr th {\n",
       "        vertical-align: top;\n",
       "    }\n",
       "\n",
       "    .dataframe thead th {\n",
       "        text-align: right;\n",
       "    }\n",
       "</style>\n",
       "<table border=\"1\" class=\"dataframe\">\n",
       "  <thead>\n",
       "    <tr style=\"text-align: right;\">\n",
       "      <th></th>\n",
       "      <th>Attr_1</th>\n",
       "      <th>Attr_2</th>\n",
       "      <th>Attr_3</th>\n",
       "      <th>Attr_4</th>\n",
       "      <th>Attr_5</th>\n",
       "      <th>Attr_6</th>\n",
       "      <th>Attr_7</th>\n",
       "      <th>Attr_8</th>\n",
       "      <th>Attr_9</th>\n",
       "      <th>Attr_10</th>\n",
       "      <th>...</th>\n",
       "      <th>Attr_56</th>\n",
       "      <th>Attr_57</th>\n",
       "      <th>Attr_58</th>\n",
       "      <th>Attr_59</th>\n",
       "      <th>Attr_60</th>\n",
       "      <th>Attr_61</th>\n",
       "      <th>Attr_62</th>\n",
       "      <th>Attr_63</th>\n",
       "      <th>Attr_64</th>\n",
       "      <th>bankrupt</th>\n",
       "    </tr>\n",
       "    <tr>\n",
       "      <th>company_id</th>\n",
       "      <th></th>\n",
       "      <th></th>\n",
       "      <th></th>\n",
       "      <th></th>\n",
       "      <th></th>\n",
       "      <th></th>\n",
       "      <th></th>\n",
       "      <th></th>\n",
       "      <th></th>\n",
       "      <th></th>\n",
       "      <th></th>\n",
       "      <th></th>\n",
       "      <th></th>\n",
       "      <th></th>\n",
       "      <th></th>\n",
       "      <th></th>\n",
       "      <th></th>\n",
       "      <th></th>\n",
       "      <th></th>\n",
       "      <th></th>\n",
       "      <th></th>\n",
       "    </tr>\n",
       "  </thead>\n",
       "  <tbody>\n",
       "    <tr>\n",
       "      <th>1</th>\n",
       "      <td>0.174190</td>\n",
       "      <td>0.41299</td>\n",
       "      <td>0.14371</td>\n",
       "      <td>1.3480</td>\n",
       "      <td>-28.9820</td>\n",
       "      <td>0.60383</td>\n",
       "      <td>0.219460</td>\n",
       "      <td>1.1225</td>\n",
       "      <td>1.1961</td>\n",
       "      <td>0.46359</td>\n",
       "      <td>...</td>\n",
       "      <td>0.163960</td>\n",
       "      <td>0.375740</td>\n",
       "      <td>0.83604</td>\n",
       "      <td>0.000007</td>\n",
       "      <td>9.7145</td>\n",
       "      <td>6.2813</td>\n",
       "      <td>84.291</td>\n",
       "      <td>4.3303</td>\n",
       "      <td>4.0341</td>\n",
       "      <td>False</td>\n",
       "    </tr>\n",
       "    <tr>\n",
       "      <th>2</th>\n",
       "      <td>0.146240</td>\n",
       "      <td>0.46038</td>\n",
       "      <td>0.28230</td>\n",
       "      <td>1.6294</td>\n",
       "      <td>2.5952</td>\n",
       "      <td>0.00000</td>\n",
       "      <td>0.171850</td>\n",
       "      <td>1.1721</td>\n",
       "      <td>1.6018</td>\n",
       "      <td>0.53962</td>\n",
       "      <td>...</td>\n",
       "      <td>0.027516</td>\n",
       "      <td>0.271000</td>\n",
       "      <td>0.90108</td>\n",
       "      <td>0.000000</td>\n",
       "      <td>5.9882</td>\n",
       "      <td>4.1103</td>\n",
       "      <td>102.190</td>\n",
       "      <td>3.5716</td>\n",
       "      <td>5.9500</td>\n",
       "      <td>False</td>\n",
       "    </tr>\n",
       "    <tr>\n",
       "      <th>3</th>\n",
       "      <td>0.000595</td>\n",
       "      <td>0.22612</td>\n",
       "      <td>0.48839</td>\n",
       "      <td>3.1599</td>\n",
       "      <td>84.8740</td>\n",
       "      <td>0.19114</td>\n",
       "      <td>0.004572</td>\n",
       "      <td>2.9881</td>\n",
       "      <td>1.0077</td>\n",
       "      <td>0.67566</td>\n",
       "      <td>...</td>\n",
       "      <td>0.007639</td>\n",
       "      <td>0.000881</td>\n",
       "      <td>0.99236</td>\n",
       "      <td>0.000000</td>\n",
       "      <td>6.7742</td>\n",
       "      <td>3.7922</td>\n",
       "      <td>64.846</td>\n",
       "      <td>5.6287</td>\n",
       "      <td>4.4581</td>\n",
       "      <td>False</td>\n",
       "    </tr>\n",
       "    <tr>\n",
       "      <th>4</th>\n",
       "      <td>0.024526</td>\n",
       "      <td>0.43236</td>\n",
       "      <td>0.27546</td>\n",
       "      <td>1.7833</td>\n",
       "      <td>-10.1050</td>\n",
       "      <td>0.56944</td>\n",
       "      <td>0.024526</td>\n",
       "      <td>1.3057</td>\n",
       "      <td>1.0509</td>\n",
       "      <td>0.56453</td>\n",
       "      <td>...</td>\n",
       "      <td>0.048398</td>\n",
       "      <td>0.043445</td>\n",
       "      <td>0.95160</td>\n",
       "      <td>0.142980</td>\n",
       "      <td>4.2286</td>\n",
       "      <td>5.0528</td>\n",
       "      <td>98.783</td>\n",
       "      <td>3.6950</td>\n",
       "      <td>3.4844</td>\n",
       "      <td>False</td>\n",
       "    </tr>\n",
       "    <tr>\n",
       "      <th>5</th>\n",
       "      <td>0.188290</td>\n",
       "      <td>0.41504</td>\n",
       "      <td>0.34231</td>\n",
       "      <td>1.9279</td>\n",
       "      <td>-58.2740</td>\n",
       "      <td>0.00000</td>\n",
       "      <td>0.233580</td>\n",
       "      <td>1.4094</td>\n",
       "      <td>1.3393</td>\n",
       "      <td>0.58496</td>\n",
       "      <td>...</td>\n",
       "      <td>0.176480</td>\n",
       "      <td>0.321880</td>\n",
       "      <td>0.82635</td>\n",
       "      <td>0.073039</td>\n",
       "      <td>2.5912</td>\n",
       "      <td>7.0756</td>\n",
       "      <td>100.540</td>\n",
       "      <td>3.6303</td>\n",
       "      <td>4.6375</td>\n",
       "      <td>False</td>\n",
       "    </tr>\n",
       "  </tbody>\n",
       "</table>\n",
       "<p>5 rows × 65 columns</p>\n",
       "</div>"
      ],
      "text/plain": [
       "              Attr_1   Attr_2   Attr_3  Attr_4   Attr_5   Attr_6    Attr_7  \\\n",
       "company_id                                                                   \n",
       "1           0.174190  0.41299  0.14371  1.3480 -28.9820  0.60383  0.219460   \n",
       "2           0.146240  0.46038  0.28230  1.6294   2.5952  0.00000  0.171850   \n",
       "3           0.000595  0.22612  0.48839  3.1599  84.8740  0.19114  0.004572   \n",
       "4           0.024526  0.43236  0.27546  1.7833 -10.1050  0.56944  0.024526   \n",
       "5           0.188290  0.41504  0.34231  1.9279 -58.2740  0.00000  0.233580   \n",
       "\n",
       "            Attr_8  Attr_9  Attr_10  ...   Attr_56   Attr_57  Attr_58  \\\n",
       "company_id                           ...                                \n",
       "1           1.1225  1.1961  0.46359  ...  0.163960  0.375740  0.83604   \n",
       "2           1.1721  1.6018  0.53962  ...  0.027516  0.271000  0.90108   \n",
       "3           2.9881  1.0077  0.67566  ...  0.007639  0.000881  0.99236   \n",
       "4           1.3057  1.0509  0.56453  ...  0.048398  0.043445  0.95160   \n",
       "5           1.4094  1.3393  0.58496  ...  0.176480  0.321880  0.82635   \n",
       "\n",
       "             Attr_59  Attr_60  Attr_61  Attr_62  Attr_63  Attr_64  bankrupt  \n",
       "company_id                                                                   \n",
       "1           0.000007   9.7145   6.2813   84.291   4.3303   4.0341     False  \n",
       "2           0.000000   5.9882   4.1103  102.190   3.5716   5.9500     False  \n",
       "3           0.000000   6.7742   3.7922   64.846   5.6287   4.4581     False  \n",
       "4           0.142980   4.2286   5.0528   98.783   3.6950   3.4844     False  \n",
       "5           0.073039   2.5912   7.0756  100.540   3.6303   4.6375     False  \n",
       "\n",
       "[5 rows x 65 columns]"
      ]
     },
     "execution_count": 29,
     "metadata": {},
     "output_type": "execute_result"
    }
   ],
   "source": [
    "df = wrangle(\"data/poland-bankruptcy-data-2009.json.gz\")\n",
    "print(df.shape)\n",
    "df.head()"
   ]
  },
  {
   "cell_type": "code",
   "execution_count": null,
   "id": "bd79c32a",
   "metadata": {},
   "outputs": [],
   "source": []
  }
 ],
 "metadata": {
  "kernelspec": {
   "display_name": "Python 3 (ipykernel)",
   "language": "python",
   "name": "python3"
  },
  "language_info": {
   "codemirror_mode": {
    "name": "ipython",
    "version": 3
   },
   "file_extension": ".py",
   "mimetype": "text/x-python",
   "name": "python",
   "nbconvert_exporter": "python",
   "pygments_lexer": "ipython3",
   "version": "3.9.12"
  }
 },
 "nbformat": 4,
 "nbformat_minor": 5
}
