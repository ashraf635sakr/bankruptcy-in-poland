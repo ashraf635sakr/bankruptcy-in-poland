{
 "cells": [
  {
   "cell_type": "markdown",
   "id": "560e9fca",
   "metadata": {},
   "source": [
    "<font size=\"+3\"><strong> Imbalanced Data</strong></font>"
   ]
  },
  {
   "cell_type": "markdown",
   "id": "a22625c5",
   "metadata": {},
   "source": [
    "In this lesson, we're going to explore some of the features of the dataset, use visualizations to help us understand those features, and develop a model that solves the problem of imbalanced data by under- and over-sampling."
   ]
  },
  {
   "cell_type": "code",
   "execution_count": 5,
   "id": "6a59cdd5",
   "metadata": {},
   "outputs": [],
   "source": [
    "import gzip\n",
    "import json\n",
    "import pickle\n",
    "\n",
    "import matplotlib.pyplot as plt\n",
    "import pandas as pd\n",
    "import seaborn as sns\n",
    "from imblearn.over_sampling import RandomOverSampler\n",
    "from imblearn.under_sampling import RandomUnderSampler\n",
    "from sklearn.impute import SimpleImputer\n",
    "from sklearn.metrics import ConfusionMatrixDisplay\n",
    "from sklearn.model_selection import train_test_split\n",
    "from sklearn.pipeline import make_pipeline\n",
    "from sklearn.tree import DecisionTreeClassifier"
   ]
  },
  {
   "cell_type": "markdown",
   "id": "9820fe00",
   "metadata": {},
   "source": [
    "# Prepare Data"
   ]
  },
  {
   "cell_type": "markdown",
   "id": "067bf8de",
   "metadata": {},
   "source": [
    "## Import"
   ]
  },
  {
   "cell_type": "markdown",
   "id": "5b86bb37",
   "metadata": {},
   "source": [
    "**Task 5.2.1:** Complete the `wrangle` function below using the code you developed in the last lesson. Then use it to import `poland-bankruptcy-data-2009.json.gz` into the DataFrame `df`.\n"
   ]
  },
  {
   "cell_type": "code",
   "execution_count": 6,
   "id": "f16643bc",
   "metadata": {},
   "outputs": [],
   "source": [
    "def wrangle(filename):\n",
    "    \n",
    "    # Open compressed file, load into dictionary\n",
    "    with gzip.open(filename,\"r\") as f:\n",
    "        data = json.load(f)\n",
    "    # Load dictionary into DataFrame, set index\n",
    "    df=pd.DataFrame.from_dict(data[\"data\"]).set_index(\"company_id\")\n",
    "    return df"
   ]
  },
  {
   "cell_type": "code",
   "execution_count": 7,
   "id": "890c7b43",
   "metadata": {},
   "outputs": [
    {
     "name": "stdout",
     "output_type": "stream",
     "text": [
      "(9977, 65)\n"
     ]
    },
    {
     "data": {
      "text/html": [
       "<div>\n",
       "<style scoped>\n",
       "    .dataframe tbody tr th:only-of-type {\n",
       "        vertical-align: middle;\n",
       "    }\n",
       "\n",
       "    .dataframe tbody tr th {\n",
       "        vertical-align: top;\n",
       "    }\n",
       "\n",
       "    .dataframe thead th {\n",
       "        text-align: right;\n",
       "    }\n",
       "</style>\n",
       "<table border=\"1\" class=\"dataframe\">\n",
       "  <thead>\n",
       "    <tr style=\"text-align: right;\">\n",
       "      <th></th>\n",
       "      <th>Attr_1</th>\n",
       "      <th>Attr_2</th>\n",
       "      <th>Attr_3</th>\n",
       "      <th>Attr_4</th>\n",
       "      <th>Attr_5</th>\n",
       "      <th>Attr_6</th>\n",
       "      <th>Attr_7</th>\n",
       "      <th>Attr_8</th>\n",
       "      <th>Attr_9</th>\n",
       "      <th>Attr_10</th>\n",
       "      <th>...</th>\n",
       "      <th>Attr_56</th>\n",
       "      <th>Attr_57</th>\n",
       "      <th>Attr_58</th>\n",
       "      <th>Attr_59</th>\n",
       "      <th>Attr_60</th>\n",
       "      <th>Attr_61</th>\n",
       "      <th>Attr_62</th>\n",
       "      <th>Attr_63</th>\n",
       "      <th>Attr_64</th>\n",
       "      <th>bankrupt</th>\n",
       "    </tr>\n",
       "    <tr>\n",
       "      <th>company_id</th>\n",
       "      <th></th>\n",
       "      <th></th>\n",
       "      <th></th>\n",
       "      <th></th>\n",
       "      <th></th>\n",
       "      <th></th>\n",
       "      <th></th>\n",
       "      <th></th>\n",
       "      <th></th>\n",
       "      <th></th>\n",
       "      <th></th>\n",
       "      <th></th>\n",
       "      <th></th>\n",
       "      <th></th>\n",
       "      <th></th>\n",
       "      <th></th>\n",
       "      <th></th>\n",
       "      <th></th>\n",
       "      <th></th>\n",
       "      <th></th>\n",
       "      <th></th>\n",
       "    </tr>\n",
       "  </thead>\n",
       "  <tbody>\n",
       "    <tr>\n",
       "      <th>1</th>\n",
       "      <td>0.174190</td>\n",
       "      <td>0.41299</td>\n",
       "      <td>0.14371</td>\n",
       "      <td>1.3480</td>\n",
       "      <td>-28.9820</td>\n",
       "      <td>0.60383</td>\n",
       "      <td>0.219460</td>\n",
       "      <td>1.1225</td>\n",
       "      <td>1.1961</td>\n",
       "      <td>0.46359</td>\n",
       "      <td>...</td>\n",
       "      <td>0.163960</td>\n",
       "      <td>0.375740</td>\n",
       "      <td>0.83604</td>\n",
       "      <td>0.000007</td>\n",
       "      <td>9.7145</td>\n",
       "      <td>6.2813</td>\n",
       "      <td>84.291</td>\n",
       "      <td>4.3303</td>\n",
       "      <td>4.0341</td>\n",
       "      <td>False</td>\n",
       "    </tr>\n",
       "    <tr>\n",
       "      <th>2</th>\n",
       "      <td>0.146240</td>\n",
       "      <td>0.46038</td>\n",
       "      <td>0.28230</td>\n",
       "      <td>1.6294</td>\n",
       "      <td>2.5952</td>\n",
       "      <td>0.00000</td>\n",
       "      <td>0.171850</td>\n",
       "      <td>1.1721</td>\n",
       "      <td>1.6018</td>\n",
       "      <td>0.53962</td>\n",
       "      <td>...</td>\n",
       "      <td>0.027516</td>\n",
       "      <td>0.271000</td>\n",
       "      <td>0.90108</td>\n",
       "      <td>0.000000</td>\n",
       "      <td>5.9882</td>\n",
       "      <td>4.1103</td>\n",
       "      <td>102.190</td>\n",
       "      <td>3.5716</td>\n",
       "      <td>5.9500</td>\n",
       "      <td>False</td>\n",
       "    </tr>\n",
       "    <tr>\n",
       "      <th>3</th>\n",
       "      <td>0.000595</td>\n",
       "      <td>0.22612</td>\n",
       "      <td>0.48839</td>\n",
       "      <td>3.1599</td>\n",
       "      <td>84.8740</td>\n",
       "      <td>0.19114</td>\n",
       "      <td>0.004572</td>\n",
       "      <td>2.9881</td>\n",
       "      <td>1.0077</td>\n",
       "      <td>0.67566</td>\n",
       "      <td>...</td>\n",
       "      <td>0.007639</td>\n",
       "      <td>0.000881</td>\n",
       "      <td>0.99236</td>\n",
       "      <td>0.000000</td>\n",
       "      <td>6.7742</td>\n",
       "      <td>3.7922</td>\n",
       "      <td>64.846</td>\n",
       "      <td>5.6287</td>\n",
       "      <td>4.4581</td>\n",
       "      <td>False</td>\n",
       "    </tr>\n",
       "    <tr>\n",
       "      <th>4</th>\n",
       "      <td>0.024526</td>\n",
       "      <td>0.43236</td>\n",
       "      <td>0.27546</td>\n",
       "      <td>1.7833</td>\n",
       "      <td>-10.1050</td>\n",
       "      <td>0.56944</td>\n",
       "      <td>0.024526</td>\n",
       "      <td>1.3057</td>\n",
       "      <td>1.0509</td>\n",
       "      <td>0.56453</td>\n",
       "      <td>...</td>\n",
       "      <td>0.048398</td>\n",
       "      <td>0.043445</td>\n",
       "      <td>0.95160</td>\n",
       "      <td>0.142980</td>\n",
       "      <td>4.2286</td>\n",
       "      <td>5.0528</td>\n",
       "      <td>98.783</td>\n",
       "      <td>3.6950</td>\n",
       "      <td>3.4844</td>\n",
       "      <td>False</td>\n",
       "    </tr>\n",
       "    <tr>\n",
       "      <th>5</th>\n",
       "      <td>0.188290</td>\n",
       "      <td>0.41504</td>\n",
       "      <td>0.34231</td>\n",
       "      <td>1.9279</td>\n",
       "      <td>-58.2740</td>\n",
       "      <td>0.00000</td>\n",
       "      <td>0.233580</td>\n",
       "      <td>1.4094</td>\n",
       "      <td>1.3393</td>\n",
       "      <td>0.58496</td>\n",
       "      <td>...</td>\n",
       "      <td>0.176480</td>\n",
       "      <td>0.321880</td>\n",
       "      <td>0.82635</td>\n",
       "      <td>0.073039</td>\n",
       "      <td>2.5912</td>\n",
       "      <td>7.0756</td>\n",
       "      <td>100.540</td>\n",
       "      <td>3.6303</td>\n",
       "      <td>4.6375</td>\n",
       "      <td>False</td>\n",
       "    </tr>\n",
       "  </tbody>\n",
       "</table>\n",
       "<p>5 rows × 65 columns</p>\n",
       "</div>"
      ],
      "text/plain": [
       "              Attr_1   Attr_2   Attr_3  Attr_4   Attr_5   Attr_6    Attr_7  \\\n",
       "company_id                                                                   \n",
       "1           0.174190  0.41299  0.14371  1.3480 -28.9820  0.60383  0.219460   \n",
       "2           0.146240  0.46038  0.28230  1.6294   2.5952  0.00000  0.171850   \n",
       "3           0.000595  0.22612  0.48839  3.1599  84.8740  0.19114  0.004572   \n",
       "4           0.024526  0.43236  0.27546  1.7833 -10.1050  0.56944  0.024526   \n",
       "5           0.188290  0.41504  0.34231  1.9279 -58.2740  0.00000  0.233580   \n",
       "\n",
       "            Attr_8  Attr_9  Attr_10  ...   Attr_56   Attr_57  Attr_58  \\\n",
       "company_id                           ...                                \n",
       "1           1.1225  1.1961  0.46359  ...  0.163960  0.375740  0.83604   \n",
       "2           1.1721  1.6018  0.53962  ...  0.027516  0.271000  0.90108   \n",
       "3           2.9881  1.0077  0.67566  ...  0.007639  0.000881  0.99236   \n",
       "4           1.3057  1.0509  0.56453  ...  0.048398  0.043445  0.95160   \n",
       "5           1.4094  1.3393  0.58496  ...  0.176480  0.321880  0.82635   \n",
       "\n",
       "             Attr_59  Attr_60  Attr_61  Attr_62  Attr_63  Attr_64  bankrupt  \n",
       "company_id                                                                   \n",
       "1           0.000007   9.7145   6.2813   84.291   4.3303   4.0341     False  \n",
       "2           0.000000   5.9882   4.1103  102.190   3.5716   5.9500     False  \n",
       "3           0.000000   6.7742   3.7922   64.846   5.6287   4.4581     False  \n",
       "4           0.142980   4.2286   5.0528   98.783   3.6950   3.4844     False  \n",
       "5           0.073039   2.5912   7.0756  100.540   3.6303   4.6375     False  \n",
       "\n",
       "[5 rows x 65 columns]"
      ]
     },
     "execution_count": 7,
     "metadata": {},
     "output_type": "execute_result"
    }
   ],
   "source": [
    "df = wrangle(\"data/poland-bankruptcy-data-2009.json.gz\")\n",
    "print(df.shape)\n",
    "df.head()"
   ]
  },
  {
   "cell_type": "markdown",
   "id": "0fabcc9c",
   "metadata": {},
   "source": [
    "## Explore"
   ]
  },
  {
   "cell_type": "markdown",
   "id": "32e8d88e",
   "metadata": {},
   "source": [
    "**Task 5.2.2:** Use the `info` method to explore `df`. What type of features does this dataset have? Which column is the target? Are there columns will missing values that we'll need to address?\n"
   ]
  },
  {
   "cell_type": "code",
   "execution_count": 8,
   "id": "134112a7",
   "metadata": {},
   "outputs": [
    {
     "name": "stdout",
     "output_type": "stream",
     "text": [
      "<class 'pandas.core.frame.DataFrame'>\n",
      "Int64Index: 9977 entries, 1 to 10503\n",
      "Data columns (total 65 columns):\n",
      " #   Column    Non-Null Count  Dtype  \n",
      "---  ------    --------------  -----  \n",
      " 0   Attr_1    9977 non-null   float64\n",
      " 1   Attr_2    9977 non-null   float64\n",
      " 2   Attr_3    9977 non-null   float64\n",
      " 3   Attr_4    9959 non-null   float64\n",
      " 4   Attr_5    9955 non-null   float64\n",
      " 5   Attr_6    9977 non-null   float64\n",
      " 6   Attr_7    9977 non-null   float64\n",
      " 7   Attr_8    9963 non-null   float64\n",
      " 8   Attr_9    9974 non-null   float64\n",
      " 9   Attr_10   9977 non-null   float64\n",
      " 10  Attr_11   9977 non-null   float64\n",
      " 11  Attr_12   9959 non-null   float64\n",
      " 12  Attr_13   9936 non-null   float64\n",
      " 13  Attr_14   9977 non-null   float64\n",
      " 14  Attr_15   9969 non-null   float64\n",
      " 15  Attr_16   9963 non-null   float64\n",
      " 16  Attr_17   9963 non-null   float64\n",
      " 17  Attr_18   9977 non-null   float64\n",
      " 18  Attr_19   9936 non-null   float64\n",
      " 19  Attr_20   9936 non-null   float64\n",
      " 20  Attr_21   9210 non-null   float64\n",
      " 21  Attr_22   9977 non-null   float64\n",
      " 22  Attr_23   9936 non-null   float64\n",
      " 23  Attr_24   9759 non-null   float64\n",
      " 24  Attr_25   9977 non-null   float64\n",
      " 25  Attr_26   9963 non-null   float64\n",
      " 26  Attr_27   9300 non-null   float64\n",
      " 27  Attr_28   9755 non-null   float64\n",
      " 28  Attr_29   9977 non-null   float64\n",
      " 29  Attr_30   9936 non-null   float64\n",
      " 30  Attr_31   9936 non-null   float64\n",
      " 31  Attr_32   9883 non-null   float64\n",
      " 32  Attr_33   9959 non-null   float64\n",
      " 33  Attr_34   9963 non-null   float64\n",
      " 34  Attr_35   9977 non-null   float64\n",
      " 35  Attr_36   9977 non-null   float64\n",
      " 36  Attr_37   5466 non-null   float64\n",
      " 37  Attr_38   9977 non-null   float64\n",
      " 38  Attr_39   9936 non-null   float64\n",
      " 39  Attr_40   9959 non-null   float64\n",
      " 40  Attr_41   9783 non-null   float64\n",
      " 41  Attr_42   9936 non-null   float64\n",
      " 42  Attr_43   9936 non-null   float64\n",
      " 43  Attr_44   9936 non-null   float64\n",
      " 44  Attr_45   9406 non-null   float64\n",
      " 45  Attr_46   9959 non-null   float64\n",
      " 46  Attr_47   9898 non-null   float64\n",
      " 47  Attr_48   9977 non-null   float64\n",
      " 48  Attr_49   9936 non-null   float64\n",
      " 49  Attr_50   9963 non-null   float64\n",
      " 50  Attr_51   9977 non-null   float64\n",
      " 51  Attr_52   9898 non-null   float64\n",
      " 52  Attr_53   9755 non-null   float64\n",
      " 53  Attr_54   9755 non-null   float64\n",
      " 54  Attr_55   9977 non-null   float64\n",
      " 55  Attr_56   9936 non-null   float64\n",
      " 56  Attr_57   9977 non-null   float64\n",
      " 57  Attr_58   9949 non-null   float64\n",
      " 58  Attr_59   9977 non-null   float64\n",
      " 59  Attr_60   9405 non-null   float64\n",
      " 60  Attr_61   9960 non-null   float64\n",
      " 61  Attr_62   9936 non-null   float64\n",
      " 62  Attr_63   9959 non-null   float64\n",
      " 63  Attr_64   9755 non-null   float64\n",
      " 64  bankrupt  9977 non-null   bool   \n",
      "dtypes: bool(1), float64(64)\n",
      "memory usage: 5.0 MB\n"
     ]
    }
   ],
   "source": [
    "df.info()"
   ]
  },
  {
   "cell_type": "markdown",
   "id": "118d8e82",
   "metadata": {},
   "source": [
    "**Task 5.2.3:** Create a bar chart of the value counts for the `\"bankrupt\"` column. You want to calculate the relative frequencies of the classes, not the raw count, so be sure to set the `normalize` argument to `True`.\n"
   ]
  },
  {
   "cell_type": "code",
   "execution_count": 9,
   "id": "8d1602bc",
   "metadata": {},
   "outputs": [
    {
     "data": {
      "text/plain": [
       "<AxesSubplot:title={'center':'class balance'}, xlabel='bankrupt', ylabel='frequency'>"
      ]
     },
     "execution_count": 9,
     "metadata": {},
     "output_type": "execute_result"
    },
    {
     "data": {
      "image/png": "[encoded data removed]",
      "text/plain": [
       "<Figure size 432x288 with 1 Axes>"
      ]
     },
     "metadata": {
      "needs_background": "light"
     },
     "output_type": "display_data"
    }
   ],
   "source": [
    "# Plot class balance\n",
    "df[\"bankrupt\"].value_counts(normalize=True).plot(\n",
    "    kind =\"bar\",\n",
    "    xlabel=\"bankrupt\",\n",
    "    ylabel=\"frequency\",\n",
    "    title=\"class balance\"\n",
    ")"
   ]
  },
  {
   "cell_type": "code",
   "execution_count": 10,
   "id": "9d09cfab",
   "metadata": {},
   "outputs": [
    {
     "data": {
      "text/plain": [
       "False    9509\n",
       "True      468\n",
       "Name: bankrupt, dtype: int64"
      ]
     },
     "execution_count": 10,
     "metadata": {},
     "output_type": "execute_result"
    }
   ],
   "source": [
    "df[\"bankrupt\"].value_counts()"
   ]
  },
  {
   "cell_type": "markdown",
   "id": "f10f7ed9",
   "metadata": {},
   "source": [
    "**Task 5.2.4:** Use seaborn to create a boxplot that shows the distributions of the `\"Attr_27\"` column for both groups in the `\"bankrupt\"` column. Remember to label your axes. \n"
   ]
  },
  {
   "cell_type": "code",
   "execution_count": 12,
   "id": "2ad27b8d",
   "metadata": {},
   "outputs": [
    {
     "data": {
      "image/png": "[encoded data removed]",
      "text/plain": [
       "<Figure size 432x288 with 1 Axes>"
      ]
     },
     "metadata": {
      "needs_background": "light"
     },
     "output_type": "display_data"
    }
   ],
   "source": [
    "# Create boxplot\n",
    "sns.boxplot(x=\"bankrupt\",y=\"Attr_27\",data=df)\n",
    "plt.xlabel(\"Bankrupt\")\n",
    "plt.ylabel(\"POA / financial expenses\")\n",
    "plt.title(\"Distribution of Profit/Expenses Ratio, by Class\");"
   ]
  },
  {
   "cell_type": "markdown",
   "id": "20b1b79c",
   "metadata": {},
   "source": [
    "Why does this look so funny? Remember that boxplots exist to help us see the quartiles in a dataset, and this one doesn't really do that. Let's check the distribution of `\"Attr_27\"`to see if we can figure out what's going on here."
   ]
  },
  {
   "cell_type": "markdown",
   "id": "98c01b57",
   "metadata": {},
   "source": [
    "**Task 5.2.5:** Use the `describe` method on the column for `\"Attr_27\"`. What can you tell about the distribution of the data based on the mean and median?"
   ]
  },
  {
   "cell_type": "code",
   "execution_count": 14,
   "id": "16dc2486",
   "metadata": {},
   "outputs": [
    {
     "data": {
      "text/plain": [
       "count        9,300\n",
       "mean         1,238\n",
       "std         35,587\n",
       "min       -190,130\n",
       "25%              0\n",
       "50%              1\n",
       "75%              5\n",
       "max      2,723,000\n",
       "Name: Attr_27, dtype: object"
      ]
     },
     "execution_count": 14,
     "metadata": {},
     "output_type": "execute_result"
    }
   ],
   "source": [
    "df[\"Attr_27\"].describe().apply(\"{0:,.0f}\".format)"
   ]
  },
  {
   "cell_type": "markdown",
   "id": "8e497d97",
   "metadata": {},
   "source": [
    "**Task 5.2.6:** Create a histogram of `\"Attr_27\"`. Make sure to label x-axis `\"POA / financial expenses\"`, the y-axis `\"Count\"`, and use the title `\"Distribution of Profit/Expenses Ratio\"`.\n"
   ]
  },
  {
   "cell_type": "code",
   "execution_count": 16,
   "id": "b3774483",
   "metadata": {},
   "outputs": [
    {
     "data": {
      "image/png": "[encoded data removed]",
      "text/plain": [
       "<Figure size 432x288 with 1 Axes>"
      ]
     },
     "metadata": {
      "needs_background": "light"
     },
     "output_type": "display_data"
    }
   ],
   "source": [
    "# Plot histogram of `feat_27`\n",
    "df[\"Attr_27\"].hist()\n",
    "plt.xlabel(\"POA / financial expenses\")\n",
    "plt.ylabel(\"Count\"),\n",
    "plt.title(\"Distribution of Profit/Expenses Ratio\");"
   ]
  },
  {
   "cell_type": "markdown",
   "id": "809d2400",
   "metadata": {},
   "source": [
    "**Task 5.2.7:** Recreate the boxplot that you made above, this time only using the values for `\"Attr_27\"` that fall between the `0.1` and `0.9` quantiles for the column.\n"
   ]
  },
  {
   "cell_type": "code",
   "execution_count": 18,
   "id": "8115e0a8",
   "metadata": {},
   "outputs": [
    {
     "data": {
      "text/plain": [
       "company_id\n",
       "1     True\n",
       "2    False\n",
       "3     True\n",
       "4     True\n",
       "5    False\n",
       "Name: Attr_27, dtype: bool"
      ]
     },
     "execution_count": 18,
     "metadata": {},
     "output_type": "execute_result"
    }
   ],
   "source": [
    "q1,q9=df[\"Attr_27\"].quantile([.1,.9])\n",
    "mask=df[\"Attr_27\"].between(q1,q9)\n",
    "mask.head()"
   ]
  },
  {
   "cell_type": "code",
   "execution_count": 20,
   "id": "6b384623",
   "metadata": {},
   "outputs": [
    {
     "data": {
      "image/png": "[encoded data removed]",
      "text/plain": [
       "<Figure size 432x288 with 1 Axes>"
      ]
     },
     "metadata": {
      "needs_background": "light"
     },
     "output_type": "display_data"
    }
   ],
   "source": [
    "# Create clipped boxplot\n",
    "q1,q9=df[\"Attr_27\"].quantile([.1,.9])\n",
    "mask=df[\"Attr_27\"].between(q1,q9)\n",
    "sns.boxplot(x=\"bankrupt\",y=\"Attr_27\",data=df[mask])\n",
    "plt.xlabel(\"Bankrupt\")\n",
    "plt.ylabel(\"POA / financial expenses\")\n",
    "plt.title(\"Distribution of Profit/Expenses Ratio, by Bankruptcy Status\");"
   ]
  },
  {
   "cell_type": "markdown",
   "id": "22d2d4ad",
   "metadata": {},
   "source": [
    "**Task 5.2.9:** Plot a correlation heatmap of features in `df`. Since `\"bankrupt\"` will be your target, you don't need to include it in your heatmap.\n"
   ]
  },
  {
   "cell_type": "code",
   "execution_count": 21,
   "id": "ff8fceca",
   "metadata": {},
   "outputs": [
    {
     "data": {
      "text/plain": [
       "<AxesSubplot:>"
      ]
     },
     "execution_count": 21,
     "metadata": {},
     "output_type": "execute_result"
    },
    {
     "data": {
      "image/png": "[encoded data removed]",
      "text/plain": [
       "<Figure size 432x288 with 2 Axes>"
      ]
     },
     "metadata": {
      "needs_background": "light"
     },
     "output_type": "display_data"
    }
   ],
   "source": [
    "corr = df.drop(columns=\"bankrupt\").corr()\n",
    "sns.heatmap(corr)"
   ]
  },
  {
   "cell_type": "markdown",
   "id": "18db385b",
   "metadata": {},
   "source": [
    "## Split"
   ]
  },
  {
   "cell_type": "markdown",
   "id": "46684b2f",
   "metadata": {},
   "source": [
    "**Task 5.2.10:** Create your feature matrix `X` and target vector `y`. Your target is `\"bankrupt\"`. \n",
    "\n"
   ]
  },
  {
   "cell_type": "code",
   "execution_count": 22,
   "id": "74bded43",
   "metadata": {},
   "outputs": [
    {
     "name": "stdout",
     "output_type": "stream",
     "text": [
      "X shape: (9977, 64)\n",
      "y shape: (9977,)\n"
     ]
    }
   ],
   "source": [
    "target = \"bankrupt\"\n",
    "X = df.drop(columns=\"bankrupt\")\n",
    "y = df[target]\n",
    "\n",
    "print(\"X shape:\", X.shape)\n",
    "print(\"y shape:\", y.shape)"
   ]
  },
  {
   "cell_type": "markdown",
   "id": "b18a611b",
   "metadata": {},
   "source": [
    "**Task 5.2.11:** Divide your data (`X` and `y`) into training and test sets using a randomized train-test split. Your validation set should be 20% of your total data. And don't forget to set a `random_state` for reproducibility. "
   ]
  },
  {
   "cell_type": "code",
   "execution_count": 23,
   "id": "eed0cbc7",
   "metadata": {},
   "outputs": [
    {
     "name": "stdout",
     "output_type": "stream",
     "text": [
      "X_train shape: (7981, 64)\n",
      "y_train shape: (7981,)\n",
      "X_test shape: (1996, 64)\n",
      "y_test shape: (1996,)\n"
     ]
    }
   ],
   "source": [
    "X_train, X_test, y_train, y_test = train_test_split(\n",
    "    X,y,test_size=0.2 , random_state=42\n",
    ")\n",
    "print(\"X_train shape:\", X_train.shape)\n",
    "print(\"y_train shape:\", y_train.shape)\n",
    "print(\"X_test shape:\", X_test.shape)\n",
    "print(\"y_test shape:\", y_test.shape)"
   ]
  },
  {
   "cell_type": "markdown",
   "id": "e4310374",
   "metadata": {},
   "source": [
    "## Resample"
   ]
  },
  {
   "cell_type": "markdown",
   "id": "8290fcf9",
   "metadata": {},
   "source": [
    "Now that we've split our data into training and validation sets, we can address the class imbalance we saw during our EDA. One strategy is to resample the training data. (This will be different than the resampling we did with time series data in Project 3.) There are many to do this, so let's start with under-sampling."
   ]
  },
  {
   "cell_type": "markdown",
   "id": "5714f012",
   "metadata": {},
   "source": [
    "**Task 5.2.12:** Create a new feature matrix `X_train_under` and target vector `y_train_under` by performing random under-sampling on your training data.\n"
   ]
  },
  {
   "cell_type": "markdown",
   "id": "03a6f5fa",
   "metadata": {},
   "source": [
    "### Under-sampling"
   ]
  },
  {
   "cell_type": "markdown",
   "id": "95990726",
   "metadata": {},
   "source": [
    "When data is imbalanced in different classes, one way we can balance it is reducing the number of observations in the majority class. This is called **under-sampling**. We can under-sample by randomly deleting some observations in the majority class. The open source [imbalanced-learn](https://imbalanced-learn.org/stable/) (imported as `imblearn`) is an open-source library that works with `scikit-learn` and provides tools when dealing with imbalanced classes. Here's an example of randomly deleting observations from the majority class using Poland bankruptcy data from 2008."
   ]
  },
  {
   "cell_type": "code",
   "execution_count": 24,
   "id": "02d40af6",
   "metadata": {},
   "outputs": [
    {
     "name": "stdout",
     "output_type": "stream",
     "text": [
      "(768, 64)\n"
     ]
    },
    {
     "data": {
      "text/html": [
       "<div>\n",
       "<style scoped>\n",
       "    .dataframe tbody tr th:only-of-type {\n",
       "        vertical-align: middle;\n",
       "    }\n",
       "\n",
       "    .dataframe tbody tr th {\n",
       "        vertical-align: top;\n",
       "    }\n",
       "\n",
       "    .dataframe thead th {\n",
       "        text-align: right;\n",
       "    }\n",
       "</style>\n",
       "<table border=\"1\" class=\"dataframe\">\n",
       "  <thead>\n",
       "    <tr style=\"text-align: right;\">\n",
       "      <th></th>\n",
       "      <th>Attr_1</th>\n",
       "      <th>Attr_2</th>\n",
       "      <th>Attr_3</th>\n",
       "      <th>Attr_4</th>\n",
       "      <th>Attr_5</th>\n",
       "      <th>Attr_6</th>\n",
       "      <th>Attr_7</th>\n",
       "      <th>Attr_8</th>\n",
       "      <th>Attr_9</th>\n",
       "      <th>Attr_10</th>\n",
       "      <th>...</th>\n",
       "      <th>Attr_55</th>\n",
       "      <th>Attr_56</th>\n",
       "      <th>Attr_57</th>\n",
       "      <th>Attr_58</th>\n",
       "      <th>Attr_59</th>\n",
       "      <th>Attr_60</th>\n",
       "      <th>Attr_61</th>\n",
       "      <th>Attr_62</th>\n",
       "      <th>Attr_63</th>\n",
       "      <th>Attr_64</th>\n",
       "    </tr>\n",
       "  </thead>\n",
       "  <tbody>\n",
       "    <tr>\n",
       "      <th>0</th>\n",
       "      <td>-2.105000</td>\n",
       "      <td>24.90500</td>\n",
       "      <td>-23.90500</td>\n",
       "      <td>0.040152</td>\n",
       "      <td>-414.460</td>\n",
       "      <td>-23.794000</td>\n",
       "      <td>-2.105000</td>\n",
       "      <td>-0.95985</td>\n",
       "      <td>19.15900</td>\n",
       "      <td>-23.90500</td>\n",
       "      <td>...</td>\n",
       "      <td>-599.57</td>\n",
       "      <td>-0.08762</td>\n",
       "      <td>0.088057</td>\n",
       "      <td>1.10870</td>\n",
       "      <td>0.000000</td>\n",
       "      <td>224.1300</td>\n",
       "      <td>21.1600</td>\n",
       "      <td>474.460</td>\n",
       "      <td>0.7693</td>\n",
       "      <td>NaN</td>\n",
       "    </tr>\n",
       "    <tr>\n",
       "      <th>1</th>\n",
       "      <td>-0.125320</td>\n",
       "      <td>0.72759</td>\n",
       "      <td>-0.19710</td>\n",
       "      <td>0.438560</td>\n",
       "      <td>-251.890</td>\n",
       "      <td>0.000000</td>\n",
       "      <td>-0.125320</td>\n",
       "      <td>0.37440</td>\n",
       "      <td>0.35832</td>\n",
       "      <td>0.27241</td>\n",
       "      <td>...</td>\n",
       "      <td>-6643.60</td>\n",
       "      <td>-0.35792</td>\n",
       "      <td>-0.460030</td>\n",
       "      <td>1.29650</td>\n",
       "      <td>0.065373</td>\n",
       "      <td>4.8657</td>\n",
       "      <td>4.7808</td>\n",
       "      <td>357.610</td>\n",
       "      <td>1.0207</td>\n",
       "      <td>0.42353</td>\n",
       "    </tr>\n",
       "    <tr>\n",
       "      <th>2</th>\n",
       "      <td>0.270080</td>\n",
       "      <td>0.28781</td>\n",
       "      <td>0.15668</td>\n",
       "      <td>4.017500</td>\n",
       "      <td>144.840</td>\n",
       "      <td>0.000000</td>\n",
       "      <td>0.270080</td>\n",
       "      <td>2.47450</td>\n",
       "      <td>1.29870</td>\n",
       "      <td>0.71219</td>\n",
       "      <td>...</td>\n",
       "      <td>1599.60</td>\n",
       "      <td>0.19840</td>\n",
       "      <td>0.379220</td>\n",
       "      <td>0.80213</td>\n",
       "      <td>0.330080</td>\n",
       "      <td>27.5600</td>\n",
       "      <td>19.7510</td>\n",
       "      <td>14.593</td>\n",
       "      <td>25.0110</td>\n",
       "      <td>1.64110</td>\n",
       "    </tr>\n",
       "    <tr>\n",
       "      <th>3</th>\n",
       "      <td>0.003423</td>\n",
       "      <td>0.66715</td>\n",
       "      <td>-0.13566</td>\n",
       "      <td>0.723900</td>\n",
       "      <td>-138.050</td>\n",
       "      <td>-0.083792</td>\n",
       "      <td>0.003423</td>\n",
       "      <td>0.49892</td>\n",
       "      <td>2.22990</td>\n",
       "      <td>0.33285</td>\n",
       "      <td>...</td>\n",
       "      <td>-476.30</td>\n",
       "      <td>0.66819</td>\n",
       "      <td>0.010282</td>\n",
       "      <td>0.33179</td>\n",
       "      <td>0.100290</td>\n",
       "      <td>16.3470</td>\n",
       "      <td>10.3790</td>\n",
       "      <td>80.427</td>\n",
       "      <td>4.5383</td>\n",
       "      <td>3.46090</td>\n",
       "    </tr>\n",
       "    <tr>\n",
       "      <th>4</th>\n",
       "      <td>0.024250</td>\n",
       "      <td>0.45688</td>\n",
       "      <td>0.54657</td>\n",
       "      <td>2.585400</td>\n",
       "      <td>42.257</td>\n",
       "      <td>0.000000</td>\n",
       "      <td>0.024250</td>\n",
       "      <td>1.18880</td>\n",
       "      <td>2.59090</td>\n",
       "      <td>0.54312</td>\n",
       "      <td>...</td>\n",
       "      <td>2437.70</td>\n",
       "      <td>0.36289</td>\n",
       "      <td>0.044648</td>\n",
       "      <td>0.63934</td>\n",
       "      <td>0.000000</td>\n",
       "      <td>8.1490</td>\n",
       "      <td>8.1579</td>\n",
       "      <td>48.570</td>\n",
       "      <td>7.5149</td>\n",
       "      <td>23.84400</td>\n",
       "    </tr>\n",
       "  </tbody>\n",
       "</table>\n",
       "<p>5 rows × 64 columns</p>\n",
       "</div>"
      ],
      "text/plain": [
       "     Attr_1    Attr_2    Attr_3    Attr_4   Attr_5     Attr_6    Attr_7  \\\n",
       "0 -2.105000  24.90500 -23.90500  0.040152 -414.460 -23.794000 -2.105000   \n",
       "1 -0.125320   0.72759  -0.19710  0.438560 -251.890   0.000000 -0.125320   \n",
       "2  0.270080   0.28781   0.15668  4.017500  144.840   0.000000  0.270080   \n",
       "3  0.003423   0.66715  -0.13566  0.723900 -138.050  -0.083792  0.003423   \n",
       "4  0.024250   0.45688   0.54657  2.585400   42.257   0.000000  0.024250   \n",
       "\n",
       "    Attr_8    Attr_9   Attr_10  ...  Attr_55  Attr_56   Attr_57  Attr_58  \\\n",
       "0 -0.95985  19.15900 -23.90500  ...  -599.57 -0.08762  0.088057  1.10870   \n",
       "1  0.37440   0.35832   0.27241  ... -6643.60 -0.35792 -0.460030  1.29650   \n",
       "2  2.47450   1.29870   0.71219  ...  1599.60  0.19840  0.379220  0.80213   \n",
       "3  0.49892   2.22990   0.33285  ...  -476.30  0.66819  0.010282  0.33179   \n",
       "4  1.18880   2.59090   0.54312  ...  2437.70  0.36289  0.044648  0.63934   \n",
       "\n",
       "    Attr_59   Attr_60  Attr_61  Attr_62  Attr_63   Attr_64  \n",
       "0  0.000000  224.1300  21.1600  474.460   0.7693       NaN  \n",
       "1  0.065373    4.8657   4.7808  357.610   1.0207   0.42353  \n",
       "2  0.330080   27.5600  19.7510   14.593  25.0110   1.64110  \n",
       "3  0.100290   16.3470  10.3790   80.427   4.5383   3.46090  \n",
       "4  0.000000    8.1490   8.1579   48.570   7.5149  23.84400  \n",
       "\n",
       "[5 rows x 64 columns]"
      ]
     },
     "execution_count": 24,
     "metadata": {},
     "output_type": "execute_result"
    }
   ],
   "source": [
    "under_sampler = RandomUnderSampler(random_state=42)\n",
    "X_train_under, y_train_under = under_sampler.fit_resample(X_train,y_train)\n",
    "print(X_train_under.shape)\n",
    "X_train_under.head()"
   ]
  },
  {
   "cell_type": "code",
   "execution_count": 25,
   "id": "1f7c6198",
   "metadata": {},
   "outputs": [
    {
     "data": {
      "text/plain": [
       "False    384\n",
       "True     384\n",
       "Name: bankrupt, dtype: int64"
      ]
     },
     "execution_count": 25,
     "metadata": {},
     "output_type": "execute_result"
    }
   ],
   "source": [
    "y_train_under.value_counts()"
   ]
  },
  {
   "cell_type": "code",
   "execution_count": 26,
   "id": "88179174",
   "metadata": {},
   "outputs": [
    {
     "data": {
      "text/plain": [
       "(768,)"
      ]
     },
     "execution_count": 26,
     "metadata": {},
     "output_type": "execute_result"
    }
   ],
   "source": [
    "y_train_under.shape"
   ]
  },
  {
   "cell_type": "markdown",
   "id": "803102d7",
   "metadata": {},
   "source": [
    "**Task 5.2.13:** Create a new feature matrix `X_train_over` and target vector `y_train_over` by performing random over-sampling on your training data.\n"
   ]
  },
  {
   "cell_type": "code",
   "execution_count": 27,
   "id": "a2ba5861",
   "metadata": {},
   "outputs": [
    {
     "name": "stdout",
     "output_type": "stream",
     "text": [
      "(15194, 64)\n"
     ]
    },
    {
     "data": {
      "text/html": [
       "<div>\n",
       "<style scoped>\n",
       "    .dataframe tbody tr th:only-of-type {\n",
       "        vertical-align: middle;\n",
       "    }\n",
       "\n",
       "    .dataframe tbody tr th {\n",
       "        vertical-align: top;\n",
       "    }\n",
       "\n",
       "    .dataframe thead th {\n",
       "        text-align: right;\n",
       "    }\n",
       "</style>\n",
       "<table border=\"1\" class=\"dataframe\">\n",
       "  <thead>\n",
       "    <tr style=\"text-align: right;\">\n",
       "      <th></th>\n",
       "      <th>Attr_1</th>\n",
       "      <th>Attr_2</th>\n",
       "      <th>Attr_3</th>\n",
       "      <th>Attr_4</th>\n",
       "      <th>Attr_5</th>\n",
       "      <th>Attr_6</th>\n",
       "      <th>Attr_7</th>\n",
       "      <th>Attr_8</th>\n",
       "      <th>Attr_9</th>\n",
       "      <th>Attr_10</th>\n",
       "      <th>...</th>\n",
       "      <th>Attr_55</th>\n",
       "      <th>Attr_56</th>\n",
       "      <th>Attr_57</th>\n",
       "      <th>Attr_58</th>\n",
       "      <th>Attr_59</th>\n",
       "      <th>Attr_60</th>\n",
       "      <th>Attr_61</th>\n",
       "      <th>Attr_62</th>\n",
       "      <th>Attr_63</th>\n",
       "      <th>Attr_64</th>\n",
       "    </tr>\n",
       "  </thead>\n",
       "  <tbody>\n",
       "    <tr>\n",
       "      <th>0</th>\n",
       "      <td>0.121230</td>\n",
       "      <td>0.84119</td>\n",
       "      <td>0.156800</td>\n",
       "      <td>1.18900</td>\n",
       "      <td>25.4150</td>\n",
       "      <td>0.00000</td>\n",
       "      <td>0.149930</td>\n",
       "      <td>0.18879</td>\n",
       "      <td>2.36040</td>\n",
       "      <td>0.15881</td>\n",
       "      <td>...</td>\n",
       "      <td>2519.90</td>\n",
       "      <td>0.062611</td>\n",
       "      <td>0.763360</td>\n",
       "      <td>0.93666</td>\n",
       "      <td>0.000000</td>\n",
       "      <td>NaN</td>\n",
       "      <td>2.4956</td>\n",
       "      <td>128.260</td>\n",
       "      <td>2.8458</td>\n",
       "      <td>171.6300</td>\n",
       "    </tr>\n",
       "    <tr>\n",
       "      <th>1</th>\n",
       "      <td>0.009168</td>\n",
       "      <td>1.23540</td>\n",
       "      <td>-0.659060</td>\n",
       "      <td>0.22347</td>\n",
       "      <td>-143.1000</td>\n",
       "      <td>-0.57453</td>\n",
       "      <td>0.009168</td>\n",
       "      <td>-0.19052</td>\n",
       "      <td>1.75080</td>\n",
       "      <td>-0.23536</td>\n",
       "      <td>...</td>\n",
       "      <td>-199.71</td>\n",
       "      <td>-0.007404</td>\n",
       "      <td>-0.038951</td>\n",
       "      <td>0.99507</td>\n",
       "      <td>-1.603800</td>\n",
       "      <td>95.4700</td>\n",
       "      <td>10.5420</td>\n",
       "      <td>176.940</td>\n",
       "      <td>2.0628</td>\n",
       "      <td>2.1605</td>\n",
       "    </tr>\n",
       "    <tr>\n",
       "      <th>2</th>\n",
       "      <td>0.041290</td>\n",
       "      <td>0.32144</td>\n",
       "      <td>0.115610</td>\n",
       "      <td>1.38590</td>\n",
       "      <td>-64.4780</td>\n",
       "      <td>0.23585</td>\n",
       "      <td>0.041290</td>\n",
       "      <td>2.10300</td>\n",
       "      <td>1.07380</td>\n",
       "      <td>0.67599</td>\n",
       "      <td>...</td>\n",
       "      <td>1851.80</td>\n",
       "      <td>0.068742</td>\n",
       "      <td>0.061081</td>\n",
       "      <td>0.93126</td>\n",
       "      <td>0.032312</td>\n",
       "      <td>4.0947</td>\n",
       "      <td>16.1260</td>\n",
       "      <td>122.120</td>\n",
       "      <td>2.9889</td>\n",
       "      <td>1.5312</td>\n",
       "    </tr>\n",
       "    <tr>\n",
       "      <th>3</th>\n",
       "      <td>0.078780</td>\n",
       "      <td>0.39680</td>\n",
       "      <td>0.013543</td>\n",
       "      <td>1.05890</td>\n",
       "      <td>5.6338</td>\n",
       "      <td>0.00000</td>\n",
       "      <td>0.078780</td>\n",
       "      <td>1.52020</td>\n",
       "      <td>0.87894</td>\n",
       "      <td>0.60320</td>\n",
       "      <td>...</td>\n",
       "      <td>105.45</td>\n",
       "      <td>0.111240</td>\n",
       "      <td>0.130600</td>\n",
       "      <td>0.91263</td>\n",
       "      <td>0.276570</td>\n",
       "      <td>4435.2000</td>\n",
       "      <td>4.0019</td>\n",
       "      <td>95.499</td>\n",
       "      <td>3.8220</td>\n",
       "      <td>1.1619</td>\n",
       "    </tr>\n",
       "    <tr>\n",
       "      <th>4</th>\n",
       "      <td>0.061946</td>\n",
       "      <td>0.44483</td>\n",
       "      <td>0.108770</td>\n",
       "      <td>1.39480</td>\n",
       "      <td>40.3740</td>\n",
       "      <td>0.00000</td>\n",
       "      <td>0.078467</td>\n",
       "      <td>1.24810</td>\n",
       "      <td>1.08370</td>\n",
       "      <td>0.55517</td>\n",
       "      <td>...</td>\n",
       "      <td>305.28</td>\n",
       "      <td>0.083842</td>\n",
       "      <td>0.111580</td>\n",
       "      <td>0.92843</td>\n",
       "      <td>0.305000</td>\n",
       "      <td>548.4500</td>\n",
       "      <td>3.1107</td>\n",
       "      <td>92.786</td>\n",
       "      <td>3.9338</td>\n",
       "      <td>1.7601</td>\n",
       "    </tr>\n",
       "  </tbody>\n",
       "</table>\n",
       "<p>5 rows × 64 columns</p>\n",
       "</div>"
      ],
      "text/plain": [
       "     Attr_1   Attr_2    Attr_3   Attr_4    Attr_5   Attr_6    Attr_7   Attr_8  \\\n",
       "0  0.121230  0.84119  0.156800  1.18900   25.4150  0.00000  0.149930  0.18879   \n",
       "1  0.009168  1.23540 -0.659060  0.22347 -143.1000 -0.57453  0.009168 -0.19052   \n",
       "2  0.041290  0.32144  0.115610  1.38590  -64.4780  0.23585  0.041290  2.10300   \n",
       "3  0.078780  0.39680  0.013543  1.05890    5.6338  0.00000  0.078780  1.52020   \n",
       "4  0.061946  0.44483  0.108770  1.39480   40.3740  0.00000  0.078467  1.24810   \n",
       "\n",
       "    Attr_9  Attr_10  ...  Attr_55   Attr_56   Attr_57  Attr_58   Attr_59  \\\n",
       "0  2.36040  0.15881  ...  2519.90  0.062611  0.763360  0.93666  0.000000   \n",
       "1  1.75080 -0.23536  ...  -199.71 -0.007404 -0.038951  0.99507 -1.603800   \n",
       "2  1.07380  0.67599  ...  1851.80  0.068742  0.061081  0.93126  0.032312   \n",
       "3  0.87894  0.60320  ...   105.45  0.111240  0.130600  0.91263  0.276570   \n",
       "4  1.08370  0.55517  ...   305.28  0.083842  0.111580  0.92843  0.305000   \n",
       "\n",
       "     Attr_60  Attr_61  Attr_62  Attr_63   Attr_64  \n",
       "0        NaN   2.4956  128.260   2.8458  171.6300  \n",
       "1    95.4700  10.5420  176.940   2.0628    2.1605  \n",
       "2     4.0947  16.1260  122.120   2.9889    1.5312  \n",
       "3  4435.2000   4.0019   95.499   3.8220    1.1619  \n",
       "4   548.4500   3.1107   92.786   3.9338    1.7601  \n",
       "\n",
       "[5 rows x 64 columns]"
      ]
     },
     "execution_count": 27,
     "metadata": {},
     "output_type": "execute_result"
    }
   ],
   "source": [
    "over_sampler = RandomOverSampler(random_state=42)\n",
    "X_train_over, y_train_over = over_sampler.fit_resample(X_train,y_train)\n",
    "print(X_train_over.shape)\n",
    "X_train_over.head()"
   ]
  },
  {
   "cell_type": "code",
   "execution_count": 28,
   "id": "3ab72cec",
   "metadata": {},
   "outputs": [
    {
     "data": {
      "text/plain": [
       "(15194, 64)"
      ]
     },
     "execution_count": 28,
     "metadata": {},
     "output_type": "execute_result"
    }
   ],
   "source": [
    "X_train_over.shape"
   ]
  },
  {
   "cell_type": "code",
   "execution_count": 29,
   "id": "804f0fb9",
   "metadata": {},
   "outputs": [
    {
     "data": {
      "text/plain": [
       "(15194,)"
      ]
     },
     "execution_count": 29,
     "metadata": {},
     "output_type": "execute_result"
    }
   ],
   "source": [
    "y_train_over.shape"
   ]
  },
  {
   "cell_type": "code",
   "execution_count": 30,
   "id": "34dac113",
   "metadata": {},
   "outputs": [
    {
     "data": {
      "text/plain": [
       "False    7597\n",
       "True     7597\n",
       "Name: bankrupt, dtype: int64"
      ]
     },
     "execution_count": 30,
     "metadata": {},
     "output_type": "execute_result"
    }
   ],
   "source": [
    "y_train_over.value_counts()"
   ]
  },
  {
   "cell_type": "markdown",
   "id": "031ed904",
   "metadata": {},
   "source": [
    "# Build Model"
   ]
  },
  {
   "cell_type": "markdown",
   "id": "4370f3ee",
   "metadata": {},
   "source": [
    "## Baseline"
   ]
  },
  {
   "cell_type": "markdown",
   "id": "2ed1a4bd",
   "metadata": {},
   "source": [
    "**Task 5.2.14:** Calculate the baseline accuracy score for your model.\n"
   ]
  },
  {
   "cell_type": "code",
   "execution_count": 32,
   "id": "ea73c33e",
   "metadata": {},
   "outputs": [
    {
     "name": "stdout",
     "output_type": "stream",
     "text": [
      "Baseline Accuracy: 0.9519\n"
     ]
    }
   ],
   "source": [
    "acc_baseline = y_train.value_counts(normalize=True).max()\n",
    "print(\"Baseline Accuracy:\", round(acc_baseline, 4))"
   ]
  },
  {
   "cell_type": "markdown",
   "id": "9823b67e",
   "metadata": {},
   "source": [
    "Note here that, because our classes are imbalanced, the baseline accuracy is very high. We should keep this in mind because, even if our trained model gets a high validation accuracy score, that doesn't mean it's actually *good.* "
   ]
  },
  {
   "cell_type": "markdown",
   "id": "41a8c05a",
   "metadata": {},
   "source": [
    "## Iterate"
   ]
  },
  {
   "cell_type": "markdown",
   "id": "8ee2cc1a",
   "metadata": {},
   "source": [
    "Now that we have a baseline, let's build a model to see if we can beat it."
   ]
  },
  {
   "cell_type": "markdown",
   "id": "5e4146cf",
   "metadata": {},
   "source": [
    "**Task 5.2.15:** Create three identical models: `model_reg`, `model_under` and `model_over`. All of them should use a `SimpleImputer` followed by a `DecisionTreeClassifier`. Train `model_reg` using the unaltered training data. For `model_under`, use the undersampled data. For `model_over`, use the oversampled data.\n"
   ]
  },
  {
   "cell_type": "code",
   "execution_count": 34,
   "id": "485cbc4b",
   "metadata": {},
   "outputs": [
    {
     "data": {
      "text/plain": [
       "Pipeline(steps=[('simpleimputer', SimpleImputer(strategy='median')),\n",
       "                ('decisiontreeclassifier',\n",
       "                 DecisionTreeClassifier(random_state=42))])"
      ]
     },
     "execution_count": 34,
     "metadata": {},
     "output_type": "execute_result"
    }
   ],
   "source": [
    "# Fit on `X_train`, `y_train`\n",
    "model_reg = make_pipeline(SimpleImputer(strategy=\"median\"),DecisionTreeClassifier(random_state=42))\n",
    "model_reg.fit(X_train,y_train)\n",
    "\n",
    "# Fit on `X_train_under`, `y_train_under`\n",
    "model_under = make_pipeline(SimpleImputer(strategy=\"median\"),DecisionTreeClassifier(random_state=42))\n",
    "model_under.fit(X_train_under,y_train_under)\n",
    "\n",
    "# Fit on `X_train_over`, `y_train_over`\n",
    "model_over = make_pipeline(SimpleImputer(strategy=\"median\"),DecisionTreeClassifier(random_state=42))\n",
    "model_over.fit(X_train_over,y_train_over)"
   ]
  },
  {
   "cell_type": "markdown",
   "id": "3a78a80f",
   "metadata": {},
   "source": [
    "## Evaluate"
   ]
  },
  {
   "cell_type": "markdown",
   "id": "d5dc83e1",
   "metadata": {},
   "source": [
    "**Task 5.2.16:** Calculate training and test accuracy for your three models. \n"
   ]
  },
  {
   "cell_type": "code",
   "execution_count": 37,
   "id": "3ef4fcf1",
   "metadata": {},
   "outputs": [
    {
     "name": "stdout",
     "output_type": "stream",
     "text": [
      "Training Accuracy: 1.0\n",
      "Test Accuracy: 0.9374\n",
      "Training Accuracy: 0.7336\n",
      "Test Accuracy: 0.7119\n",
      "Training Accuracy: 1.0\n",
      "Test Accuracy: 0.9434\n"
     ]
    }
   ],
   "source": [
    "for m in [model_reg, model_under, model_over]:\n",
    "    acc_train = m.score(X_train,y_train)\n",
    "    acc_test = m.score(X_test,y_test)\n",
    "\n",
    "    print(\"Training Accuracy:\", round(acc_train, 4))\n",
    "    print(\"Test Accuracy:\", round(acc_test, 4))"
   ]
  },
  {
   "cell_type": "markdown",
   "id": "89131bcb",
   "metadata": {},
   "source": [
    "As we mentioned earlier, \"good\" accuracy scores don't tell us much about the model's performance when dealing with imbalanced data. So instead of looking at what the model got right or wrong, let's see how its predictions differ for the two classes in the dataset."
   ]
  },
  {
   "cell_type": "markdown",
   "id": "3ef09d9f",
   "metadata": {},
   "source": [
    "**Task 5.2.17:** Plot a confusion matrix that shows how your best model performs on your validation set. \n"
   ]
  },
  {
   "cell_type": "markdown",
   "id": "710b0d4b",
   "metadata": {},
   "source": [
    "### Confusion Matrix"
   ]
  },
  {
   "cell_type": "markdown",
   "id": "0c620034",
   "metadata": {},
   "source": [
    "Accuracy score may not provide enough information to assess how a model is performing because it only gives us an overall score. Also, imbalanced data can lead to a high accuracy score even when a model isn't particularly useful. If we want to know what fraction of all positive predictions were correct and what fraction of positive observations did we identify, we can use a **confusion matrix**.\n",
    "\n",
    "A confusion matrix is a table summarizing the performance of the model by enumerating true and false positives and the true and false negatives.\n",
    "\n",
    "|                     | Positive Observation     | Negative Observation    |\n",
    "|---------------------|:------------------------:|:-----------------------:|\n",
    "| **Positive Prediction** |     True Positive (`TP`)   | False Positive (`FP`)     |\n",
    "| **Negative Prediction** | False Negative (`FN`)      |     True Negative (`TN`)  |"
   ]
  },
  {
   "cell_type": "code",
   "execution_count": 39,
   "id": "c20f62b6",
   "metadata": {},
   "outputs": [
    {
     "data": {
      "text/plain": [
       "<sklearn.metrics._plot.confusion_matrix.ConfusionMatrixDisplay at 0x1b5eb379190>"
      ]
     },
     "execution_count": 39,
     "metadata": {},
     "output_type": "execute_result"
    },
    {
     "data": {
      "image/png": "[encoded data removed]",
      "text/plain": [
       "<Figure size 432x288 with 2 Axes>"
      ]
     },
     "metadata": {
      "needs_background": "light"
     },
     "output_type": "display_data"
    }
   ],
   "source": [
    "# Plot confusion matrix\n",
    "ConfusionMatrixDisplay.from_estimator(model_reg,X_test,y_test)"
   ]
  },
  {
   "cell_type": "markdown",
   "id": "73b4d2c4",
   "metadata": {},
   "source": [
    "**Task 5.2.18:** Determine the depth of the decision tree in `model_over`.\n"
   ]
  },
  {
   "cell_type": "code",
   "execution_count": 40,
   "id": "ef6a91c0",
   "metadata": {},
   "outputs": [
    {
     "name": "stdout",
     "output_type": "stream",
     "text": [
      "36\n"
     ]
    }
   ],
   "source": [
    "depth = model_over.named_steps[\"decisiontreeclassifier\"].get_depth()\n",
    "print(depth)"
   ]
  },
  {
   "cell_type": "markdown",
   "id": "4aeaaecb",
   "metadata": {},
   "source": [
    "# Communicate"
   ]
  },
  {
   "cell_type": "markdown",
   "id": "746b9562",
   "metadata": {},
   "source": [
    "**Task 5.2.19:** Create a horizontal bar chart with the 15 most important features for `model_over`. Be sure to label your x-axis `\"Gini Importance\"`.\n"
   ]
  },
  {
   "cell_type": "code",
   "execution_count": 44,
   "id": "47de64f8",
   "metadata": {},
   "outputs": [
    {
     "data": {
      "text/plain": [
       "array([0.00047473, 0.        , 0.00263194, 0.00915735, 0.0281968 ,\n",
       "       0.01217747, 0.01561333, 0.00522965, 0.00873899, 0.00415118,\n",
       "       0.00332105, 0.00937702, 0.01313767, 0.00262946, 0.02513812,\n",
       "       0.00752933, 0.        , 0.        , 0.00742003, 0.00025501,\n",
       "       0.0175045 , 0.01274592, 0.00274226, 0.02905968, 0.03220819,\n",
       "       0.16076432, 0.12139919, 0.00233926, 0.01621715, 0.01493572,\n",
       "       0.00310372, 0.00328712, 0.00481407, 0.08931015, 0.02290262,\n",
       "       0.00094992, 0.00915906, 0.04075246, 0.00436359, 0.01380457,\n",
       "       0.01024098, 0.00153499, 0.0056556 , 0.00444821, 0.00470713,\n",
       "       0.01469244, 0.01330102, 0.00711756, 0.01094591, 0.00763145,\n",
       "       0.00419617, 0.00231398, 0.00268265, 0.00286237, 0.00669973,\n",
       "       0.01223722, 0.01140363, 0.06657545, 0.00724097, 0.00550112,\n",
       "       0.0039141 , 0.        , 0.        , 0.03655471])"
      ]
     },
     "execution_count": 44,
     "metadata": {},
     "output_type": "execute_result"
    }
   ],
   "source": [
    "importances = model_over.named_steps[\"decisiontreeclassifier\"].feature_importances_\n",
    "importances"
   ]
  },
  {
   "cell_type": "code",
   "execution_count": 45,
   "id": "06518da3",
   "metadata": {},
   "outputs": [
    {
     "data": {
      "text/plain": [
       "Attr_17    0.000000\n",
       "Attr_2     0.000000\n",
       "Attr_62    0.000000\n",
       "Attr_63    0.000000\n",
       "Attr_18    0.000000\n",
       "             ...   \n",
       "Attr_38    0.040752\n",
       "Attr_58    0.066575\n",
       "Attr_34    0.089310\n",
       "Attr_27    0.121399\n",
       "Attr_26    0.160764\n",
       "Length: 64, dtype: float64"
      ]
     },
     "execution_count": 45,
     "metadata": {},
     "output_type": "execute_result"
    }
   ],
   "source": [
    "feat_imp = pd.Series(importances,index=X_train_over.columns).sort_values()\n",
    "feat_imp"
   ]
  },
  {
   "cell_type": "code",
   "execution_count": 42,
   "id": "dbab2015",
   "metadata": {},
   "outputs": [
    {
     "data": {
      "image/png": "[encoded data removed]",
      "text/plain": [
       "<Figure size 432x288 with 1 Axes>"
      ]
     },
     "metadata": {
      "needs_background": "light"
     },
     "output_type": "display_data"
    }
   ],
   "source": [
    "# Get importances\n",
    "importances = model_over.named_steps[\"decisiontreeclassifier\"].feature_importances_\n",
    "\n",
    "# Put importances into a Series\n",
    "feat_imp = pd.Series(importances,index=X_train_over.columns).sort_values()\n",
    "\n",
    "# Plot series\n",
    "feat_imp.tail(15).plot(kind=\"barh\")\n",
    "plt.xlabel(\"Gini Importance\")\n",
    "plt.ylabel(\"Feature\")\n",
    "plt.title(\"model_over Feature Importance\");"
   ]
  },
  {
   "cell_type": "markdown",
   "id": "12a95b1e",
   "metadata": {},
   "source": [
    "**Task 5.2.20:** Using a context manager, save your best-performing model to a a file named `\"model-5-2.pkl\"`."
   ]
  },
  {
   "cell_type": "code",
   "execution_count": 46,
   "id": "38724738",
   "metadata": {},
   "outputs": [],
   "source": [
    "# Save your model as `\"model-5-2.pkl\"`\n",
    "with open(\"model-5-2.pkl\",\"wb\") as f :\n",
    "    pickle.dump(model_over,f)"
   ]
  },
  {
   "cell_type": "markdown",
   "id": "f1b9b377",
   "metadata": {},
   "source": [
    "**Task 5.2.21:** Make sure you've saved your model correctly by loading `\"model-5-2.pkl\"` and assigning to the variable `loaded_model`. Once you're satisfied with the result"
   ]
  },
  {
   "cell_type": "code",
   "execution_count": 47,
   "id": "2039f54c",
   "metadata": {},
   "outputs": [
    {
     "name": "stdout",
     "output_type": "stream",
     "text": [
      "Pipeline(steps=[('simpleimputer', SimpleImputer(strategy='median')),\n",
      "                ('decisiontreeclassifier',\n",
      "                 DecisionTreeClassifier(random_state=42))])\n"
     ]
    }
   ],
   "source": [
    "# Load `\"model-5-2.pkl\"`\n",
    "with open(\"model-5-2.pkl\",\"rb\") as f :\n",
    "    loaded_model = pickle.load(f)\n",
    "print(loaded_model)"
   ]
  },
  {
   "cell_type": "code",
   "execution_count": null,
   "id": "8f4e6e05",
   "metadata": {},
   "outputs": [],
   "source": []
  }
 ],
 "metadata": {
  "kernelspec": {
   "display_name": "Python 3 (ipykernel)",
   "language": "python",
   "name": "python3"
  },
  "language_info": {
   "codemirror_mode": {
    "name": "ipython",
    "version": 3
   },
   "file_extension": ".py",
   "mimetype": "text/x-python",
   "name": "python",
   "nbconvert_exporter": "python",
   "pygments_lexer": "ipython3",
   "version": "3.9.12"
  }
 },
 "nbformat": 4,
 "nbformat_minor": 5
}
