{
 "cells": [
  {
   "cell_type": "markdown",
   "id": "b7c03de9",
   "metadata": {},
   "source": [
    "<font size=\"+3\"><strong> Gradient Boosting Trees</strong></font>"
   ]
  },
  {
   "cell_type": "markdown",
   "id": "a9dc5b3e",
   "metadata": {},
   "source": [
    "You've been working hard, and now you have all the tools you need to build and tune  models. We'll start this lesson the same way we've started the others: preparing the data and building our model, and this time with a new ensemble model. Once it's working, we'll learn some new performance metrics to evaluate it. By the end of this lesson, you'll have written your first Python module!  "
   ]
  },
  {
   "cell_type": "code",
   "execution_count": 25,
   "id": "e84c4425",
   "metadata": {},
   "outputs": [],
   "source": [
    "import gzip\n",
    "import json\n",
    "import pickle\n",
    "\n",
    "import ipywidgets as widgets\n",
    "import pandas as pd\n",
    "from imblearn.over_sampling import RandomOverSampler\n",
    "from ipywidgets import interact\n",
    "from sklearn.ensemble import GradientBoostingClassifier\n",
    "from sklearn.impute import SimpleImputer\n",
    "from sklearn.metrics import (\n",
    "    ConfusionMatrixDisplay,\n",
    "    classification_report,\n",
    "    confusion_matrix,\n",
    ")\n",
    "from sklearn.model_selection import GridSearchCV, train_test_split\n",
    "from sklearn.pipeline import make_pipeline\n",
    "from teaching_tools.widgets import ConfusionMatrixWidget"
   ]
  },
  {
   "cell_type": "markdown",
   "id": "ea4961bf",
   "metadata": {},
   "source": [
    "# Prepare Data"
   ]
  },
  {
   "cell_type": "markdown",
   "id": "cf1ff23b",
   "metadata": {},
   "source": [
    "## Import"
   ]
  },
  {
   "cell_type": "markdown",
   "id": "d753dec6",
   "metadata": {},
   "source": [
    "**Task 5.4.1:** Complete the `wrangle` function below using the code you developed in the  lesson 5.1. Then use it to import `poland-bankruptcy-data-2009.json.gz` into the DataFrame `df`.\n"
   ]
  },
  {
   "cell_type": "code",
   "execution_count": 4,
   "id": "a4905f32",
   "metadata": {},
   "outputs": [],
   "source": [
    "def wrangle(filename):\n",
    "    \n",
    "    # Open compressed file, load into dictionary\n",
    "    with gzip.open(filename,\"r\") as f:\n",
    "        data = json.load(f)\n",
    "    # Load dictionary into DataFrame, set index\n",
    "    df=pd.DataFrame.from_dict(data[\"data\"]).set_index(\"company_id\")\n",
    "    return df"
   ]
  },
  {
   "cell_type": "code",
   "execution_count": 5,
   "id": "b1e98d87",
   "metadata": {},
   "outputs": [
    {
     "name": "stdout",
     "output_type": "stream",
     "text": [
      "(9977, 65)\n"
     ]
    },
    {
     "data": {
      "text/html": [
       "<div>\n",
       "<style scoped>\n",
       "    .dataframe tbody tr th:only-of-type {\n",
       "        vertical-align: middle;\n",
       "    }\n",
       "\n",
       "    .dataframe tbody tr th {\n",
       "        vertical-align: top;\n",
       "    }\n",
       "\n",
       "    .dataframe thead th {\n",
       "        text-align: right;\n",
       "    }\n",
       "</style>\n",
       "<table border=\"1\" class=\"dataframe\">\n",
       "  <thead>\n",
       "    <tr style=\"text-align: right;\">\n",
       "      <th></th>\n",
       "      <th>Attr_1</th>\n",
       "      <th>Attr_2</th>\n",
       "      <th>Attr_3</th>\n",
       "      <th>Attr_4</th>\n",
       "      <th>Attr_5</th>\n",
       "      <th>Attr_6</th>\n",
       "      <th>Attr_7</th>\n",
       "      <th>Attr_8</th>\n",
       "      <th>Attr_9</th>\n",
       "      <th>Attr_10</th>\n",
       "      <th>...</th>\n",
       "      <th>Attr_56</th>\n",
       "      <th>Attr_57</th>\n",
       "      <th>Attr_58</th>\n",
       "      <th>Attr_59</th>\n",
       "      <th>Attr_60</th>\n",
       "      <th>Attr_61</th>\n",
       "      <th>Attr_62</th>\n",
       "      <th>Attr_63</th>\n",
       "      <th>Attr_64</th>\n",
       "      <th>bankrupt</th>\n",
       "    </tr>\n",
       "    <tr>\n",
       "      <th>company_id</th>\n",
       "      <th></th>\n",
       "      <th></th>\n",
       "      <th></th>\n",
       "      <th></th>\n",
       "      <th></th>\n",
       "      <th></th>\n",
       "      <th></th>\n",
       "      <th></th>\n",
       "      <th></th>\n",
       "      <th></th>\n",
       "      <th></th>\n",
       "      <th></th>\n",
       "      <th></th>\n",
       "      <th></th>\n",
       "      <th></th>\n",
       "      <th></th>\n",
       "      <th></th>\n",
       "      <th></th>\n",
       "      <th></th>\n",
       "      <th></th>\n",
       "      <th></th>\n",
       "    </tr>\n",
       "  </thead>\n",
       "  <tbody>\n",
       "    <tr>\n",
       "      <th>1</th>\n",
       "      <td>0.174190</td>\n",
       "      <td>0.41299</td>\n",
       "      <td>0.14371</td>\n",
       "      <td>1.3480</td>\n",
       "      <td>-28.9820</td>\n",
       "      <td>0.60383</td>\n",
       "      <td>0.219460</td>\n",
       "      <td>1.1225</td>\n",
       "      <td>1.1961</td>\n",
       "      <td>0.46359</td>\n",
       "      <td>...</td>\n",
       "      <td>0.163960</td>\n",
       "      <td>0.375740</td>\n",
       "      <td>0.83604</td>\n",
       "      <td>0.000007</td>\n",
       "      <td>9.7145</td>\n",
       "      <td>6.2813</td>\n",
       "      <td>84.291</td>\n",
       "      <td>4.3303</td>\n",
       "      <td>4.0341</td>\n",
       "      <td>False</td>\n",
       "    </tr>\n",
       "    <tr>\n",
       "      <th>2</th>\n",
       "      <td>0.146240</td>\n",
       "      <td>0.46038</td>\n",
       "      <td>0.28230</td>\n",
       "      <td>1.6294</td>\n",
       "      <td>2.5952</td>\n",
       "      <td>0.00000</td>\n",
       "      <td>0.171850</td>\n",
       "      <td>1.1721</td>\n",
       "      <td>1.6018</td>\n",
       "      <td>0.53962</td>\n",
       "      <td>...</td>\n",
       "      <td>0.027516</td>\n",
       "      <td>0.271000</td>\n",
       "      <td>0.90108</td>\n",
       "      <td>0.000000</td>\n",
       "      <td>5.9882</td>\n",
       "      <td>4.1103</td>\n",
       "      <td>102.190</td>\n",
       "      <td>3.5716</td>\n",
       "      <td>5.9500</td>\n",
       "      <td>False</td>\n",
       "    </tr>\n",
       "    <tr>\n",
       "      <th>3</th>\n",
       "      <td>0.000595</td>\n",
       "      <td>0.22612</td>\n",
       "      <td>0.48839</td>\n",
       "      <td>3.1599</td>\n",
       "      <td>84.8740</td>\n",
       "      <td>0.19114</td>\n",
       "      <td>0.004572</td>\n",
       "      <td>2.9881</td>\n",
       "      <td>1.0077</td>\n",
       "      <td>0.67566</td>\n",
       "      <td>...</td>\n",
       "      <td>0.007639</td>\n",
       "      <td>0.000881</td>\n",
       "      <td>0.99236</td>\n",
       "      <td>0.000000</td>\n",
       "      <td>6.7742</td>\n",
       "      <td>3.7922</td>\n",
       "      <td>64.846</td>\n",
       "      <td>5.6287</td>\n",
       "      <td>4.4581</td>\n",
       "      <td>False</td>\n",
       "    </tr>\n",
       "    <tr>\n",
       "      <th>4</th>\n",
       "      <td>0.024526</td>\n",
       "      <td>0.43236</td>\n",
       "      <td>0.27546</td>\n",
       "      <td>1.7833</td>\n",
       "      <td>-10.1050</td>\n",
       "      <td>0.56944</td>\n",
       "      <td>0.024526</td>\n",
       "      <td>1.3057</td>\n",
       "      <td>1.0509</td>\n",
       "      <td>0.56453</td>\n",
       "      <td>...</td>\n",
       "      <td>0.048398</td>\n",
       "      <td>0.043445</td>\n",
       "      <td>0.95160</td>\n",
       "      <td>0.142980</td>\n",
       "      <td>4.2286</td>\n",
       "      <td>5.0528</td>\n",
       "      <td>98.783</td>\n",
       "      <td>3.6950</td>\n",
       "      <td>3.4844</td>\n",
       "      <td>False</td>\n",
       "    </tr>\n",
       "    <tr>\n",
       "      <th>5</th>\n",
       "      <td>0.188290</td>\n",
       "      <td>0.41504</td>\n",
       "      <td>0.34231</td>\n",
       "      <td>1.9279</td>\n",
       "      <td>-58.2740</td>\n",
       "      <td>0.00000</td>\n",
       "      <td>0.233580</td>\n",
       "      <td>1.4094</td>\n",
       "      <td>1.3393</td>\n",
       "      <td>0.58496</td>\n",
       "      <td>...</td>\n",
       "      <td>0.176480</td>\n",
       "      <td>0.321880</td>\n",
       "      <td>0.82635</td>\n",
       "      <td>0.073039</td>\n",
       "      <td>2.5912</td>\n",
       "      <td>7.0756</td>\n",
       "      <td>100.540</td>\n",
       "      <td>3.6303</td>\n",
       "      <td>4.6375</td>\n",
       "      <td>False</td>\n",
       "    </tr>\n",
       "  </tbody>\n",
       "</table>\n",
       "<p>5 rows × 65 columns</p>\n",
       "</div>"
      ],
      "text/plain": [
       "              Attr_1   Attr_2   Attr_3  Attr_4   Attr_5   Attr_6    Attr_7  \\\n",
       "company_id                                                                   \n",
       "1           0.174190  0.41299  0.14371  1.3480 -28.9820  0.60383  0.219460   \n",
       "2           0.146240  0.46038  0.28230  1.6294   2.5952  0.00000  0.171850   \n",
       "3           0.000595  0.22612  0.48839  3.1599  84.8740  0.19114  0.004572   \n",
       "4           0.024526  0.43236  0.27546  1.7833 -10.1050  0.56944  0.024526   \n",
       "5           0.188290  0.41504  0.34231  1.9279 -58.2740  0.00000  0.233580   \n",
       "\n",
       "            Attr_8  Attr_9  Attr_10  ...   Attr_56   Attr_57  Attr_58  \\\n",
       "company_id                           ...                                \n",
       "1           1.1225  1.1961  0.46359  ...  0.163960  0.375740  0.83604   \n",
       "2           1.1721  1.6018  0.53962  ...  0.027516  0.271000  0.90108   \n",
       "3           2.9881  1.0077  0.67566  ...  0.007639  0.000881  0.99236   \n",
       "4           1.3057  1.0509  0.56453  ...  0.048398  0.043445  0.95160   \n",
       "5           1.4094  1.3393  0.58496  ...  0.176480  0.321880  0.82635   \n",
       "\n",
       "             Attr_59  Attr_60  Attr_61  Attr_62  Attr_63  Attr_64  bankrupt  \n",
       "company_id                                                                   \n",
       "1           0.000007   9.7145   6.2813   84.291   4.3303   4.0341     False  \n",
       "2           0.000000   5.9882   4.1103  102.190   3.5716   5.9500     False  \n",
       "3           0.000000   6.7742   3.7922   64.846   5.6287   4.4581     False  \n",
       "4           0.142980   4.2286   5.0528   98.783   3.6950   3.4844     False  \n",
       "5           0.073039   2.5912   7.0756  100.540   3.6303   4.6375     False  \n",
       "\n",
       "[5 rows x 65 columns]"
      ]
     },
     "execution_count": 5,
     "metadata": {},
     "output_type": "execute_result"
    }
   ],
   "source": [
    "df = wrangle(\"data/poland-bankruptcy-data-2009.json.gz\")\n",
    "print(df.shape)\n",
    "df.head()"
   ]
  },
  {
   "cell_type": "markdown",
   "id": "a42c8d23",
   "metadata": {},
   "source": [
    "## Split"
   ]
  },
  {
   "cell_type": "markdown",
   "id": "f3faafa2",
   "metadata": {},
   "source": [
    "**Task 5.4.2:** Create your feature matrix `X` and target vector `y`. Your target is `\"bankrupt\"`. \n"
   ]
  },
  {
   "cell_type": "code",
   "execution_count": 6,
   "id": "d85ac3a9",
   "metadata": {},
   "outputs": [
    {
     "name": "stdout",
     "output_type": "stream",
     "text": [
      "X shape: (9977, 64)\n",
      "y shape: (9977,)\n"
     ]
    }
   ],
   "source": [
    "target = \"bankrupt\"\n",
    "X = df.drop(columns=\"bankrupt\")\n",
    "y = df[target]\n",
    "\n",
    "print(\"X shape:\", X.shape)\n",
    "print(\"y shape:\", y.shape)"
   ]
  },
  {
   "cell_type": "markdown",
   "id": "a52e2f6e",
   "metadata": {},
   "source": [
    "**Task 5.4.3:** Divide your data (`X` and `y`) into training and test sets using a randomized train-test split. Your test set should be 20% of your total data. And don't forget to set a `random_state` for reproducibility. \n"
   ]
  },
  {
   "cell_type": "code",
   "execution_count": 7,
   "id": "a5e30142",
   "metadata": {},
   "outputs": [
    {
     "name": "stdout",
     "output_type": "stream",
     "text": [
      "X_train shape: (7981, 64)\n",
      "y_train shape: (7981,)\n",
      "X_test shape: (1996, 64)\n",
      "y_test shape: (1996,)\n"
     ]
    }
   ],
   "source": [
    "X_train, X_test, y_train, y_test = train_test_split(\n",
    "    X,y,test_size=0.2 , random_state=42)\n",
    "\n",
    "print(\"X_train shape:\", X_train.shape)\n",
    "print(\"y_train shape:\", y_train.shape)\n",
    "print(\"X_test shape:\", X_test.shape)\n",
    "print(\"y_test shape:\", y_test.shape)"
   ]
  },
  {
   "cell_type": "markdown",
   "id": "5f1640ae",
   "metadata": {},
   "source": [
    "## Resample"
   ]
  },
  {
   "cell_type": "markdown",
   "id": "2ccc0d5e",
   "metadata": {},
   "source": [
    "**Task 5.4.4:** Create a new feature matrix `X_train_over` and target vector `y_train_over` by performing random over-sampling on the training data.\n"
   ]
  },
  {
   "cell_type": "code",
   "execution_count": 8,
   "id": "ecc1c983",
   "metadata": {},
   "outputs": [
    {
     "name": "stdout",
     "output_type": "stream",
     "text": [
      "X_train_over shape: (15194, 64)\n"
     ]
    },
    {
     "data": {
      "text/html": [
       "<div>\n",
       "<style scoped>\n",
       "    .dataframe tbody tr th:only-of-type {\n",
       "        vertical-align: middle;\n",
       "    }\n",
       "\n",
       "    .dataframe tbody tr th {\n",
       "        vertical-align: top;\n",
       "    }\n",
       "\n",
       "    .dataframe thead th {\n",
       "        text-align: right;\n",
       "    }\n",
       "</style>\n",
       "<table border=\"1\" class=\"dataframe\">\n",
       "  <thead>\n",
       "    <tr style=\"text-align: right;\">\n",
       "      <th></th>\n",
       "      <th>Attr_1</th>\n",
       "      <th>Attr_2</th>\n",
       "      <th>Attr_3</th>\n",
       "      <th>Attr_4</th>\n",
       "      <th>Attr_5</th>\n",
       "      <th>Attr_6</th>\n",
       "      <th>Attr_7</th>\n",
       "      <th>Attr_8</th>\n",
       "      <th>Attr_9</th>\n",
       "      <th>Attr_10</th>\n",
       "      <th>...</th>\n",
       "      <th>Attr_55</th>\n",
       "      <th>Attr_56</th>\n",
       "      <th>Attr_57</th>\n",
       "      <th>Attr_58</th>\n",
       "      <th>Attr_59</th>\n",
       "      <th>Attr_60</th>\n",
       "      <th>Attr_61</th>\n",
       "      <th>Attr_62</th>\n",
       "      <th>Attr_63</th>\n",
       "      <th>Attr_64</th>\n",
       "    </tr>\n",
       "  </thead>\n",
       "  <tbody>\n",
       "    <tr>\n",
       "      <th>0</th>\n",
       "      <td>0.121230</td>\n",
       "      <td>0.84119</td>\n",
       "      <td>0.156800</td>\n",
       "      <td>1.18900</td>\n",
       "      <td>25.4150</td>\n",
       "      <td>0.00000</td>\n",
       "      <td>0.149930</td>\n",
       "      <td>0.18879</td>\n",
       "      <td>2.36040</td>\n",
       "      <td>0.15881</td>\n",
       "      <td>...</td>\n",
       "      <td>2519.90</td>\n",
       "      <td>0.062611</td>\n",
       "      <td>0.763360</td>\n",
       "      <td>0.93666</td>\n",
       "      <td>0.000000</td>\n",
       "      <td>NaN</td>\n",
       "      <td>2.4956</td>\n",
       "      <td>128.260</td>\n",
       "      <td>2.8458</td>\n",
       "      <td>171.6300</td>\n",
       "    </tr>\n",
       "    <tr>\n",
       "      <th>1</th>\n",
       "      <td>0.009168</td>\n",
       "      <td>1.23540</td>\n",
       "      <td>-0.659060</td>\n",
       "      <td>0.22347</td>\n",
       "      <td>-143.1000</td>\n",
       "      <td>-0.57453</td>\n",
       "      <td>0.009168</td>\n",
       "      <td>-0.19052</td>\n",
       "      <td>1.75080</td>\n",
       "      <td>-0.23536</td>\n",
       "      <td>...</td>\n",
       "      <td>-199.71</td>\n",
       "      <td>-0.007404</td>\n",
       "      <td>-0.038951</td>\n",
       "      <td>0.99507</td>\n",
       "      <td>-1.603800</td>\n",
       "      <td>95.4700</td>\n",
       "      <td>10.5420</td>\n",
       "      <td>176.940</td>\n",
       "      <td>2.0628</td>\n",
       "      <td>2.1605</td>\n",
       "    </tr>\n",
       "    <tr>\n",
       "      <th>2</th>\n",
       "      <td>0.041290</td>\n",
       "      <td>0.32144</td>\n",
       "      <td>0.115610</td>\n",
       "      <td>1.38590</td>\n",
       "      <td>-64.4780</td>\n",
       "      <td>0.23585</td>\n",
       "      <td>0.041290</td>\n",
       "      <td>2.10300</td>\n",
       "      <td>1.07380</td>\n",
       "      <td>0.67599</td>\n",
       "      <td>...</td>\n",
       "      <td>1851.80</td>\n",
       "      <td>0.068742</td>\n",
       "      <td>0.061081</td>\n",
       "      <td>0.93126</td>\n",
       "      <td>0.032312</td>\n",
       "      <td>4.0947</td>\n",
       "      <td>16.1260</td>\n",
       "      <td>122.120</td>\n",
       "      <td>2.9889</td>\n",
       "      <td>1.5312</td>\n",
       "    </tr>\n",
       "    <tr>\n",
       "      <th>3</th>\n",
       "      <td>0.078780</td>\n",
       "      <td>0.39680</td>\n",
       "      <td>0.013543</td>\n",
       "      <td>1.05890</td>\n",
       "      <td>5.6338</td>\n",
       "      <td>0.00000</td>\n",
       "      <td>0.078780</td>\n",
       "      <td>1.52020</td>\n",
       "      <td>0.87894</td>\n",
       "      <td>0.60320</td>\n",
       "      <td>...</td>\n",
       "      <td>105.45</td>\n",
       "      <td>0.111240</td>\n",
       "      <td>0.130600</td>\n",
       "      <td>0.91263</td>\n",
       "      <td>0.276570</td>\n",
       "      <td>4435.2000</td>\n",
       "      <td>4.0019</td>\n",
       "      <td>95.499</td>\n",
       "      <td>3.8220</td>\n",
       "      <td>1.1619</td>\n",
       "    </tr>\n",
       "    <tr>\n",
       "      <th>4</th>\n",
       "      <td>0.061946</td>\n",
       "      <td>0.44483</td>\n",
       "      <td>0.108770</td>\n",
       "      <td>1.39480</td>\n",
       "      <td>40.3740</td>\n",
       "      <td>0.00000</td>\n",
       "      <td>0.078467</td>\n",
       "      <td>1.24810</td>\n",
       "      <td>1.08370</td>\n",
       "      <td>0.55517</td>\n",
       "      <td>...</td>\n",
       "      <td>305.28</td>\n",
       "      <td>0.083842</td>\n",
       "      <td>0.111580</td>\n",
       "      <td>0.92843</td>\n",
       "      <td>0.305000</td>\n",
       "      <td>548.4500</td>\n",
       "      <td>3.1107</td>\n",
       "      <td>92.786</td>\n",
       "      <td>3.9338</td>\n",
       "      <td>1.7601</td>\n",
       "    </tr>\n",
       "  </tbody>\n",
       "</table>\n",
       "<p>5 rows × 64 columns</p>\n",
       "</div>"
      ],
      "text/plain": [
       "     Attr_1   Attr_2    Attr_3   Attr_4    Attr_5   Attr_6    Attr_7   Attr_8  \\\n",
       "0  0.121230  0.84119  0.156800  1.18900   25.4150  0.00000  0.149930  0.18879   \n",
       "1  0.009168  1.23540 -0.659060  0.22347 -143.1000 -0.57453  0.009168 -0.19052   \n",
       "2  0.041290  0.32144  0.115610  1.38590  -64.4780  0.23585  0.041290  2.10300   \n",
       "3  0.078780  0.39680  0.013543  1.05890    5.6338  0.00000  0.078780  1.52020   \n",
       "4  0.061946  0.44483  0.108770  1.39480   40.3740  0.00000  0.078467  1.24810   \n",
       "\n",
       "    Attr_9  Attr_10  ...  Attr_55   Attr_56   Attr_57  Attr_58   Attr_59  \\\n",
       "0  2.36040  0.15881  ...  2519.90  0.062611  0.763360  0.93666  0.000000   \n",
       "1  1.75080 -0.23536  ...  -199.71 -0.007404 -0.038951  0.99507 -1.603800   \n",
       "2  1.07380  0.67599  ...  1851.80  0.068742  0.061081  0.93126  0.032312   \n",
       "3  0.87894  0.60320  ...   105.45  0.111240  0.130600  0.91263  0.276570   \n",
       "4  1.08370  0.55517  ...   305.28  0.083842  0.111580  0.92843  0.305000   \n",
       "\n",
       "     Attr_60  Attr_61  Attr_62  Attr_63   Attr_64  \n",
       "0        NaN   2.4956  128.260   2.8458  171.6300  \n",
       "1    95.4700  10.5420  176.940   2.0628    2.1605  \n",
       "2     4.0947  16.1260  122.120   2.9889    1.5312  \n",
       "3  4435.2000   4.0019   95.499   3.8220    1.1619  \n",
       "4   548.4500   3.1107   92.786   3.9338    1.7601  \n",
       "\n",
       "[5 rows x 64 columns]"
      ]
     },
     "execution_count": 8,
     "metadata": {},
     "output_type": "execute_result"
    }
   ],
   "source": [
    "over_sampler = RandomOverSampler(random_state=42)\n",
    "X_train_over, y_train_over = over_sampler.fit_resample(X_train,y_train)\n",
    "print(\"X_train_over shape:\", X_train_over.shape)\n",
    "X_train_over.head()"
   ]
  },
  {
   "cell_type": "markdown",
   "id": "77e1380b",
   "metadata": {},
   "source": [
    "# Build Model"
   ]
  },
  {
   "cell_type": "markdown",
   "id": "ff7e7321",
   "metadata": {},
   "source": [
    "Now let's put together our model. We'll start by calculating the baseline accuracy, just like we did last time."
   ]
  },
  {
   "cell_type": "markdown",
   "id": "dbbefcad",
   "metadata": {},
   "source": [
    "## Baseline"
   ]
  },
  {
   "cell_type": "markdown",
   "id": "7539b328",
   "metadata": {},
   "source": [
    "**Task 5.4.5:** Calculate the baseline accuracy score for your model.\n"
   ]
  },
  {
   "cell_type": "code",
   "execution_count": 9,
   "id": "5a329c57",
   "metadata": {},
   "outputs": [
    {
     "name": "stdout",
     "output_type": "stream",
     "text": [
      "Baseline Accuracy: 0.9519\n"
     ]
    }
   ],
   "source": [
    "acc_baseline = y_train.value_counts(normalize=True).max()\n",
    "print(\"Baseline Accuracy:\", round(acc_baseline, 4))"
   ]
  },
  {
   "cell_type": "markdown",
   "id": "a44506e7",
   "metadata": {},
   "source": [
    "## Iterate"
   ]
  },
  {
   "cell_type": "markdown",
   "id": "aa41525c",
   "metadata": {},
   "source": [
    "Even though the building blocks are the same, here's where we start working with something new. First, we're going to use a new type of ensemble model for our classifier. "
   ]
  },
  {
   "cell_type": "markdown",
   "id": "0f68383f",
   "metadata": {},
   "source": [
    "**Task 5.4.6:** Create a pipeline named `clf` (short for \"classifier\") that contains a `SimpleImputer` transformer and a `GradientBoostingClassifier` predictor.\n"
   ]
  },
  {
   "cell_type": "code",
   "execution_count": 10,
   "id": "9125f107",
   "metadata": {},
   "outputs": [],
   "source": [
    "clf = make_pipeline(SimpleImputer(),GradientBoostingClassifier())"
   ]
  },
  {
   "cell_type": "markdown",
   "id": "40aab761",
   "metadata": {},
   "source": [
    "Remember while we're doing this that we only want to be looking at the *positive* class. Here, the positive class is the one where the companies really did go bankrupt. In the dictionary we made last time, the positive class is made up of the companies with the `bankrupt: true` key-value pair.\n",
    "\n",
    "Next, we're going to tune some of the hyperparameters for our model."
   ]
  },
  {
   "cell_type": "markdown",
   "id": "a0db0a8d",
   "metadata": {},
   "source": [
    "**Task 5.4.7:** Create a dictionary with the range of hyperparameters that we want to evaluate for our classifier. \n",
    "\n",
    "1. For the `SimpleImputer`, try both the `\"mean\"` and `\"median\"` strategies. \n",
    "2. For the `GradientBoostingClassifier`, try `max_depth` settings between 2 and 5. \n",
    "3. Also for the `GradientBoostingClassifier`, try `n_estimators` settings between 20 and 31, by steps of 5."
   ]
  },
  {
   "cell_type": "code",
   "execution_count": 11,
   "id": "b4f597a0",
   "metadata": {},
   "outputs": [
    {
     "data": {
      "text/plain": [
       "{'simpleimputer__strategy': ['mean', 'median'],\n",
       " 'gradientboostingclassifier__n_estimators': range(20, 31, 5),\n",
       " 'gradientboostingclassifier__max_depth': range(2, 5)}"
      ]
     },
     "execution_count": 11,
     "metadata": {},
     "output_type": "execute_result"
    }
   ],
   "source": [
    "params = {\n",
    "    \"simpleimputer__strategy\":[\"mean\",\"median\"],\n",
    "    \"gradientboostingclassifier__n_estimators\":range(20,31,5),\n",
    "    \"gradientboostingclassifier__max_depth\":range(2,5)\n",
    "}\n",
    "params"
   ]
  },
  {
   "cell_type": "markdown",
   "id": "cd217f86",
   "metadata": {},
   "source": [
    "Note that we're trying much smaller numbers of `n_estimators`. This is because `GradientBoostingClassifier` is slower to train than the `RandomForestClassifier`. You can try increasing the number of estimators to see if model performance improves, but keep in mind that you could be waiting a long time!"
   ]
  },
  {
   "cell_type": "markdown",
   "id": "bdbafb1d",
   "metadata": {},
   "source": [
    "**Task 5.4.8:** Create a `GridSearchCV` named `model` that includes your classifier and hyperparameter grid. Be sure to use the same arguments for `cv` and `n_jobs` that you used above, and set `verbose` to 1. \n"
   ]
  },
  {
   "cell_type": "code",
   "execution_count": 12,
   "id": "0bb5fc0c",
   "metadata": {},
   "outputs": [
    {
     "data": {
      "text/plain": [
       "GridSearchCV(cv=5,\n",
       "             estimator=Pipeline(steps=[('simpleimputer', SimpleImputer()),\n",
       "                                       ('gradientboostingclassifier',\n",
       "                                        GradientBoostingClassifier())]),\n",
       "             n_jobs=-1,\n",
       "             param_grid={'gradientboostingclassifier__max_depth': range(2, 5),\n",
       "                         'gradientboostingclassifier__n_estimators': range(20, 31, 5),\n",
       "                         'simpleimputer__strategy': ['mean', 'median']},\n",
       "             verbose=1)"
      ]
     },
     "execution_count": 12,
     "metadata": {},
     "output_type": "execute_result"
    }
   ],
   "source": [
    "model = GridSearchCV(\n",
    "    clf,\n",
    "    param_grid=params,\n",
    "    cv=5,\n",
    "    n_jobs=-1,\n",
    "    verbose=1\n",
    ")\n",
    "model"
   ]
  },
  {
   "cell_type": "markdown",
   "id": "802e275e",
   "metadata": {},
   "source": [
    "**Task 5.4.9:** Fit your `model` to the over-sampled training data."
   ]
  },
  {
   "cell_type": "code",
   "execution_count": 13,
   "id": "5f186fd3",
   "metadata": {},
   "outputs": [
    {
     "name": "stdout",
     "output_type": "stream",
     "text": [
      "Fitting 5 folds for each of 18 candidates, totalling 90 fits\n"
     ]
    },
    {
     "data": {
      "text/plain": [
       "GridSearchCV(cv=5,\n",
       "             estimator=Pipeline(steps=[('simpleimputer', SimpleImputer()),\n",
       "                                       ('gradientboostingclassifier',\n",
       "                                        GradientBoostingClassifier())]),\n",
       "             n_jobs=-1,\n",
       "             param_grid={'gradientboostingclassifier__max_depth': range(2, 5),\n",
       "                         'gradientboostingclassifier__n_estimators': range(20, 31, 5),\n",
       "                         'simpleimputer__strategy': ['mean', 'median']},\n",
       "             verbose=1)"
      ]
     },
     "execution_count": 13,
     "metadata": {},
     "output_type": "execute_result"
    }
   ],
   "source": [
    "# Fit model to over-sampled training data\n",
    "model.fit(X_train_over,y_train_over)"
   ]
  },
  {
   "cell_type": "markdown",
   "id": "8c8243c1",
   "metadata": {},
   "source": [
    "**Task 5.4.10:** Extract the cross-validation results from `model` and load them into a DataFrame named `cv_results`.\n",
    "\n",
    "- Get cross-validation results from a hyperparameter search in scikit-learn."
   ]
  },
  {
   "cell_type": "code",
   "execution_count": 15,
   "id": "1e4cba2b",
   "metadata": {},
   "outputs": [
    {
     "data": {
      "text/html": [
       "<div>\n",
       "<style scoped>\n",
       "    .dataframe tbody tr th:only-of-type {\n",
       "        vertical-align: middle;\n",
       "    }\n",
       "\n",
       "    .dataframe tbody tr th {\n",
       "        vertical-align: top;\n",
       "    }\n",
       "\n",
       "    .dataframe thead th {\n",
       "        text-align: right;\n",
       "    }\n",
       "</style>\n",
       "<table border=\"1\" class=\"dataframe\">\n",
       "  <thead>\n",
       "    <tr style=\"text-align: right;\">\n",
       "      <th></th>\n",
       "      <th>mean_fit_time</th>\n",
       "      <th>std_fit_time</th>\n",
       "      <th>mean_score_time</th>\n",
       "      <th>std_score_time</th>\n",
       "      <th>param_gradientboostingclassifier__max_depth</th>\n",
       "      <th>param_gradientboostingclassifier__n_estimators</th>\n",
       "      <th>param_simpleimputer__strategy</th>\n",
       "      <th>params</th>\n",
       "      <th>split0_test_score</th>\n",
       "      <th>split1_test_score</th>\n",
       "      <th>split2_test_score</th>\n",
       "      <th>split3_test_score</th>\n",
       "      <th>split4_test_score</th>\n",
       "      <th>mean_test_score</th>\n",
       "      <th>std_test_score</th>\n",
       "      <th>rank_test_score</th>\n",
       "    </tr>\n",
       "  </thead>\n",
       "  <tbody>\n",
       "    <tr>\n",
       "      <th>16</th>\n",
       "      <td>13.728664</td>\n",
       "      <td>0.291767</td>\n",
       "      <td>0.013763</td>\n",
       "      <td>0.001716</td>\n",
       "      <td>4</td>\n",
       "      <td>30</td>\n",
       "      <td>mean</td>\n",
       "      <td>{'gradientboostingclassifier__max_depth': 4, '...</td>\n",
       "      <td>0.918723</td>\n",
       "      <td>0.917736</td>\n",
       "      <td>0.905561</td>\n",
       "      <td>0.908852</td>\n",
       "      <td>0.905201</td>\n",
       "      <td>0.911215</td>\n",
       "      <td>0.005876</td>\n",
       "      <td>1</td>\n",
       "    </tr>\n",
       "    <tr>\n",
       "      <th>14</th>\n",
       "      <td>10.741856</td>\n",
       "      <td>0.252729</td>\n",
       "      <td>0.012367</td>\n",
       "      <td>0.001017</td>\n",
       "      <td>4</td>\n",
       "      <td>25</td>\n",
       "      <td>mean</td>\n",
       "      <td>{'gradientboostingclassifier__max_depth': 4, '...</td>\n",
       "      <td>0.908523</td>\n",
       "      <td>0.908193</td>\n",
       "      <td>0.899967</td>\n",
       "      <td>0.899638</td>\n",
       "      <td>0.894997</td>\n",
       "      <td>0.902264</td>\n",
       "      <td>0.005279</td>\n",
       "      <td>2</td>\n",
       "    </tr>\n",
       "    <tr>\n",
       "      <th>17</th>\n",
       "      <td>12.804138</td>\n",
       "      <td>1.242345</td>\n",
       "      <td>0.011576</td>\n",
       "      <td>0.002319</td>\n",
       "      <td>4</td>\n",
       "      <td>30</td>\n",
       "      <td>median</td>\n",
       "      <td>{'gradientboostingclassifier__max_depth': 4, '...</td>\n",
       "      <td>0.900296</td>\n",
       "      <td>0.906877</td>\n",
       "      <td>0.897335</td>\n",
       "      <td>0.897006</td>\n",
       "      <td>0.900592</td>\n",
       "      <td>0.900421</td>\n",
       "      <td>0.003547</td>\n",
       "      <td>3</td>\n",
       "    </tr>\n",
       "    <tr>\n",
       "      <th>15</th>\n",
       "      <td>10.879488</td>\n",
       "      <td>0.101163</td>\n",
       "      <td>0.012766</td>\n",
       "      <td>0.000746</td>\n",
       "      <td>4</td>\n",
       "      <td>25</td>\n",
       "      <td>median</td>\n",
       "      <td>{'gradientboostingclassifier__max_depth': 4, '...</td>\n",
       "      <td>0.890424</td>\n",
       "      <td>0.897993</td>\n",
       "      <td>0.885160</td>\n",
       "      <td>0.886476</td>\n",
       "      <td>0.892693</td>\n",
       "      <td>0.890549</td>\n",
       "      <td>0.004597</td>\n",
       "      <td>4</td>\n",
       "    </tr>\n",
       "    <tr>\n",
       "      <th>12</th>\n",
       "      <td>8.385960</td>\n",
       "      <td>0.035662</td>\n",
       "      <td>0.011786</td>\n",
       "      <td>0.000409</td>\n",
       "      <td>4</td>\n",
       "      <td>20</td>\n",
       "      <td>mean</td>\n",
       "      <td>{'gradientboostingclassifier__max_depth': 4, '...</td>\n",
       "      <td>0.897006</td>\n",
       "      <td>0.896347</td>\n",
       "      <td>0.886147</td>\n",
       "      <td>0.883185</td>\n",
       "      <td>0.885780</td>\n",
       "      <td>0.889693</td>\n",
       "      <td>0.005796</td>\n",
       "      <td>5</td>\n",
       "    </tr>\n",
       "  </tbody>\n",
       "</table>\n",
       "</div>"
      ],
      "text/plain": [
       "    mean_fit_time  std_fit_time  mean_score_time  std_score_time  \\\n",
       "16      13.728664      0.291767         0.013763        0.001716   \n",
       "14      10.741856      0.252729         0.012367        0.001017   \n",
       "17      12.804138      1.242345         0.011576        0.002319   \n",
       "15      10.879488      0.101163         0.012766        0.000746   \n",
       "12       8.385960      0.035662         0.011786        0.000409   \n",
       "\n",
       "   param_gradientboostingclassifier__max_depth  \\\n",
       "16                                           4   \n",
       "14                                           4   \n",
       "17                                           4   \n",
       "15                                           4   \n",
       "12                                           4   \n",
       "\n",
       "   param_gradientboostingclassifier__n_estimators  \\\n",
       "16                                             30   \n",
       "14                                             25   \n",
       "17                                             30   \n",
       "15                                             25   \n",
       "12                                             20   \n",
       "\n",
       "   param_simpleimputer__strategy  \\\n",
       "16                          mean   \n",
       "14                          mean   \n",
       "17                        median   \n",
       "15                        median   \n",
       "12                          mean   \n",
       "\n",
       "                                               params  split0_test_score  \\\n",
       "16  {'gradientboostingclassifier__max_depth': 4, '...           0.918723   \n",
       "14  {'gradientboostingclassifier__max_depth': 4, '...           0.908523   \n",
       "17  {'gradientboostingclassifier__max_depth': 4, '...           0.900296   \n",
       "15  {'gradientboostingclassifier__max_depth': 4, '...           0.890424   \n",
       "12  {'gradientboostingclassifier__max_depth': 4, '...           0.897006   \n",
       "\n",
       "    split1_test_score  split2_test_score  split3_test_score  \\\n",
       "16           0.917736           0.905561           0.908852   \n",
       "14           0.908193           0.899967           0.899638   \n",
       "17           0.906877           0.897335           0.897006   \n",
       "15           0.897993           0.885160           0.886476   \n",
       "12           0.896347           0.886147           0.883185   \n",
       "\n",
       "    split4_test_score  mean_test_score  std_test_score  rank_test_score  \n",
       "16           0.905201         0.911215        0.005876                1  \n",
       "14           0.894997         0.902264        0.005279                2  \n",
       "17           0.900592         0.900421        0.003547                3  \n",
       "15           0.892693         0.890549        0.004597                4  \n",
       "12           0.885780         0.889693        0.005796                5  "
      ]
     },
     "execution_count": 15,
     "metadata": {},
     "output_type": "execute_result"
    }
   ],
   "source": [
    "results = pd.DataFrame(model.cv_results_)\n",
    "results.sort_values(\"rank_test_score\").head()"
   ]
  },
  {
   "cell_type": "markdown",
   "id": "c755d447",
   "metadata": {},
   "source": [
    "**Task 5.4.11:** Extract the best hyperparameters from `model`.\n"
   ]
  },
  {
   "cell_type": "code",
   "execution_count": 16,
   "id": "173b1be8",
   "metadata": {},
   "outputs": [
    {
     "data": {
      "text/plain": [
       "{'gradientboostingclassifier__max_depth': 4,\n",
       " 'gradientboostingclassifier__n_estimators': 30,\n",
       " 'simpleimputer__strategy': 'mean'}"
      ]
     },
     "execution_count": 16,
     "metadata": {},
     "output_type": "execute_result"
    }
   ],
   "source": [
    "# Extract best hyperparameters\n",
    "model.best_params_"
   ]
  },
  {
   "cell_type": "markdown",
   "id": "f7566ff1",
   "metadata": {},
   "source": [
    "## Evaluate"
   ]
  },
  {
   "cell_type": "markdown",
   "id": "afc46712",
   "metadata": {},
   "source": [
    "Now that we have a working model that's actually giving us something useful, let's see how good it really is."
   ]
  },
  {
   "cell_type": "markdown",
   "id": "01721563",
   "metadata": {},
   "source": [
    "**Task 5.4.12:** Calculate the training and test accuracy scores for `model`. \n"
   ]
  },
  {
   "cell_type": "code",
   "execution_count": 17,
   "id": "dbae514f",
   "metadata": {},
   "outputs": [
    {
     "name": "stdout",
     "output_type": "stream",
     "text": [
      "Training Accuracy: 0.9054\n",
      "Validation Accuracy: 0.8768\n"
     ]
    }
   ],
   "source": [
    "acc_train = model.score(X_train,y_train)\n",
    "acc_test = model.score(X_test,y_test)\n",
    "print(\"Training Accuracy:\", round(acc_train, 4))\n",
    "print(\"Validation Accuracy:\", round(acc_test, 4))"
   ]
  },
  {
   "cell_type": "markdown",
   "id": "611f9110",
   "metadata": {},
   "source": [
    "**Task 5.4.13:** Plot a confusion matrix that shows how your best model performs on your test set. \n"
   ]
  },
  {
   "cell_type": "code",
   "execution_count": 18,
   "id": "b6bbb746",
   "metadata": {},
   "outputs": [
    {
     "data": {
      "text/plain": [
       "<sklearn.metrics._plot.confusion_matrix.ConfusionMatrixDisplay at 0x26bb761d670>"
      ]
     },
     "execution_count": 18,
     "metadata": {},
     "output_type": "execute_result"
    },
    {
     "data": {
      "image/png": "[encoded data removed]",
      "text/plain": [
       "<Figure size 432x288 with 2 Axes>"
      ]
     },
     "metadata": {
      "needs_background": "light"
     },
     "output_type": "display_data"
    }
   ],
   "source": [
    "# Plot confusion matrix\n",
    "ConfusionMatrixDisplay.from_estimator(model,X_test,y_test)"
   ]
  },
  {
   "cell_type": "markdown",
   "id": "5991a513",
   "metadata": {},
   "source": [
    "This matrix is a great reminder of how imbalanced our data is, and of why accuracy isn't always the best metric for judging whether or not a model is giving us what we want. After all, if 95% of the companies in our dataset didn't go bankrupt, all the model has to do is always predict `{\"bankrupt\": False}`, and it'll be right 95% of the time. The accuracy score will be amazing, but it won't tell us what we really need to know.\n",
    "\n",
    "Instead, we can evaluate our model using two new metrics: **precision** and **recall**.  The precision score is important when we want our model to only predict that a company will go bankrupt if its very confident in its prediction. The *recall* score is important if we want to make sure to identify all the companies that will go bankrupt, even if that means being incorrect sometimes. \n",
    "\n",
    "Let's start with a report you can create with scikit-learn to calculate both metrics. Then we'll look at them one-by-one using a visualization tool we've built especially for the Data Science Lab."
   ]
  },
  {
   "cell_type": "markdown",
   "id": "bacb947d",
   "metadata": {},
   "source": [
    "**Task 5.4.14:** Print the classification report for your model, using the test set.\n"
   ]
  },
  {
   "cell_type": "code",
   "execution_count": 19,
   "id": "c6d3264b",
   "metadata": {},
   "outputs": [
    {
     "name": "stdout",
     "output_type": "stream",
     "text": [
      "              precision    recall  f1-score   support\n",
      "\n",
      "       False       0.99      0.88      0.93      1912\n",
      "        True       0.22      0.77      0.35        84\n",
      "\n",
      "    accuracy                           0.88      1996\n",
      "   macro avg       0.61      0.83      0.64      1996\n",
      "weighted avg       0.96      0.88      0.91      1996\n",
      "\n"
     ]
    }
   ],
   "source": [
    "# Print classification report\n",
    "print(classification_report(y_test,model.predict(X_test)))"
   ]
  },
  {
   "cell_type": "markdown",
   "id": "492e1d4d",
   "metadata": {},
   "source": [
    "**Task 5.4.15:** Run the cell below to load the confusion matrix widget.\n"
   ]
  },
  {
   "cell_type": "code",
   "execution_count": 26,
   "id": "8d3af93f",
   "metadata": {},
   "outputs": [
    {
     "data": {
      "application/vnd.jupyter.widget-view+json": {
       "model_id": "b2fefc53bf09445fa09cd5ac6a0473a0",
       "version_major": 2,
       "version_minor": 0
      },
      "text/plain": [
       "FloatSlider(value=0.5, continuous_update=False, description='Threshold:', max=1.0)"
      ]
     },
     "metadata": {},
     "output_type": "display_data"
    },
    {
     "data": {
      "application/vnd.jupyter.widget-view+json": {
       "model_id": "dc8de8c353b241b6ba8ac68f61103bd1",
       "version_major": 2,
       "version_minor": 0
      },
      "text/plain": [
       "HBox(children=(Output(layout=Layout(height='300px', width='300px')), VBox(children=(Output(layout=Layout(heigh…"
      ]
     },
     "metadata": {},
     "output_type": "display_data"
    }
   ],
   "source": [
    "c = ConfusionMatrixWidget(model, X_test, y_test)\n",
    "c.show()"
   ]
  },
  {
   "cell_type": "markdown",
   "id": "15618758",
   "metadata": {},
   "source": [
    "If you move the probability threshold, you can see that there's a tradeoff between precision and recall. That is, as one gets better, the other suffers. As a data scientist, you'll often need to decide whether you want a model with better precision or better recall. What you choose will depend on how to intend to use your model.\n",
    "\n",
    "Let's look at two examples, one where recall is the priority and one where precision is more important. First, let's say you work for a regulatory agency in the European Union that assists companies and investors navigate [insolvency proceedings](https://en.wikipedia.org/wiki/Insolvency_Regulation). You want to build a model to predict which companies could go bankrupt so that you can send debtors information about filing for legal protection before their company becomes insolvent. The administrative costs of sending information to a company is €500. The legal costs to the European court system if a company doesn't file for protection before bankruptcy is €50,000.\n",
    "\n",
    "For a model like this, we want to focus on **recall**, because recall is all about *quantity*. A model that prioritizes recall will cast the widest possible net, which is the way to approach this problem. We want to send information to as many potentially-bankrupt companies as possible, because it costs a lot less to send information to a company that might not become insolvent than it does to skip a company that does. "
   ]
  },
  {
   "cell_type": "markdown",
   "id": "a6c6f60e",
   "metadata": {},
   "source": [
    "**Task 5.4.16:** Run the cell below, and use the slider to change the probability threshold of your model. What relationship do you see between changes in the threshold and changes in wasted administrative and legal costs? In your opinion, which is more important for this model: high precision or high recall?"
   ]
  },
  {
   "cell_type": "code",
   "execution_count": 27,
   "id": "d77b3a41",
   "metadata": {},
   "outputs": [
    {
     "data": {
      "application/vnd.jupyter.widget-view+json": {
       "model_id": "d5e2c4af5a584305b58474d512eda1c3",
       "version_major": 2,
       "version_minor": 0
      },
      "text/plain": [
       "FloatSlider(value=0.5, continuous_update=False, description='Threshold:', max=1.0)"
      ]
     },
     "metadata": {},
     "output_type": "display_data"
    },
    {
     "data": {
      "application/vnd.jupyter.widget-view+json": {
       "model_id": "81d2d4b00e0240cf8598aa33b476dc9d",
       "version_major": 2,
       "version_minor": 0
      },
      "text/plain": [
       "HBox(children=(Output(layout=Layout(height='300px', width='300px')), VBox(children=(Output(layout=Layout(heigh…"
      ]
     },
     "metadata": {},
     "output_type": "display_data"
    }
   ],
   "source": [
    "c.show_eu()"
   ]
  },
  {
   "cell_type": "markdown",
   "id": "9557fb90",
   "metadata": {},
   "source": [
    "For the second example, let's say we work at a private equity firm that purchases distressed businesses, improve them, and then sells them for a profit. You want to build a model to predict which companies will go bankrupt so that you can purchase them ahead of your competitors. If the firm purchases a company that is indeed insolvent, it can make a profit of €100 million or more. But if it purchases a company that isn't insolvent and can't be resold at a profit, the firm will lose €250 million. \n",
    "\n",
    "For a model like this, we want to focus on **precision**. If we're trying to maximize our profit, the *quality* of our predictions is much more important than the *quantity* of our predictions. It's not a big deal if we don't catch every single insolvent company, but it's *definitely* a big deal if the companies we catch don't end up becoming insolvent.\n",
    "\n",
    "This time we're going to build the visualization together. "
   ]
  },
  {
   "cell_type": "markdown",
   "id": "0246dadb",
   "metadata": {},
   "source": [
    "**Task 5.4.17:** Create an interactive dashboard that shows how company profit and losses change in relationship to your model's probability threshold. Start with the `make_cnf_matrix` function, which should calculate and print profit/losses, and display a confusion matrix. Then create a FloatSlider `thresh_widget` that ranges from 0 to 1. Finally combine your function and slider in the `interact` function."
   ]
  },
  {
   "cell_type": "code",
   "execution_count": 29,
   "id": "9c75383c",
   "metadata": {},
   "outputs": [
    {
     "name": "stdout",
     "output_type": "stream",
     "text": [
      "profit: €65000000\n",
      "losses: €567500000\n"
     ]
    }
   ],
   "source": [
    "threshold = 0.5\n",
    "y_pred_proba = model.predict_proba(X_test)[:,-1]\n",
    "y_pred = y_pred_proba>threshold\n",
    "conf_matrix = confusion_matrix(y_test,y_pred)\n",
    "tn, fp, fn, tp = conf_matrix.ravel()\n",
    "print(f\"profit: €{tp*100_00_00}\")\n",
    "print(f\"losses: €{fp*250_00_00}\")"
   ]
  },
  {
   "cell_type": "code",
   "execution_count": 30,
   "id": "280428a7",
   "metadata": {},
   "outputs": [
    {
     "data": {
      "application/vnd.jupyter.widget-view+json": {
       "model_id": "55465519cc124a8dbe4064df9bb0e1f0",
       "version_major": 2,
       "version_minor": 0
      },
      "text/plain": [
       "interactive(children=(FloatSlider(value=0.5, description='threshold', max=1.0, step=0.05), Output()), _dom_cla…"
      ]
     },
     "metadata": {},
     "output_type": "display_data"
    }
   ],
   "source": [
    "def make_cnf_matrix(threshold):\n",
    "    \n",
    "    y_pred_proba = model.predict_proba(X_test)[:,-1]\n",
    "    y_pred = y_pred_proba>threshold\n",
    "    conf_matrix = confusion_matrix(y_test,y_pred)\n",
    "    tn, fp, fn, tp = conf_matrix.ravel()\n",
    "    print(f\"profit: €{tp*100_00_00}\")\n",
    "    print(f\"losses: €{fp*250_00_00}\")\n",
    "\n",
    "\n",
    "thresh_widget = widgets.FloatSlider(min=0, max=1, value=0.5, step=0.05)\n",
    "\n",
    "interact(make_cnf_matrix, threshold=thresh_widget);"
   ]
  },
  {
   "cell_type": "markdown",
   "id": "85032ded",
   "metadata": {},
   "source": [
    "# Communicate"
   ]
  },
  {
   "cell_type": "markdown",
   "id": "21f8a1c5",
   "metadata": {},
   "source": [
    "Almost there! Save the best model so we can share it with other people, then put it all together with what we learned in the last lesson."
   ]
  },
  {
   "cell_type": "markdown",
   "id": "7a303dc4",
   "metadata": {},
   "source": [
    "**Task 5.4.18:** Using a context manager, save your best-performing model to a file named `\"model-5-4.pkl\"`. \n"
   ]
  },
  {
   "cell_type": "code",
   "execution_count": 31,
   "id": "0a245f47",
   "metadata": {},
   "outputs": [],
   "source": [
    "# Save model\n",
    "with open(\"model-5-4.pkl\",\"wb\") as f :\n",
    "    pickle.dump(model.best_estimator_,f)"
   ]
  },
  {
   "cell_type": "markdown",
   "id": "ec331bd2",
   "metadata": {},
   "source": [
    "**Task 5.4.19:** Open the file `my_predictor_lesson.py`, add the `wrangle` and `make_predictions` functions from the last lesson, and add all the necessary import statements to the top of the file. Once you're done, save the file. You can check that the contents are correct by running the cell below. \n"
   ]
  },
  {
   "cell_type": "code",
   "execution_count": 47,
   "id": "6aa305b3",
   "metadata": {},
   "outputs": [],
   "source": [
    "# %%bash\n",
    "\n",
    "# cat my_predictor_lesson.py"
   ]
  },
  {
   "cell_type": "code",
   "execution_count": 42,
   "id": "38533bf8",
   "metadata": {},
   "outputs": [
    {
     "name": "stdout",
     "output_type": "stream",
     "text": [
      "# Import libraries\n",
      "import gzip\n",
      "import json\n",
      "import pickle\n",
      "\n",
      "import pandas as pd\n",
      "\n",
      "\n",
      "# Add wrangle function from lesson 5.4\n",
      "def wrangle(filename):\n",
      "    \n",
      "    # Open compressed file, load into dictionary\n",
      "    with gzip.open(filename,\"r\") as f:\n",
      "        data = json.load(f)\n",
      "    # Load dictionary into DataFrame, set index\n",
      "    df=pd.DataFrame.from_dict(data[\"data\"]).set_index(\"company_id\")\n",
      "    return df\n",
      "\n",
      "\n",
      "# Add make_predictions function from lesson 5.3\n",
      "def make_predictions(data_filepath, model_filepath):\n",
      "    # Wrangle JSON file\n",
      "    X_test = wrangle(data_filepath)\n",
      "    # Load model\n",
      "    with open (model_filepath, \"rb\") as f:\n",
      "        model = pickle.load(f)\n",
      "    # Generate predictions\n",
      "    y_test_pred = model.predict(X_test)\n",
      "    # Put predictions into Series with name \"bankrupt\", and same index as X_test\n",
      "    y_test_pred = pd.Series(y_test_pred, index=X_test.index, name=\"bankrupt\")\n",
      "    return y_test_pred\n",
      "\n"
     ]
    }
   ],
   "source": [
    "with open('my_predictor_lesson.py', 'r') as file:\n",
    "    contents = file.read()\n",
    "    print(contents)"
   ]
  },
  {
   "cell_type": "markdown",
   "id": "3ecc4b44",
   "metadata": {},
   "source": [
    "**Task 5.4.20:** Import your `make_predictions` function from your `my_predictor` module, and use the code below to make sure it works as expected. Once you're satisfied, submit it to the grader.  "
   ]
  },
  {
   "cell_type": "code",
   "execution_count": 48,
   "id": "64d9323b",
   "metadata": {},
   "outputs": [
    {
     "name": "stdout",
     "output_type": "stream",
     "text": [
      "predictions shape: (526,)\n"
     ]
    },
    {
     "data": {
      "text/plain": [
       "company_id\n",
       "9     False\n",
       "28    False\n",
       "40     True\n",
       "81    False\n",
       "83    False\n",
       "Name: bankrupt, dtype: bool"
      ]
     },
     "execution_count": 48,
     "metadata": {},
     "output_type": "execute_result"
    }
   ],
   "source": [
    "# Import your module\n",
    "from my_predictor_lesson import make_predictions\n",
    "\n",
    "# Generate predictions\n",
    "y_test_pred = make_predictions(\n",
    "    data_filepath=\"data/poland-bankruptcy-data-2009-mvp-features.json.gz\",\n",
    "    model_filepath=\"model-5-4.pkl\",\n",
    ")\n",
    "\n",
    "print(\"predictions shape:\", y_test_pred.shape)\n",
    "y_test_pred.head()"
   ]
  },
  {
   "cell_type": "code",
   "execution_count": null,
   "id": "b96ceddc",
   "metadata": {},
   "outputs": [],
   "source": []
  }
 ],
 "metadata": {
  "kernelspec": {
   "display_name": "Python 3 (ipykernel)",
   "language": "python",
   "name": "python3"
  },
  "language_info": {
   "codemirror_mode": {
    "name": "ipython",
    "version": 3
   },
   "file_extension": ".py",
   "mimetype": "text/x-python",
   "name": "python",
   "nbconvert_exporter": "python",
   "pygments_lexer": "ipython3",
   "version": "3.9.12"
  }
 },
 "nbformat": 4,
 "nbformat_minor": 5
}
