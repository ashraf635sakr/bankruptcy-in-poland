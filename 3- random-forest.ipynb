{
 "cells": [
  {
   "cell_type": "markdown",
   "id": "c4872da0",
   "metadata": {},
   "source": [
    "<font size=\"+3\"><strong> Ensemble Models: Random Forest</strong></font>"
   ]
  },
  {
   "cell_type": "markdown",
   "id": "563e56b9",
   "metadata": {},
   "source": [
    "In this lesson, we're going to expand our decision tree model into an entire forest (an example of something called an **ensemble model**); learn how to use a **grid search** to tune hyperparameters; and create a function that loads data and a pre-trained model, and uses that model to generate a Series of predictions."
   ]
  },
  {
   "cell_type": "code",
   "execution_count": 1,
   "id": "dc8982cb",
   "metadata": {},
   "outputs": [],
   "source": [
    "import gzip\n",
    "import json\n",
    "import pickle\n",
    "\n",
    "import matplotlib.pyplot as plt\n",
    "import pandas as pd\n",
    "from imblearn.over_sampling import RandomOverSampler\n",
    "from sklearn.ensemble import RandomForestClassifier\n",
    "from sklearn.impute import SimpleImputer\n",
    "from sklearn.metrics import ConfusionMatrixDisplay\n",
    "from sklearn.model_selection import GridSearchCV, cross_val_score, train_test_split\n",
    "from sklearn.pipeline import make_pipeline"
   ]
  },
  {
   "cell_type": "markdown",
   "id": "f2c546e7",
   "metadata": {},
   "source": [
    "# Prepare Data"
   ]
  },
  {
   "cell_type": "markdown",
   "id": "031fd40b",
   "metadata": {},
   "source": [
    "## Import"
   ]
  },
  {
   "cell_type": "markdown",
   "id": "fc8bdda7",
   "metadata": {},
   "source": [
    "**Task 5.3.1:** Use the `wrangle` function you developed in the  lesson 5.1. Then use it to import `poland-bankruptcy-data-2009.json.gz` into the DataFrame `df`.\n"
   ]
  },
  {
   "cell_type": "code",
   "execution_count": 2,
   "id": "39d872c5",
   "metadata": {},
   "outputs": [],
   "source": [
    "def wrangle(filename):\n",
    "    \n",
    "    # Open compressed file, load into dictionary\n",
    "    with gzip.open(filename,\"r\") as f:\n",
    "        data = json.load(f)\n",
    "    # Load dictionary into DataFrame, set index\n",
    "    df=pd.DataFrame.from_dict(data[\"data\"]).set_index(\"company_id\")\n",
    "    return df"
   ]
  },
  {
   "cell_type": "code",
   "execution_count": 3,
   "id": "37b5a4d7",
   "metadata": {},
   "outputs": [
    {
     "name": "stdout",
     "output_type": "stream",
     "text": [
      "(9977, 65)\n"
     ]
    },
    {
     "data": {
      "text/html": [
       "<div>\n",
       "<style scoped>\n",
       "    .dataframe tbody tr th:only-of-type {\n",
       "        vertical-align: middle;\n",
       "    }\n",
       "\n",
       "    .dataframe tbody tr th {\n",
       "        vertical-align: top;\n",
       "    }\n",
       "\n",
       "    .dataframe thead th {\n",
       "        text-align: right;\n",
       "    }\n",
       "</style>\n",
       "<table border=\"1\" class=\"dataframe\">\n",
       "  <thead>\n",
       "    <tr style=\"text-align: right;\">\n",
       "      <th></th>\n",
       "      <th>Attr_1</th>\n",
       "      <th>Attr_2</th>\n",
       "      <th>Attr_3</th>\n",
       "      <th>Attr_4</th>\n",
       "      <th>Attr_5</th>\n",
       "      <th>Attr_6</th>\n",
       "      <th>Attr_7</th>\n",
       "      <th>Attr_8</th>\n",
       "      <th>Attr_9</th>\n",
       "      <th>Attr_10</th>\n",
       "      <th>...</th>\n",
       "      <th>Attr_56</th>\n",
       "      <th>Attr_57</th>\n",
       "      <th>Attr_58</th>\n",
       "      <th>Attr_59</th>\n",
       "      <th>Attr_60</th>\n",
       "      <th>Attr_61</th>\n",
       "      <th>Attr_62</th>\n",
       "      <th>Attr_63</th>\n",
       "      <th>Attr_64</th>\n",
       "      <th>bankrupt</th>\n",
       "    </tr>\n",
       "    <tr>\n",
       "      <th>company_id</th>\n",
       "      <th></th>\n",
       "      <th></th>\n",
       "      <th></th>\n",
       "      <th></th>\n",
       "      <th></th>\n",
       "      <th></th>\n",
       "      <th></th>\n",
       "      <th></th>\n",
       "      <th></th>\n",
       "      <th></th>\n",
       "      <th></th>\n",
       "      <th></th>\n",
       "      <th></th>\n",
       "      <th></th>\n",
       "      <th></th>\n",
       "      <th></th>\n",
       "      <th></th>\n",
       "      <th></th>\n",
       "      <th></th>\n",
       "      <th></th>\n",
       "      <th></th>\n",
       "    </tr>\n",
       "  </thead>\n",
       "  <tbody>\n",
       "    <tr>\n",
       "      <th>1</th>\n",
       "      <td>0.174190</td>\n",
       "      <td>0.41299</td>\n",
       "      <td>0.14371</td>\n",
       "      <td>1.3480</td>\n",
       "      <td>-28.9820</td>\n",
       "      <td>0.60383</td>\n",
       "      <td>0.219460</td>\n",
       "      <td>1.1225</td>\n",
       "      <td>1.1961</td>\n",
       "      <td>0.46359</td>\n",
       "      <td>...</td>\n",
       "      <td>0.163960</td>\n",
       "      <td>0.375740</td>\n",
       "      <td>0.83604</td>\n",
       "      <td>0.000007</td>\n",
       "      <td>9.7145</td>\n",
       "      <td>6.2813</td>\n",
       "      <td>84.291</td>\n",
       "      <td>4.3303</td>\n",
       "      <td>4.0341</td>\n",
       "      <td>False</td>\n",
       "    </tr>\n",
       "    <tr>\n",
       "      <th>2</th>\n",
       "      <td>0.146240</td>\n",
       "      <td>0.46038</td>\n",
       "      <td>0.28230</td>\n",
       "      <td>1.6294</td>\n",
       "      <td>2.5952</td>\n",
       "      <td>0.00000</td>\n",
       "      <td>0.171850</td>\n",
       "      <td>1.1721</td>\n",
       "      <td>1.6018</td>\n",
       "      <td>0.53962</td>\n",
       "      <td>...</td>\n",
       "      <td>0.027516</td>\n",
       "      <td>0.271000</td>\n",
       "      <td>0.90108</td>\n",
       "      <td>0.000000</td>\n",
       "      <td>5.9882</td>\n",
       "      <td>4.1103</td>\n",
       "      <td>102.190</td>\n",
       "      <td>3.5716</td>\n",
       "      <td>5.9500</td>\n",
       "      <td>False</td>\n",
       "    </tr>\n",
       "    <tr>\n",
       "      <th>3</th>\n",
       "      <td>0.000595</td>\n",
       "      <td>0.22612</td>\n",
       "      <td>0.48839</td>\n",
       "      <td>3.1599</td>\n",
       "      <td>84.8740</td>\n",
       "      <td>0.19114</td>\n",
       "      <td>0.004572</td>\n",
       "      <td>2.9881</td>\n",
       "      <td>1.0077</td>\n",
       "      <td>0.67566</td>\n",
       "      <td>...</td>\n",
       "      <td>0.007639</td>\n",
       "      <td>0.000881</td>\n",
       "      <td>0.99236</td>\n",
       "      <td>0.000000</td>\n",
       "      <td>6.7742</td>\n",
       "      <td>3.7922</td>\n",
       "      <td>64.846</td>\n",
       "      <td>5.6287</td>\n",
       "      <td>4.4581</td>\n",
       "      <td>False</td>\n",
       "    </tr>\n",
       "    <tr>\n",
       "      <th>4</th>\n",
       "      <td>0.024526</td>\n",
       "      <td>0.43236</td>\n",
       "      <td>0.27546</td>\n",
       "      <td>1.7833</td>\n",
       "      <td>-10.1050</td>\n",
       "      <td>0.56944</td>\n",
       "      <td>0.024526</td>\n",
       "      <td>1.3057</td>\n",
       "      <td>1.0509</td>\n",
       "      <td>0.56453</td>\n",
       "      <td>...</td>\n",
       "      <td>0.048398</td>\n",
       "      <td>0.043445</td>\n",
       "      <td>0.95160</td>\n",
       "      <td>0.142980</td>\n",
       "      <td>4.2286</td>\n",
       "      <td>5.0528</td>\n",
       "      <td>98.783</td>\n",
       "      <td>3.6950</td>\n",
       "      <td>3.4844</td>\n",
       "      <td>False</td>\n",
       "    </tr>\n",
       "    <tr>\n",
       "      <th>5</th>\n",
       "      <td>0.188290</td>\n",
       "      <td>0.41504</td>\n",
       "      <td>0.34231</td>\n",
       "      <td>1.9279</td>\n",
       "      <td>-58.2740</td>\n",
       "      <td>0.00000</td>\n",
       "      <td>0.233580</td>\n",
       "      <td>1.4094</td>\n",
       "      <td>1.3393</td>\n",
       "      <td>0.58496</td>\n",
       "      <td>...</td>\n",
       "      <td>0.176480</td>\n",
       "      <td>0.321880</td>\n",
       "      <td>0.82635</td>\n",
       "      <td>0.073039</td>\n",
       "      <td>2.5912</td>\n",
       "      <td>7.0756</td>\n",
       "      <td>100.540</td>\n",
       "      <td>3.6303</td>\n",
       "      <td>4.6375</td>\n",
       "      <td>False</td>\n",
       "    </tr>\n",
       "  </tbody>\n",
       "</table>\n",
       "<p>5 rows × 65 columns</p>\n",
       "</div>"
      ],
      "text/plain": [
       "              Attr_1   Attr_2   Attr_3  Attr_4   Attr_5   Attr_6    Attr_7  \\\n",
       "company_id                                                                   \n",
       "1           0.174190  0.41299  0.14371  1.3480 -28.9820  0.60383  0.219460   \n",
       "2           0.146240  0.46038  0.28230  1.6294   2.5952  0.00000  0.171850   \n",
       "3           0.000595  0.22612  0.48839  3.1599  84.8740  0.19114  0.004572   \n",
       "4           0.024526  0.43236  0.27546  1.7833 -10.1050  0.56944  0.024526   \n",
       "5           0.188290  0.41504  0.34231  1.9279 -58.2740  0.00000  0.233580   \n",
       "\n",
       "            Attr_8  Attr_9  Attr_10  ...   Attr_56   Attr_57  Attr_58  \\\n",
       "company_id                           ...                                \n",
       "1           1.1225  1.1961  0.46359  ...  0.163960  0.375740  0.83604   \n",
       "2           1.1721  1.6018  0.53962  ...  0.027516  0.271000  0.90108   \n",
       "3           2.9881  1.0077  0.67566  ...  0.007639  0.000881  0.99236   \n",
       "4           1.3057  1.0509  0.56453  ...  0.048398  0.043445  0.95160   \n",
       "5           1.4094  1.3393  0.58496  ...  0.176480  0.321880  0.82635   \n",
       "\n",
       "             Attr_59  Attr_60  Attr_61  Attr_62  Attr_63  Attr_64  bankrupt  \n",
       "company_id                                                                   \n",
       "1           0.000007   9.7145   6.2813   84.291   4.3303   4.0341     False  \n",
       "2           0.000000   5.9882   4.1103  102.190   3.5716   5.9500     False  \n",
       "3           0.000000   6.7742   3.7922   64.846   5.6287   4.4581     False  \n",
       "4           0.142980   4.2286   5.0528   98.783   3.6950   3.4844     False  \n",
       "5           0.073039   2.5912   7.0756  100.540   3.6303   4.6375     False  \n",
       "\n",
       "[5 rows x 65 columns]"
      ]
     },
     "execution_count": 3,
     "metadata": {},
     "output_type": "execute_result"
    }
   ],
   "source": [
    "df = wrangle(\"data/poland-bankruptcy-data-2009.json.gz\")\n",
    "print(df.shape)\n",
    "df.head()"
   ]
  },
  {
   "cell_type": "markdown",
   "id": "c7512649",
   "metadata": {},
   "source": [
    "## Split"
   ]
  },
  {
   "cell_type": "markdown",
   "id": "83dd0413",
   "metadata": {},
   "source": [
    "**Task 5.3.2:** Create your feature matrix `X` and target vector `y`. Your target is `\"bankrupt\"`. \n"
   ]
  },
  {
   "cell_type": "code",
   "execution_count": 4,
   "id": "ce6a4e34",
   "metadata": {},
   "outputs": [
    {
     "name": "stdout",
     "output_type": "stream",
     "text": [
      "X shape: (9977, 64)\n",
      "y shape: (9977,)\n"
     ]
    }
   ],
   "source": [
    "target = \"bankrupt\"\n",
    "X = df.drop(columns=\"bankrupt\")\n",
    "y = df[target]\n",
    "\n",
    "print(\"X shape:\", X.shape)\n",
    "print(\"y shape:\", y.shape)"
   ]
  },
  {
   "cell_type": "markdown",
   "id": "c8190614",
   "metadata": {},
   "source": [
    "**Task 5.3.3:** Divide your data (`X` and `y`) into training and test sets using a randomized train-test split. Your test set should be 20% of your total data. And don't forget to set a `random_state` for reproducibility."
   ]
  },
  {
   "cell_type": "code",
   "execution_count": 5,
   "id": "f4325c77",
   "metadata": {},
   "outputs": [
    {
     "name": "stdout",
     "output_type": "stream",
     "text": [
      "X_train shape: (7981, 64)\n",
      "y_train shape: (7981,)\n",
      "X_test shape: (1996, 64)\n",
      "y_test shape: (1996,)\n"
     ]
    }
   ],
   "source": [
    "X_train, X_test, y_train, y_test = train_test_split(\n",
    "    X,y,test_size=0.2 , random_state=42\n",
    ")\n",
    "print(\"X_train shape:\", X_train.shape)\n",
    "print(\"y_train shape:\", y_train.shape)\n",
    "print(\"X_test shape:\", X_test.shape)\n",
    "print(\"y_test shape:\", y_test.shape)"
   ]
  },
  {
   "cell_type": "markdown",
   "id": "06cc0aec",
   "metadata": {},
   "source": [
    "## Resample"
   ]
  },
  {
   "cell_type": "markdown",
   "id": "b0d35a43",
   "metadata": {},
   "source": [
    "**Task 5.3.4:** Create a new feature matrix `X_train_over` and target vector `y_train_over` by performing random over-sampling on the training data.\n"
   ]
  },
  {
   "cell_type": "code",
   "execution_count": 6,
   "id": "7f2110ca",
   "metadata": {},
   "outputs": [
    {
     "name": "stdout",
     "output_type": "stream",
     "text": [
      "X_train_over shape: (15194, 64)\n"
     ]
    },
    {
     "data": {
      "text/html": [
       "<div>\n",
       "<style scoped>\n",
       "    .dataframe tbody tr th:only-of-type {\n",
       "        vertical-align: middle;\n",
       "    }\n",
       "\n",
       "    .dataframe tbody tr th {\n",
       "        vertical-align: top;\n",
       "    }\n",
       "\n",
       "    .dataframe thead th {\n",
       "        text-align: right;\n",
       "    }\n",
       "</style>\n",
       "<table border=\"1\" class=\"dataframe\">\n",
       "  <thead>\n",
       "    <tr style=\"text-align: right;\">\n",
       "      <th></th>\n",
       "      <th>Attr_1</th>\n",
       "      <th>Attr_2</th>\n",
       "      <th>Attr_3</th>\n",
       "      <th>Attr_4</th>\n",
       "      <th>Attr_5</th>\n",
       "      <th>Attr_6</th>\n",
       "      <th>Attr_7</th>\n",
       "      <th>Attr_8</th>\n",
       "      <th>Attr_9</th>\n",
       "      <th>Attr_10</th>\n",
       "      <th>...</th>\n",
       "      <th>Attr_55</th>\n",
       "      <th>Attr_56</th>\n",
       "      <th>Attr_57</th>\n",
       "      <th>Attr_58</th>\n",
       "      <th>Attr_59</th>\n",
       "      <th>Attr_60</th>\n",
       "      <th>Attr_61</th>\n",
       "      <th>Attr_62</th>\n",
       "      <th>Attr_63</th>\n",
       "      <th>Attr_64</th>\n",
       "    </tr>\n",
       "  </thead>\n",
       "  <tbody>\n",
       "    <tr>\n",
       "      <th>0</th>\n",
       "      <td>0.121230</td>\n",
       "      <td>0.84119</td>\n",
       "      <td>0.156800</td>\n",
       "      <td>1.18900</td>\n",
       "      <td>25.4150</td>\n",
       "      <td>0.00000</td>\n",
       "      <td>0.149930</td>\n",
       "      <td>0.18879</td>\n",
       "      <td>2.36040</td>\n",
       "      <td>0.15881</td>\n",
       "      <td>...</td>\n",
       "      <td>2519.90</td>\n",
       "      <td>0.062611</td>\n",
       "      <td>0.763360</td>\n",
       "      <td>0.93666</td>\n",
       "      <td>0.000000</td>\n",
       "      <td>NaN</td>\n",
       "      <td>2.4956</td>\n",
       "      <td>128.260</td>\n",
       "      <td>2.8458</td>\n",
       "      <td>171.6300</td>\n",
       "    </tr>\n",
       "    <tr>\n",
       "      <th>1</th>\n",
       "      <td>0.009168</td>\n",
       "      <td>1.23540</td>\n",
       "      <td>-0.659060</td>\n",
       "      <td>0.22347</td>\n",
       "      <td>-143.1000</td>\n",
       "      <td>-0.57453</td>\n",
       "      <td>0.009168</td>\n",
       "      <td>-0.19052</td>\n",
       "      <td>1.75080</td>\n",
       "      <td>-0.23536</td>\n",
       "      <td>...</td>\n",
       "      <td>-199.71</td>\n",
       "      <td>-0.007404</td>\n",
       "      <td>-0.038951</td>\n",
       "      <td>0.99507</td>\n",
       "      <td>-1.603800</td>\n",
       "      <td>95.4700</td>\n",
       "      <td>10.5420</td>\n",
       "      <td>176.940</td>\n",
       "      <td>2.0628</td>\n",
       "      <td>2.1605</td>\n",
       "    </tr>\n",
       "    <tr>\n",
       "      <th>2</th>\n",
       "      <td>0.041290</td>\n",
       "      <td>0.32144</td>\n",
       "      <td>0.115610</td>\n",
       "      <td>1.38590</td>\n",
       "      <td>-64.4780</td>\n",
       "      <td>0.23585</td>\n",
       "      <td>0.041290</td>\n",
       "      <td>2.10300</td>\n",
       "      <td>1.07380</td>\n",
       "      <td>0.67599</td>\n",
       "      <td>...</td>\n",
       "      <td>1851.80</td>\n",
       "      <td>0.068742</td>\n",
       "      <td>0.061081</td>\n",
       "      <td>0.93126</td>\n",
       "      <td>0.032312</td>\n",
       "      <td>4.0947</td>\n",
       "      <td>16.1260</td>\n",
       "      <td>122.120</td>\n",
       "      <td>2.9889</td>\n",
       "      <td>1.5312</td>\n",
       "    </tr>\n",
       "    <tr>\n",
       "      <th>3</th>\n",
       "      <td>0.078780</td>\n",
       "      <td>0.39680</td>\n",
       "      <td>0.013543</td>\n",
       "      <td>1.05890</td>\n",
       "      <td>5.6338</td>\n",
       "      <td>0.00000</td>\n",
       "      <td>0.078780</td>\n",
       "      <td>1.52020</td>\n",
       "      <td>0.87894</td>\n",
       "      <td>0.60320</td>\n",
       "      <td>...</td>\n",
       "      <td>105.45</td>\n",
       "      <td>0.111240</td>\n",
       "      <td>0.130600</td>\n",
       "      <td>0.91263</td>\n",
       "      <td>0.276570</td>\n",
       "      <td>4435.2000</td>\n",
       "      <td>4.0019</td>\n",
       "      <td>95.499</td>\n",
       "      <td>3.8220</td>\n",
       "      <td>1.1619</td>\n",
       "    </tr>\n",
       "    <tr>\n",
       "      <th>4</th>\n",
       "      <td>0.061946</td>\n",
       "      <td>0.44483</td>\n",
       "      <td>0.108770</td>\n",
       "      <td>1.39480</td>\n",
       "      <td>40.3740</td>\n",
       "      <td>0.00000</td>\n",
       "      <td>0.078467</td>\n",
       "      <td>1.24810</td>\n",
       "      <td>1.08370</td>\n",
       "      <td>0.55517</td>\n",
       "      <td>...</td>\n",
       "      <td>305.28</td>\n",
       "      <td>0.083842</td>\n",
       "      <td>0.111580</td>\n",
       "      <td>0.92843</td>\n",
       "      <td>0.305000</td>\n",
       "      <td>548.4500</td>\n",
       "      <td>3.1107</td>\n",
       "      <td>92.786</td>\n",
       "      <td>3.9338</td>\n",
       "      <td>1.7601</td>\n",
       "    </tr>\n",
       "  </tbody>\n",
       "</table>\n",
       "<p>5 rows × 64 columns</p>\n",
       "</div>"
      ],
      "text/plain": [
       "     Attr_1   Attr_2    Attr_3   Attr_4    Attr_5   Attr_6    Attr_7   Attr_8  \\\n",
       "0  0.121230  0.84119  0.156800  1.18900   25.4150  0.00000  0.149930  0.18879   \n",
       "1  0.009168  1.23540 -0.659060  0.22347 -143.1000 -0.57453  0.009168 -0.19052   \n",
       "2  0.041290  0.32144  0.115610  1.38590  -64.4780  0.23585  0.041290  2.10300   \n",
       "3  0.078780  0.39680  0.013543  1.05890    5.6338  0.00000  0.078780  1.52020   \n",
       "4  0.061946  0.44483  0.108770  1.39480   40.3740  0.00000  0.078467  1.24810   \n",
       "\n",
       "    Attr_9  Attr_10  ...  Attr_55   Attr_56   Attr_57  Attr_58   Attr_59  \\\n",
       "0  2.36040  0.15881  ...  2519.90  0.062611  0.763360  0.93666  0.000000   \n",
       "1  1.75080 -0.23536  ...  -199.71 -0.007404 -0.038951  0.99507 -1.603800   \n",
       "2  1.07380  0.67599  ...  1851.80  0.068742  0.061081  0.93126  0.032312   \n",
       "3  0.87894  0.60320  ...   105.45  0.111240  0.130600  0.91263  0.276570   \n",
       "4  1.08370  0.55517  ...   305.28  0.083842  0.111580  0.92843  0.305000   \n",
       "\n",
       "     Attr_60  Attr_61  Attr_62  Attr_63   Attr_64  \n",
       "0        NaN   2.4956  128.260   2.8458  171.6300  \n",
       "1    95.4700  10.5420  176.940   2.0628    2.1605  \n",
       "2     4.0947  16.1260  122.120   2.9889    1.5312  \n",
       "3  4435.2000   4.0019   95.499   3.8220    1.1619  \n",
       "4   548.4500   3.1107   92.786   3.9338    1.7601  \n",
       "\n",
       "[5 rows x 64 columns]"
      ]
     },
     "execution_count": 6,
     "metadata": {},
     "output_type": "execute_result"
    }
   ],
   "source": [
    "over_sampler = RandomOverSampler(random_state=42)\n",
    "X_train_over, y_train_over = over_sampler.fit_resample(X_train,y_train)\n",
    "print(\"X_train_over shape:\", X_train_over.shape)\n",
    "X_train_over.head()"
   ]
  },
  {
   "cell_type": "markdown",
   "id": "213810a2",
   "metadata": {},
   "source": [
    "# Build Model"
   ]
  },
  {
   "cell_type": "markdown",
   "id": "3bf9f854",
   "metadata": {},
   "source": [
    "## Baseline"
   ]
  },
  {
   "cell_type": "markdown",
   "id": "7f7e9b9b",
   "metadata": {},
   "source": [
    "**Task 5.3.5:** Calculate the baseline accuracy score for your model.\n"
   ]
  },
  {
   "cell_type": "code",
   "execution_count": 7,
   "id": "f6f159f4",
   "metadata": {},
   "outputs": [
    {
     "name": "stdout",
     "output_type": "stream",
     "text": [
      "Baseline Accuracy: 0.9519\n"
     ]
    }
   ],
   "source": [
    "acc_baseline = y_train.value_counts(normalize=True).max()\n",
    "print(\"Baseline Accuracy:\", round(acc_baseline, 4))"
   ]
  },
  {
   "cell_type": "markdown",
   "id": "9e3e4b77",
   "metadata": {},
   "source": [
    "So far, we've built single models that predict a single outcome. That's definitely a useful way to predict the future, but what if the one model we built isn't the *right* one? If we could somehow use more than one model simultaneously, we'd have a more trustworthy prediction.\n",
    "\n",
    "**Ensemble models** work by building multiple models on random subsets of the same data, and then comparing their predictions to make a final prediction. Since we used a decision tree in the last lesson, we're going to create an ensemble of trees here. This type of model is called a **random forest**."
   ]
  },
  {
   "cell_type": "markdown",
   "id": "395d851a",
   "metadata": {},
   "source": [
    "**Task 5.3.6:** Create a pipeline named `clf` (short for \"classifier\") that contains a `SimpleImputer` transformer and a `RandomForestClassifier` predictor.\n"
   ]
  },
  {
   "cell_type": "code",
   "execution_count": 8,
   "id": "60610f54",
   "metadata": {},
   "outputs": [
    {
     "name": "stdout",
     "output_type": "stream",
     "text": [
      "Pipeline(steps=[('simpleimputer', SimpleImputer()),\n",
      "                ('randomforestclassifier',\n",
      "                 RandomForestClassifier(random_state=42))])\n"
     ]
    }
   ],
   "source": [
    "clf = make_pipeline(SimpleImputer(),RandomForestClassifier(random_state=42))\n",
    "print(clf)"
   ]
  },
  {
   "cell_type": "markdown",
   "id": "0b9fe40f",
   "metadata": {},
   "source": [
    "By default, the number of trees in our forest (`n_estimators`) is set to 100. That means when we train this classifier, we'll be fitting 100 trees. While it will take longer to train, it will hopefully lead to better performance.\n",
    "\n",
    "In order to get the best performance from our model, we need to tune its hyperparameter. But how can we do this if we haven't created a validation set? The answer is **cross-validation**. So, before we look at hyperparameters, let's see how cross-validation works with the classifier we just built."
   ]
  },
  {
   "cell_type": "markdown",
   "id": "212e0040",
   "metadata": {},
   "source": [
    "**Task 5.3.7:** Perform cross-validation with your classifier, using the over-sampled training data. We want five folds, so set `cv` to 5. We also want to speed up training, to set `n_jobs` to -1.\n"
   ]
  },
  {
   "cell_type": "code",
   "execution_count": 9,
   "id": "d32f04e6",
   "metadata": {},
   "outputs": [
    {
     "name": "stdout",
     "output_type": "stream",
     "text": [
      "[0.95679399 0.96303258 0.96303258 0.95802005 0.95927318]\n"
     ]
    }
   ],
   "source": [
    "cv_acc_scores = cross_val_score(clf, X_train, y_train, cv=5, n_jobs=-1)\n",
    "print(cv_acc_scores)"
   ]
  },
  {
   "cell_type": "markdown",
   "id": "85bcd4b7",
   "metadata": {},
   "source": [
    "`cross_val_score(clf, X_train, y_train, cv=5, n_jobs=-1)`: This function performs cross-validation by splitting the training data into five folds (`cv=5`) and evaluating the model on each fold. It uses the classifier `clf` to perform the classification task. The `n_jobs=-1` parameter indicates that the computation should be parallelized, utilizing all available CPU cores."
   ]
  },
  {
   "cell_type": "markdown",
   "id": "d339de66",
   "metadata": {},
   "source": [
    "That took kind of a long time, but we just trained 500 random forest classifiers (100 jobs x 5 folds). No wonder it takes so long!\n",
    "\n",
    "Pro tip: even though `cross_val_score` is useful for getting an idea of how cross-validation works, you'll rarely use it. Instead, most people include a `cv` argument when they do a hyperparameter search. "
   ]
  },
  {
   "cell_type": "markdown",
   "id": "d571badc",
   "metadata": {},
   "source": [
    "Now that we have an idea of how cross-validation works, let's tune our model. The first step is creating a range of hyperparameters that we want to evaluate. "
   ]
  },
  {
   "cell_type": "markdown",
   "id": "e125469e",
   "metadata": {},
   "source": [
    "**Task 5.3.8:** Create a dictionary with the range of hyperparameters that we want to evaluate for our classifier. \n",
    "\n",
    "1. For the `SimpleImputer`, try both the `\"mean\"` and `\"median\"` strategies. \n",
    "2. For the `RandomForestClassifier`, try `max_depth` settings between 10 and 50, by steps of 10. \n",
    "3. Also for the `RandomForestClassifier`, try `n_estimators` settings between 25 and 100 by steps of 25.\n"
   ]
  },
  {
   "cell_type": "code",
   "execution_count": 10,
   "id": "b6035c97",
   "metadata": {},
   "outputs": [
    {
     "data": {
      "text/plain": [
       "{'simpleimputer__strategy': ['mean', 'median'],\n",
       " 'randomforestclassifier__n_estimators': range(25, 100, 25),\n",
       " 'randomforestclassifier__max_depth': range(10, 50, 10)}"
      ]
     },
     "execution_count": 10,
     "metadata": {},
     "output_type": "execute_result"
    }
   ],
   "source": [
    "params = {\n",
    "    \"simpleimputer__strategy\":[\"mean\",\"median\"],\n",
    "    \"randomforestclassifier__n_estimators\":range(25,100,25),\n",
    "    \"randomforestclassifier__max_depth\":range(10,50,10)\n",
    "}\n",
    "params"
   ]
  },
  {
   "cell_type": "markdown",
   "id": "82bd53e9",
   "metadata": {},
   "source": [
    "Now that we have our hyperparameter grid, let's incorporate it into a **grid search**."
   ]
  },
  {
   "cell_type": "markdown",
   "id": "f0c3b555",
   "metadata": {},
   "source": [
    "**Task 5.3.9:** Create a `GridSearchCV` named `model` that includes your classifier and hyperparameter grid. Be sure to use the same arguments for `cv` and `n_jobs` that you used above, and set `verbose` to 1. \n"
   ]
  },
  {
   "cell_type": "code",
   "execution_count": 20,
   "id": "8651fd1a",
   "metadata": {},
   "outputs": [
    {
     "data": {
      "text/plain": [
       "GridSearchCV(cv=5,\n",
       "             estimator=Pipeline(steps=[('simpleimputer', SimpleImputer()),\n",
       "                                       ('randomforestclassifier',\n",
       "                                        RandomForestClassifier(random_state=42))]),\n",
       "             n_jobs=-1,\n",
       "             param_grid={'randomforestclassifier__max_depth': range(10, 50, 10),\n",
       "                         'randomforestclassifier__n_estimators': range(25, 100, 25),\n",
       "                         'simpleimputer__strategy': ['mean', 'median']},\n",
       "             verbose=1)"
      ]
     },
     "execution_count": 20,
     "metadata": {},
     "output_type": "execute_result"
    }
   ],
   "source": [
    "model = GridSearchCV(\n",
    "    clf,\n",
    "    param_grid=params,\n",
    "    cv=5,\n",
    "    n_jobs=-1,\n",
    "    verbose=1\n",
    ")\n",
    "model"
   ]
  },
  {
   "cell_type": "markdown",
   "id": "fe42690b",
   "metadata": {},
   "source": [
    "**Task 5.3.10:** Fit `model` to the over-sampled training data."
   ]
  },
  {
   "cell_type": "code",
   "execution_count": 21,
   "id": "7781f6c0",
   "metadata": {},
   "outputs": [
    {
     "name": "stdout",
     "output_type": "stream",
     "text": [
      "Fitting 5 folds for each of 24 candidates, totalling 120 fits\n"
     ]
    },
    {
     "data": {
      "text/plain": [
       "GridSearchCV(cv=5,\n",
       "             estimator=Pipeline(steps=[('simpleimputer', SimpleImputer()),\n",
       "                                       ('randomforestclassifier',\n",
       "                                        RandomForestClassifier(random_state=42))]),\n",
       "             n_jobs=-1,\n",
       "             param_grid={'randomforestclassifier__max_depth': range(10, 50, 10),\n",
       "                         'randomforestclassifier__n_estimators': range(25, 100, 25),\n",
       "                         'simpleimputer__strategy': ['mean', 'median']},\n",
       "             verbose=1)"
      ]
     },
     "execution_count": 21,
     "metadata": {},
     "output_type": "execute_result"
    }
   ],
   "source": [
    "# Train model\n",
    "model.fit(X_train_over,y_train_over)"
   ]
  },
  {
   "cell_type": "markdown",
   "id": "8e7a9b38",
   "metadata": {},
   "source": [
    "**Task 5.3.11:** Extract the cross-validation results from `model` and load them into a DataFrame named `cv_results`."
   ]
  },
  {
   "cell_type": "code",
   "execution_count": 17,
   "id": "6642041e",
   "metadata": {},
   "outputs": [
    {
     "data": {
      "text/plain": [
       "dict"
      ]
     },
     "execution_count": 17,
     "metadata": {},
     "output_type": "execute_result"
    }
   ],
   "source": [
    "type(model.cv_results_)"
   ]
  },
  {
   "cell_type": "code",
   "execution_count": 22,
   "id": "84ab722c",
   "metadata": {},
   "outputs": [
    {
     "name": "stdout",
     "output_type": "stream",
     "text": [
      "(24, 16)\n"
     ]
    },
    {
     "data": {
      "text/html": [
       "<div>\n",
       "<style scoped>\n",
       "    .dataframe tbody tr th:only-of-type {\n",
       "        vertical-align: middle;\n",
       "    }\n",
       "\n",
       "    .dataframe tbody tr th {\n",
       "        vertical-align: top;\n",
       "    }\n",
       "\n",
       "    .dataframe thead th {\n",
       "        text-align: right;\n",
       "    }\n",
       "</style>\n",
       "<table border=\"1\" class=\"dataframe\">\n",
       "  <thead>\n",
       "    <tr style=\"text-align: right;\">\n",
       "      <th></th>\n",
       "      <th>mean_fit_time</th>\n",
       "      <th>std_fit_time</th>\n",
       "      <th>mean_score_time</th>\n",
       "      <th>std_score_time</th>\n",
       "      <th>param_randomforestclassifier__max_depth</th>\n",
       "      <th>param_randomforestclassifier__n_estimators</th>\n",
       "      <th>param_simpleimputer__strategy</th>\n",
       "      <th>params</th>\n",
       "      <th>split0_test_score</th>\n",
       "      <th>split1_test_score</th>\n",
       "      <th>split2_test_score</th>\n",
       "      <th>split3_test_score</th>\n",
       "      <th>split4_test_score</th>\n",
       "      <th>mean_test_score</th>\n",
       "      <th>std_test_score</th>\n",
       "      <th>rank_test_score</th>\n",
       "    </tr>\n",
       "  </thead>\n",
       "  <tbody>\n",
       "    <tr>\n",
       "      <th>0</th>\n",
       "      <td>2.111947</td>\n",
       "      <td>0.123558</td>\n",
       "      <td>0.038100</td>\n",
       "      <td>0.007420</td>\n",
       "      <td>10</td>\n",
       "      <td>25</td>\n",
       "      <td>mean</td>\n",
       "      <td>{'randomforestclassifier__max_depth': 10, 'ran...</td>\n",
       "      <td>0.982231</td>\n",
       "      <td>0.978611</td>\n",
       "      <td>0.973676</td>\n",
       "      <td>0.973346</td>\n",
       "      <td>0.980908</td>\n",
       "      <td>0.977755</td>\n",
       "      <td>0.003655</td>\n",
       "      <td>21</td>\n",
       "    </tr>\n",
       "    <tr>\n",
       "      <th>1</th>\n",
       "      <td>2.577104</td>\n",
       "      <td>0.167905</td>\n",
       "      <td>0.050268</td>\n",
       "      <td>0.015316</td>\n",
       "      <td>10</td>\n",
       "      <td>25</td>\n",
       "      <td>median</td>\n",
       "      <td>{'randomforestclassifier__max_depth': 10, 'ran...</td>\n",
       "      <td>0.974334</td>\n",
       "      <td>0.968740</td>\n",
       "      <td>0.972359</td>\n",
       "      <td>0.969069</td>\n",
       "      <td>0.974325</td>\n",
       "      <td>0.971765</td>\n",
       "      <td>0.002447</td>\n",
       "      <td>24</td>\n",
       "    </tr>\n",
       "    <tr>\n",
       "      <th>2</th>\n",
       "      <td>4.711791</td>\n",
       "      <td>0.232712</td>\n",
       "      <td>0.048870</td>\n",
       "      <td>0.002600</td>\n",
       "      <td>10</td>\n",
       "      <td>50</td>\n",
       "      <td>mean</td>\n",
       "      <td>{'randomforestclassifier__max_depth': 10, 'ran...</td>\n",
       "      <td>0.985192</td>\n",
       "      <td>0.982889</td>\n",
       "      <td>0.979599</td>\n",
       "      <td>0.975979</td>\n",
       "      <td>0.983213</td>\n",
       "      <td>0.981374</td>\n",
       "      <td>0.003241</td>\n",
       "      <td>20</td>\n",
       "    </tr>\n",
       "    <tr>\n",
       "      <th>3</th>\n",
       "      <td>4.250824</td>\n",
       "      <td>0.095844</td>\n",
       "      <td>0.048671</td>\n",
       "      <td>0.002475</td>\n",
       "      <td>10</td>\n",
       "      <td>50</td>\n",
       "      <td>median</td>\n",
       "      <td>{'randomforestclassifier__max_depth': 10, 'ran...</td>\n",
       "      <td>0.978940</td>\n",
       "      <td>0.974663</td>\n",
       "      <td>0.976637</td>\n",
       "      <td>0.971372</td>\n",
       "      <td>0.977288</td>\n",
       "      <td>0.975780</td>\n",
       "      <td>0.002595</td>\n",
       "      <td>23</td>\n",
       "    </tr>\n",
       "    <tr>\n",
       "      <th>4</th>\n",
       "      <td>5.775147</td>\n",
       "      <td>0.026482</td>\n",
       "      <td>0.066821</td>\n",
       "      <td>0.003568</td>\n",
       "      <td>10</td>\n",
       "      <td>75</td>\n",
       "      <td>mean</td>\n",
       "      <td>{'randomforestclassifier__max_depth': 10, 'ran...</td>\n",
       "      <td>0.984863</td>\n",
       "      <td>0.983218</td>\n",
       "      <td>0.979928</td>\n",
       "      <td>0.977295</td>\n",
       "      <td>0.984858</td>\n",
       "      <td>0.982033</td>\n",
       "      <td>0.002976</td>\n",
       "      <td>19</td>\n",
       "    </tr>\n",
       "  </tbody>\n",
       "</table>\n",
       "</div>"
      ],
      "text/plain": [
       "   mean_fit_time  std_fit_time  mean_score_time  std_score_time  \\\n",
       "0       2.111947      0.123558         0.038100        0.007420   \n",
       "1       2.577104      0.167905         0.050268        0.015316   \n",
       "2       4.711791      0.232712         0.048870        0.002600   \n",
       "3       4.250824      0.095844         0.048671        0.002475   \n",
       "4       5.775147      0.026482         0.066821        0.003568   \n",
       "\n",
       "  param_randomforestclassifier__max_depth  \\\n",
       "0                                      10   \n",
       "1                                      10   \n",
       "2                                      10   \n",
       "3                                      10   \n",
       "4                                      10   \n",
       "\n",
       "  param_randomforestclassifier__n_estimators param_simpleimputer__strategy  \\\n",
       "0                                         25                          mean   \n",
       "1                                         25                        median   \n",
       "2                                         50                          mean   \n",
       "3                                         50                        median   \n",
       "4                                         75                          mean   \n",
       "\n",
       "                                              params  split0_test_score  \\\n",
       "0  {'randomforestclassifier__max_depth': 10, 'ran...           0.982231   \n",
       "1  {'randomforestclassifier__max_depth': 10, 'ran...           0.974334   \n",
       "2  {'randomforestclassifier__max_depth': 10, 'ran...           0.985192   \n",
       "3  {'randomforestclassifier__max_depth': 10, 'ran...           0.978940   \n",
       "4  {'randomforestclassifier__max_depth': 10, 'ran...           0.984863   \n",
       "\n",
       "   split1_test_score  split2_test_score  split3_test_score  split4_test_score  \\\n",
       "0           0.978611           0.973676           0.973346           0.980908   \n",
       "1           0.968740           0.972359           0.969069           0.974325   \n",
       "2           0.982889           0.979599           0.975979           0.983213   \n",
       "3           0.974663           0.976637           0.971372           0.977288   \n",
       "4           0.983218           0.979928           0.977295           0.984858   \n",
       "\n",
       "   mean_test_score  std_test_score  rank_test_score  \n",
       "0         0.977755        0.003655               21  \n",
       "1         0.971765        0.002447               24  \n",
       "2         0.981374        0.003241               20  \n",
       "3         0.975780        0.002595               23  \n",
       "4         0.982033        0.002976               19  "
      ]
     },
     "execution_count": 22,
     "metadata": {},
     "output_type": "execute_result"
    }
   ],
   "source": [
    "cv_results = pd.DataFrame(model.cv_results_)\n",
    "print(cv_results.shape)\n",
    "cv_results.head(5)"
   ]
  },
  {
   "cell_type": "markdown",
   "id": "9752d553",
   "metadata": {},
   "source": [
    "**Task 5.3.12:** Create a mask for `cv_results` for rows where `\"param_randomforestclassifier__max_depth\"` equals 10. Then plot `\"param_randomforestclassifier__n_estimators\"` on the x-axis and `\"mean_fit_time\"` on the y-axis. Don't forget to label your axes and include a title. \n"
   ]
  },
  {
   "cell_type": "code",
   "execution_count": 23,
   "id": "1596c9c8",
   "metadata": {},
   "outputs": [
    {
     "data": {
      "text/html": [
       "<div>\n",
       "<style scoped>\n",
       "    .dataframe tbody tr th:only-of-type {\n",
       "        vertical-align: middle;\n",
       "    }\n",
       "\n",
       "    .dataframe tbody tr th {\n",
       "        vertical-align: top;\n",
       "    }\n",
       "\n",
       "    .dataframe thead th {\n",
       "        text-align: right;\n",
       "    }\n",
       "</style>\n",
       "<table border=\"1\" class=\"dataframe\">\n",
       "  <thead>\n",
       "    <tr style=\"text-align: right;\">\n",
       "      <th></th>\n",
       "      <th>mean_fit_time</th>\n",
       "      <th>std_fit_time</th>\n",
       "      <th>mean_score_time</th>\n",
       "      <th>std_score_time</th>\n",
       "      <th>param_randomforestclassifier__max_depth</th>\n",
       "      <th>param_randomforestclassifier__n_estimators</th>\n",
       "      <th>param_simpleimputer__strategy</th>\n",
       "      <th>params</th>\n",
       "      <th>split0_test_score</th>\n",
       "      <th>split1_test_score</th>\n",
       "      <th>split2_test_score</th>\n",
       "      <th>split3_test_score</th>\n",
       "      <th>split4_test_score</th>\n",
       "      <th>mean_test_score</th>\n",
       "      <th>std_test_score</th>\n",
       "      <th>rank_test_score</th>\n",
       "    </tr>\n",
       "  </thead>\n",
       "  <tbody>\n",
       "    <tr>\n",
       "      <th>0</th>\n",
       "      <td>2.111947</td>\n",
       "      <td>0.123558</td>\n",
       "      <td>0.038100</td>\n",
       "      <td>0.007420</td>\n",
       "      <td>10</td>\n",
       "      <td>25</td>\n",
       "      <td>mean</td>\n",
       "      <td>{'randomforestclassifier__max_depth': 10, 'ran...</td>\n",
       "      <td>0.982231</td>\n",
       "      <td>0.978611</td>\n",
       "      <td>0.973676</td>\n",
       "      <td>0.973346</td>\n",
       "      <td>0.980908</td>\n",
       "      <td>0.977755</td>\n",
       "      <td>0.003655</td>\n",
       "      <td>21</td>\n",
       "    </tr>\n",
       "    <tr>\n",
       "      <th>1</th>\n",
       "      <td>2.577104</td>\n",
       "      <td>0.167905</td>\n",
       "      <td>0.050268</td>\n",
       "      <td>0.015316</td>\n",
       "      <td>10</td>\n",
       "      <td>25</td>\n",
       "      <td>median</td>\n",
       "      <td>{'randomforestclassifier__max_depth': 10, 'ran...</td>\n",
       "      <td>0.974334</td>\n",
       "      <td>0.968740</td>\n",
       "      <td>0.972359</td>\n",
       "      <td>0.969069</td>\n",
       "      <td>0.974325</td>\n",
       "      <td>0.971765</td>\n",
       "      <td>0.002447</td>\n",
       "      <td>24</td>\n",
       "    </tr>\n",
       "    <tr>\n",
       "      <th>2</th>\n",
       "      <td>4.711791</td>\n",
       "      <td>0.232712</td>\n",
       "      <td>0.048870</td>\n",
       "      <td>0.002600</td>\n",
       "      <td>10</td>\n",
       "      <td>50</td>\n",
       "      <td>mean</td>\n",
       "      <td>{'randomforestclassifier__max_depth': 10, 'ran...</td>\n",
       "      <td>0.985192</td>\n",
       "      <td>0.982889</td>\n",
       "      <td>0.979599</td>\n",
       "      <td>0.975979</td>\n",
       "      <td>0.983213</td>\n",
       "      <td>0.981374</td>\n",
       "      <td>0.003241</td>\n",
       "      <td>20</td>\n",
       "    </tr>\n",
       "    <tr>\n",
       "      <th>3</th>\n",
       "      <td>4.250824</td>\n",
       "      <td>0.095844</td>\n",
       "      <td>0.048671</td>\n",
       "      <td>0.002475</td>\n",
       "      <td>10</td>\n",
       "      <td>50</td>\n",
       "      <td>median</td>\n",
       "      <td>{'randomforestclassifier__max_depth': 10, 'ran...</td>\n",
       "      <td>0.978940</td>\n",
       "      <td>0.974663</td>\n",
       "      <td>0.976637</td>\n",
       "      <td>0.971372</td>\n",
       "      <td>0.977288</td>\n",
       "      <td>0.975780</td>\n",
       "      <td>0.002595</td>\n",
       "      <td>23</td>\n",
       "    </tr>\n",
       "    <tr>\n",
       "      <th>4</th>\n",
       "      <td>5.775147</td>\n",
       "      <td>0.026482</td>\n",
       "      <td>0.066821</td>\n",
       "      <td>0.003568</td>\n",
       "      <td>10</td>\n",
       "      <td>75</td>\n",
       "      <td>mean</td>\n",
       "      <td>{'randomforestclassifier__max_depth': 10, 'ran...</td>\n",
       "      <td>0.984863</td>\n",
       "      <td>0.983218</td>\n",
       "      <td>0.979928</td>\n",
       "      <td>0.977295</td>\n",
       "      <td>0.984858</td>\n",
       "      <td>0.982033</td>\n",
       "      <td>0.002976</td>\n",
       "      <td>19</td>\n",
       "    </tr>\n",
       "    <tr>\n",
       "      <th>5</th>\n",
       "      <td>5.944693</td>\n",
       "      <td>0.016015</td>\n",
       "      <td>0.066223</td>\n",
       "      <td>0.000488</td>\n",
       "      <td>10</td>\n",
       "      <td>75</td>\n",
       "      <td>median</td>\n",
       "      <td>{'randomforestclassifier__max_depth': 10, 'ran...</td>\n",
       "      <td>0.981244</td>\n",
       "      <td>0.975650</td>\n",
       "      <td>0.976637</td>\n",
       "      <td>0.974005</td>\n",
       "      <td>0.979921</td>\n",
       "      <td>0.977491</td>\n",
       "      <td>0.002693</td>\n",
       "      <td>22</td>\n",
       "    </tr>\n",
       "  </tbody>\n",
       "</table>\n",
       "</div>"
      ],
      "text/plain": [
       "   mean_fit_time  std_fit_time  mean_score_time  std_score_time  \\\n",
       "0       2.111947      0.123558         0.038100        0.007420   \n",
       "1       2.577104      0.167905         0.050268        0.015316   \n",
       "2       4.711791      0.232712         0.048870        0.002600   \n",
       "3       4.250824      0.095844         0.048671        0.002475   \n",
       "4       5.775147      0.026482         0.066821        0.003568   \n",
       "5       5.944693      0.016015         0.066223        0.000488   \n",
       "\n",
       "  param_randomforestclassifier__max_depth  \\\n",
       "0                                      10   \n",
       "1                                      10   \n",
       "2                                      10   \n",
       "3                                      10   \n",
       "4                                      10   \n",
       "5                                      10   \n",
       "\n",
       "  param_randomforestclassifier__n_estimators param_simpleimputer__strategy  \\\n",
       "0                                         25                          mean   \n",
       "1                                         25                        median   \n",
       "2                                         50                          mean   \n",
       "3                                         50                        median   \n",
       "4                                         75                          mean   \n",
       "5                                         75                        median   \n",
       "\n",
       "                                              params  split0_test_score  \\\n",
       "0  {'randomforestclassifier__max_depth': 10, 'ran...           0.982231   \n",
       "1  {'randomforestclassifier__max_depth': 10, 'ran...           0.974334   \n",
       "2  {'randomforestclassifier__max_depth': 10, 'ran...           0.985192   \n",
       "3  {'randomforestclassifier__max_depth': 10, 'ran...           0.978940   \n",
       "4  {'randomforestclassifier__max_depth': 10, 'ran...           0.984863   \n",
       "5  {'randomforestclassifier__max_depth': 10, 'ran...           0.981244   \n",
       "\n",
       "   split1_test_score  split2_test_score  split3_test_score  split4_test_score  \\\n",
       "0           0.978611           0.973676           0.973346           0.980908   \n",
       "1           0.968740           0.972359           0.969069           0.974325   \n",
       "2           0.982889           0.979599           0.975979           0.983213   \n",
       "3           0.974663           0.976637           0.971372           0.977288   \n",
       "4           0.983218           0.979928           0.977295           0.984858   \n",
       "5           0.975650           0.976637           0.974005           0.979921   \n",
       "\n",
       "   mean_test_score  std_test_score  rank_test_score  \n",
       "0         0.977755        0.003655               21  \n",
       "1         0.971765        0.002447               24  \n",
       "2         0.981374        0.003241               20  \n",
       "3         0.975780        0.002595               23  \n",
       "4         0.982033        0.002976               19  \n",
       "5         0.977491        0.002693               22  "
      ]
     },
     "execution_count": 23,
     "metadata": {},
     "output_type": "execute_result"
    }
   ],
   "source": [
    "mask=cv_results[\"param_randomforestclassifier__max_depth\"]==10\n",
    "cv_results[mask]"
   ]
  },
  {
   "cell_type": "code",
   "execution_count": 24,
   "id": "04ffca47",
   "metadata": {},
   "outputs": [
    {
     "data": {
      "image/png": "[encoded data removed]",
      "text/plain": [
       "<Figure size 432x288 with 1 Axes>"
      ]
     },
     "metadata": {
      "needs_background": "light"
     },
     "output_type": "display_data"
    }
   ],
   "source": [
    "mask = cv_results[\"param_randomforestclassifier__max_depth\"]==10\n",
    "# Plot fit time vs n_estimators\n",
    "plt.plot(\n",
    "    cv_results[mask][\"param_randomforestclassifier__n_estimators\"],\n",
    "    cv_results[mask][\"mean_fit_time\"]\n",
    ")\n",
    "# Label axes\n",
    "plt.xlabel(\"Number of Estimators\")\n",
    "plt.ylabel(\"Mean Fit Time [seconds]\")\n",
    "plt.title(\"Training Time vs Estimators (max_depth=10)\");"
   ]
  },
  {
   "cell_type": "markdown",
   "id": "d6c3f236",
   "metadata": {},
   "source": [
    "**Task 5.3.13:** Create a mask for `cv_results` for rows where `\"param_randomforestclassifier__n_estimators\"` equals 25. Then plot `\"param_randomforestclassifier__max_depth\"` on the x-axis and `\"mean_fit_time\"` on the y-axis. Don't forget to label your axes and include a title. \n"
   ]
  },
  {
   "cell_type": "code",
   "execution_count": 25,
   "id": "b51f4227",
   "metadata": {},
   "outputs": [
    {
     "data": {
      "image/png": "[encoded data removed]",
      "text/plain": [
       "<Figure size 432x288 with 1 Axes>"
      ]
     },
     "metadata": {
      "needs_background": "light"
     },
     "output_type": "display_data"
    }
   ],
   "source": [
    "# Create mask\n",
    "mask = cv_results[\"param_randomforestclassifier__n_estimators\"]==25\n",
    "# Plot fit time vs max_depth\n",
    "plt.plot(\n",
    "    cv_results[mask][\"param_randomforestclassifier__max_depth\"],\n",
    "    cv_results[mask][\"mean_fit_time\"]\n",
    ")\n",
    "# Label axes\n",
    "plt.xlabel(\"Max Depth\")\n",
    "plt.ylabel(\"Mean Fit Time [seconds]\")\n",
    "plt.title(\"Training Time vs Max Depth (n_estimators=25)\");"
   ]
  },
  {
   "cell_type": "markdown",
   "id": "c72f1a91",
   "metadata": {},
   "source": [
    "There's a general upwards trend, but we see a lot of up-and-down here. That's because for each max depth, grid search tries two different imputation strategies: mean and median. Median is a lot faster to calculate, so that speeds up training time. \n",
    "\n",
    "Finally, let's look at the hyperparameters that led to the best performance. "
   ]
  },
  {
   "cell_type": "markdown",
   "id": "10675421",
   "metadata": {},
   "source": [
    "**Task 5.3.14:** Extract the best hyperparameters from `model`.\n"
   ]
  },
  {
   "cell_type": "code",
   "execution_count": 26,
   "id": "f6dc2871",
   "metadata": {},
   "outputs": [
    {
     "data": {
      "text/plain": [
       "{'randomforestclassifier__max_depth': 30,\n",
       " 'randomforestclassifier__n_estimators': 50,\n",
       " 'simpleimputer__strategy': 'median'}"
      ]
     },
     "execution_count": 26,
     "metadata": {},
     "output_type": "execute_result"
    }
   ],
   "source": [
    "# Extract best hyperparameters\n",
    "model.best_params_"
   ]
  },
  {
   "cell_type": "code",
   "execution_count": 27,
   "id": "dfe2cb0f",
   "metadata": {},
   "outputs": [
    {
     "data": {
      "text/plain": [
       "0.9982229913906142"
      ]
     },
     "execution_count": 27,
     "metadata": {},
     "output_type": "execute_result"
    }
   ],
   "source": [
    "model.best_score_"
   ]
  },
  {
   "cell_type": "code",
   "execution_count": 28,
   "id": "454e70b5",
   "metadata": {},
   "outputs": [
    {
     "data": {
      "text/plain": [
       "Pipeline(steps=[('simpleimputer', SimpleImputer(strategy='median')),\n",
       "                ('randomforestclassifier',\n",
       "                 RandomForestClassifier(max_depth=30, n_estimators=50,\n",
       "                                        random_state=42))])"
      ]
     },
     "execution_count": 28,
     "metadata": {},
     "output_type": "execute_result"
    }
   ],
   "source": [
    "model.best_estimator_"
   ]
  },
  {
   "cell_type": "code",
   "execution_count": 29,
   "id": "7348e3a0",
   "metadata": {},
   "outputs": [
    {
     "data": {
      "text/plain": [
       "array([False, False, False, ...,  True,  True,  True])"
      ]
     },
     "execution_count": 29,
     "metadata": {},
     "output_type": "execute_result"
    }
   ],
   "source": [
    "model.predict(X_train_over)"
   ]
  },
  {
   "cell_type": "markdown",
   "id": "08bbd095",
   "metadata": {},
   "source": [
    "Note that we don't need to build and train a new model with these settings. Now that the grid search is complete, when we use `model.predict()`, it will serve up predictions using the best model — something that we'll do at the end of this lesson."
   ]
  },
  {
   "cell_type": "markdown",
   "id": "40de0a77",
   "metadata": {},
   "source": [
    "## Evaluate"
   ]
  },
  {
   "cell_type": "markdown",
   "id": "ebd8edcb",
   "metadata": {},
   "source": [
    "All right: The moment of truth. Let's see how our model performs."
   ]
  },
  {
   "cell_type": "markdown",
   "id": "87635d18",
   "metadata": {},
   "source": [
    "**Task 5.3.15:** Calculate the training and test accuracy scores for `model`. \n"
   ]
  },
  {
   "cell_type": "code",
   "execution_count": 30,
   "id": "66ec7c7b",
   "metadata": {},
   "outputs": [
    {
     "name": "stdout",
     "output_type": "stream",
     "text": [
      "Training Accuracy: 1.0\n",
      "Test Accuracy: 0.9599\n"
     ]
    }
   ],
   "source": [
    "acc_train = model.score(X_train,y_train)\n",
    "acc_test = model.score(X_test,y_test)\n",
    "\n",
    "print(\"Training Accuracy:\", round(acc_train, 4))\n",
    "print(\"Test Accuracy:\", round(acc_test, 4))"
   ]
  },
  {
   "cell_type": "markdown",
   "id": "9de16d73",
   "metadata": {},
   "source": [
    "We beat the baseline! Just barely, but we beat it. "
   ]
  },
  {
   "cell_type": "markdown",
   "id": "22cc6ac7",
   "metadata": {},
   "source": [
    "Next, we're going to use a confusion matrix to see how our model performs. To better understand the values we'll see in the matrix, let's first count how many observations in our test set belong to the positive and negative classes. "
   ]
  },
  {
   "cell_type": "code",
   "execution_count": 31,
   "id": "00a70523",
   "metadata": {},
   "outputs": [
    {
     "data": {
      "text/plain": [
       "False    1912\n",
       "True       84\n",
       "Name: bankrupt, dtype: int64"
      ]
     },
     "execution_count": 31,
     "metadata": {},
     "output_type": "execute_result"
    }
   ],
   "source": [
    "y_test.value_counts()"
   ]
  },
  {
   "cell_type": "markdown",
   "id": "fce46b4d",
   "metadata": {},
   "source": [
    "**Task 5.3.16:** Plot a confusion matrix that shows how your best model performs on your test set. \n"
   ]
  },
  {
   "cell_type": "code",
   "execution_count": 32,
   "id": "db9a0f7e",
   "metadata": {},
   "outputs": [
    {
     "data": {
      "text/plain": [
       "<sklearn.metrics._plot.confusion_matrix.ConfusionMatrixDisplay at 0x18697deb130>"
      ]
     },
     "execution_count": 32,
     "metadata": {},
     "output_type": "execute_result"
    },
    {
     "data": {
      "image/png": "[encoded data removed]",
      "text/plain": [
       "<Figure size 432x288 with 2 Axes>"
      ]
     },
     "metadata": {
      "needs_background": "light"
     },
     "output_type": "display_data"
    }
   ],
   "source": [
    "# Plot confusion matrix\n",
    "ConfusionMatrixDisplay.from_estimator(model,X_test,y_test)"
   ]
  },
  {
   "cell_type": "markdown",
   "id": "d98448d5",
   "metadata": {},
   "source": [
    "Notice the relationship between the numbers in this matrix with the count you did the previous task. If you sum the values in the bottom row, you get the total number of positive observations in `y_test` ($72 + 11 = 83$). And the top row sum to the number of negative observations ($1903 + 10 = 1913$)."
   ]
  },
  {
   "cell_type": "markdown",
   "id": "f3d98c19",
   "metadata": {},
   "source": [
    "# Communicate"
   ]
  },
  {
   "cell_type": "markdown",
   "id": "4ce8da56",
   "metadata": {},
   "source": [
    "**Task 5.3.17:** Create a horizontal bar chart with the 10 most important features for your model. "
   ]
  },
  {
   "cell_type": "code",
   "execution_count": 33,
   "id": "cb9a63d1",
   "metadata": {},
   "outputs": [
    {
     "data": {
      "image/png": "[encoded data removed]",
      "text/plain": [
       "<Figure size 432x288 with 1 Axes>"
      ]
     },
     "metadata": {
      "needs_background": "light"
     },
     "output_type": "display_data"
    }
   ],
   "source": [
    "# Get feature names from training data\n",
    "features = X_train_over.columns\n",
    "# Extract importances from model\n",
    "importances = model.best_estimator_.named_steps[\"randomforestclassifier\"].feature_importances_\n",
    "# Create a series with feature names and importances\n",
    "feat_imp = pd.Series(importances,index=features).sort_values()\n",
    "# Plot 10 most important features\n",
    "feat_imp.tail(10).plot(kind=\"barh\")\n",
    "plt.xlabel(\"Gini Importance\")\n",
    "plt.ylabel(\"Feature\")\n",
    "plt.title(\"Feature Importance\");"
   ]
  },
  {
   "cell_type": "markdown",
   "id": "db2b37ba",
   "metadata": {},
   "source": [
    "**Task 5.3.18:** Using a context manager, save your best-performing model to a a file named `\"model-5-3.pkl\"`. "
   ]
  },
  {
   "cell_type": "code",
   "execution_count": 34,
   "id": "55b1ca24",
   "metadata": {},
   "outputs": [],
   "source": [
    "# Save model\n",
    "with open(\"model-5-3.pkl\",\"wb\") as f :\n",
    "    pickle.dump(model.best_estimator_,f)"
   ]
  },
  {
   "cell_type": "markdown",
   "id": "35605205",
   "metadata": {},
   "source": [
    "**Task 5.3.19:** Create a function `make_predictions`. It should take two arguments: the path of a JSON file that contains test data and the path of a serialized model. The function should load and clean the data using the `wrangle` function you created, load the model, generate an array of predictions, and convert that array into a Series. (The Series should have the name `\"bankrupt\"` and the same index labels as the test data.) Finally, the function should return its predictions as a Series. \n"
   ]
  },
  {
   "cell_type": "code",
   "execution_count": 36,
   "id": "611c8d88",
   "metadata": {},
   "outputs": [],
   "source": [
    "def make_predictions(data_filepath, model_filepath):\n",
    "    # Wrangle JSON file\n",
    "    X_test = wrangle(data_filepath)\n",
    "    # Load model\n",
    "    with open (model_filepath, \"rb\") as f:\n",
    "        model = pickle.load(f)\n",
    "    # Generate predictions\n",
    "    y_test_pred = model.predict(X_test)\n",
    "    # Put predictions into Series with name \"bankrupt\", and same index as X_test\n",
    "    y_test_pred = pd.Series(y_test_pred, index=X_test.index, name=\"bankrupt\")\n",
    "    return y_test_pred"
   ]
  },
  {
   "cell_type": "markdown",
   "id": "9313827c",
   "metadata": {},
   "source": [
    "**Task 5.3.20:** Use the code below to check your `make_predictions` function. Once you're satisfied with the result, submit it to the grader. "
   ]
  },
  {
   "cell_type": "code",
   "execution_count": 37,
   "id": "2a0025b0",
   "metadata": {},
   "outputs": [
    {
     "name": "stdout",
     "output_type": "stream",
     "text": [
      "predictions shape: (526,)\n"
     ]
    },
    {
     "data": {
      "text/plain": [
       "company_id\n",
       "9     False\n",
       "28    False\n",
       "40    False\n",
       "81    False\n",
       "83    False\n",
       "Name: bankrupt, dtype: bool"
      ]
     },
     "execution_count": 37,
     "metadata": {},
     "output_type": "execute_result"
    }
   ],
   "source": [
    "y_test_pred = make_predictions(\n",
    "    data_filepath=\"data/poland-bankruptcy-data-2009-mvp-features.json.gz\",\n",
    "    model_filepath=\"model-5-3.pkl\",\n",
    ")\n",
    "\n",
    "print(\"predictions shape:\", y_test_pred.shape)\n",
    "y_test_pred.head()"
   ]
  },
  {
   "cell_type": "code",
   "execution_count": null,
   "id": "56e98ce6",
   "metadata": {},
   "outputs": [],
   "source": []
  }
 ],
 "metadata": {
  "kernelspec": {
   "display_name": "Python 3 (ipykernel)",
   "language": "python",
   "name": "python3"
  },
  "language_info": {
   "codemirror_mode": {
    "name": "ipython",
    "version": 3
   },
   "file_extension": ".py",
   "mimetype": "text/x-python",
   "name": "python",
   "nbconvert_exporter": "python",
   "pygments_lexer": "ipython3",
   "version": "3.9.12"
  }
 },
 "nbformat": 4,
 "nbformat_minor": 5
}
